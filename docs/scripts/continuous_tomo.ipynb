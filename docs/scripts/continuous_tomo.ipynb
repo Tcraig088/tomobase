{
 "cells": [
  {
   "cell_type": "markdown",
   "metadata": {},
   "source": [
    "This Juypter Notebook provides apis specific to the publication:\n",
    "\n",
    " \"Towards Continuous Time-Dependent Tomography: Implementation and Evaluation of Continuous Acquisition Schemes in Electron Tomography\""
   ]
  },
  {
   "cell_type": "code",
   "execution_count": null,
   "metadata": {},
   "outputs": [],
   "source": [
    "import tomobase.tiltschemes as tiltschemes\n",
    "import numpy as np\n",
    "\n",
    "# Get tilt angles \n",
    "#ts = tiltschemes.Binary(-64, 64, 8) # Binary\n",
    "#ts = tiltschemes.Incremental(-64, 64, 8) # Incremental\n",
    "ts = tiltschemes.GRS(-64, 64, 8) # GRS\n",
    "\n",
    "angles = np.array[ts.get_angles() for i in range(65)] # get angles"
   ]
  },
  {
   "cell_type": "code",
   "execution_count": null,
   "metadata": {},
   "outputs": [],
   "source": [
    "# get phantoms nanocage (also referred to as nanoshell - simulate tilt series)\n",
    "\n",
    "import tomobase.phantoms as phantoms\n",
    "import tomobase.processes as processes\n",
    "\n",
    "vol = phantoms.get_nanocage()\n",
    "sino = processes.project(vol, angles)\n",
    "\n",
    "\n"
   ]
  },
  {
   "cell_type": "code",
   "execution_count": null,
   "metadata": {},
   "outputs": [],
   "source": [
    "sino_noisy = processes.poisson_noise(sino, 0.1) # 0.1, 1, 10, 100\n",
    "sino_blurry = processes.gaussian_filter(sino_noisy, 1) \n"
   ]
  },
  {
   "cell_type": "code",
   "execution_count": null,
   "metadata": {},
   "outputs": [],
   "source": [
    "\n",
    "rec = processes.optomo_reconstruct(sino, 100, True, False) # Astra. Optomo reconstruct (SIRT, iterations=100)\n",
    "# weighted by projection is set to false"
   ]
  },
  {
   "cell_type": "code",
   "execution_count": null,
   "metadata": {},
   "outputs": [],
   "source": [
    "from skimage.metrics import structural_similarity\n",
    "\n",
    "ssim = structural_similarity(vol, rec, data_range=rec.data.max() - rec.data.min())\n",
    "rmse = np.sqrt(np.mean((vol - rec) ** 2))\n",
    "\n",
    "print(f'SSIM: {ssim}, RMSE: {rmse}')"
   ]
  },
  {
   "cell_type": "code",
   "execution_count": null,
   "metadata": {},
   "outputs": [],
   "source": [
    "# Artificially create backlash\n",
    "\n",
    "backlash = 1\n",
    "indices = np.where(np.diff(sino.angles) < 0)[0] + 1\n",
    "cumulated_backlash = backlash * len(indices) # total cumullated backlash off entire tilt series\n",
    "sino.angles[indices] -= backlash\n",
    "\n",
    "\n"
   ]
  },
  {
   "cell_type": "code",
   "execution_count": null,
   "metadata": {},
   "outputs": [],
   "source": [
    "\n",
    "# Calculating missing wedge\n",
    "# you can also just generate a tilt series with less projections\n",
    "\n",
    "sino.sort(True) # sort angles by time\n",
    "n = 10 # use first 10 angles\n",
    "angles = sino.angles[:n]\n",
    "missing_wedge = 180 - (np.max(angles) - np.min(angles))"
   ]
  },
  {
   "cell_type": "code",
   "execution_count": null,
   "metadata": {},
   "outputs": [],
   "source": [
    "# For real data\n",
    "\n",
    "sino.from_file('path/to/your/data/file')\n",
    "sino.sort(False) # sort by angle\n",
    "\n",
    "sino = processes.align_sinogram_center_of_mass(sino)\n",
    "sino = processes.align_sinogram_xcorr(sino)\n"
   ]
  },
  {
   "cell_type": "code",
   "execution_count": null,
   "metadata": {},
   "outputs": [],
   "source": [
    "# repeat on loop to align the tilt axis - visualize as you go\n",
    "\n",
    "sino = processes.align_tilt_axis_shift(sino)\n",
    "sino = processes.align_tilt_axis_rotation(sino)"
   ]
  },
  {
   "cell_type": "code",
   "execution_count": null,
   "metadata": {},
   "outputs": [],
   "source": [
    "# for comparison to the tilt series reproject and segment\n",
    "# otsu threshold from skimage\n",
    "# binary dilate\n",
    "\n",
    "from skimage.filters import threshold_otsu\n",
    "from skimage.morphology import binary_dilation\n",
    "\n",
    "thresh = threshold_otsu(sino.data)\n",
    "mask = sino.data > thresh\n",
    "dilated_mask = binary_dilation(mask, iterations=4)\n",
    "\n",
    "reprojection = processes.project(rec, sino.angles)\n",
    "reprojection.data = reprojection.data * dilated_mask\n",
    "sino.data = sino.data * dilated_mask\n",
    "\n",
    "ssim = structural_similarity(sino.data, reprojection.data, data_range=np.max(reprojection.data) - np.min(reprojection.data))\n",
    "rmse = np.sqrt(np.mean((sino.data - reprojection.data) ** 2))"
   ]
  }
 ],
 "metadata": {
  "kernelspec": {
   "display_name": "total-env",
   "language": "python",
   "name": "python3"
  },
  "language_info": {
   "codemirror_mode": {
    "name": "ipython",
    "version": 3
   },
   "file_extension": ".py",
   "mimetype": "text/x-python",
   "name": "python",
   "nbconvert_exporter": "python",
   "pygments_lexer": "ipython3",
   "version": "3.11.11"
  }
 },
 "nbformat": 4,
 "nbformat_minor": 2
}
