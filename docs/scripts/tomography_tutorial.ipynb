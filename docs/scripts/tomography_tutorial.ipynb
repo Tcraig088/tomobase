{
 "cells": [
  {
   "cell_type": "markdown",
   "id": "d1c3947e",
   "metadata": {},
   "source": [
    "# User Guide\n",
    "\n",
    "The purpose of this section is to show how to use the tomobase library. \n"
   ]
  },
  {
   "cell_type": "markdown",
   "id": "c204c738",
   "metadata": {},
   "source": [
    "## Package Settings\n",
    "\n",
    "The tomo base library uses a number of global dictionaries in order to store data and functions. By using these functions plugins can be added to the library from external packages or set the package settings on the top level. \n",
    "\n",
    "All functions use the logger for verbose messaging to Juypter and the library xp to switch between using the CPU and GPU. \n",
    "\n",
    "\n",
    "\n",
    "\n"
   ]
  },
  {
   "cell_type": "code",
   "execution_count": null,
   "id": "1d20bf49",
   "metadata": {},
   "outputs": [],
   "source": [
    "from tomobase.globals import  xp, GPUContext, logger\n",
    "\n",
    "logger.setLevel('INFO')\n",
    "xp.set_context(context=GPUContext.NUMPY, device=0) # Note this is currently an experimental feature"
   ]
  },
  {
   "cell_type": "code",
   "execution_count": null,
   "id": "1b201c76",
   "metadata": {},
   "outputs": [],
   "source": [
    "from tomobase.globals import TOMOBASE_PROCESSES, TOMOBASE_DATATYPES, TOMOBASE_TILTSCHEMES, TOMOBASE_PHANTOMS\n",
    "\n",
    "# All libraries have a help function that will list its contents\n",
    "\n",
    "TOMOBASE_PROCESSES.help()\n",
    "TOMOBASE_DATATYPES.help()\n",
    "TOMOBASE_PHANTOMS.help()\n",
    "TOMOBASE_TILTSCHEMES.help()"
   ]
  },
  {
   "cell_type": "markdown",
   "id": "3b859137",
   "metadata": {},
   "source": [
    "### Updating Registers\n",
    "\n",
    "Any function or class decorated with the correct decorator will be recognized and added by the register on update. Please look in Api Reference/Hooks for more information. \n",
    "\n",
    "Note: Currently the registers are built to search tomobase. An update will be made to add a json list of searchable packages.\n"
   ]
  },
  {
   "cell_type": "code",
   "execution_count": null,
   "id": "5e0f4e1b",
   "metadata": {},
   "outputs": [],
   "source": [
    "TOMOBASE_PROCESSES.update() # calling will update the process registry"
   ]
  },
  {
   "cell_type": "markdown",
   "id": "1c5411d8",
   "metadata": {},
   "source": [
    "An example decorated function is provided below. This function takes in a sinogram and modifies it."
   ]
  },
  {
   "cell_type": "code",
   "execution_count": null,
   "id": "490150d4",
   "metadata": {},
   "outputs": [],
   "source": [
    "from tomobase.data import Sinogram\n",
    "from tomobase.hooks import tomobase_hook_process\n",
    "from tomobase.registrations.transforms import TOMOBASE_TRANSFORM_CATEGORIES\n",
    "\n",
    "@tomobase_hook_process(name='Tilt Shift', category=TOMOBASE_TRANSFORM_CATEGORIES.ALIGN.value)\n",
    "def test_function(sino: Sinogram):\n",
    "    sino = sino*5\n",
    "    return sino\n"
   ]
  },
  {
   "cell_type": "markdown",
   "id": "e7ea90c3",
   "metadata": {},
   "source": [
    "## Working With Data Classes\n",
    "\n",
    "Currently the Tomo Base library supportes three data types.\n",
    "\n",
    "- Volume\n",
    "- Sinogram\n",
    "- Image\n",
    "\n",
    "### Reading and Writing\n",
    "\n",
    "Each data class supports reading and writing using from_file or to_file. When no path is specified a Dialog will pop up allowing the selection of a file. Check the API reference on supported file types."
   ]
  },
  {
   "cell_type": "code",
   "execution_count": null,
   "id": "281782d5",
   "metadata": {},
   "outputs": [],
   "source": [
    "from tomobase.data import Sinogram, Volume, Image\n",
    "\n",
    "sinogram = Sinogram.from_file()\n",
    "#sinogram = Sinogram.from_file(\"path/to/sinogram/file\")\n",
    "\n",
    "sinogram.to_file()\n",
    "#sinogram.to_file(\"path/to/sinogram/file\")\n"
   ]
  },
  {
   "cell_type": "markdown",
   "id": "3f10a132",
   "metadata": {},
   "source": [
    "Alternatively, using the phantoms module a volume can be generated."
   ]
  },
  {
   "cell_type": "code",
   "execution_count": null,
   "id": "7bd16920",
   "metadata": {},
   "outputs": [],
   "source": [
    "import tomobase.phantoms as phantoms\n",
    "\n",
    "volume = phantoms.get_nanocage()"
   ]
  },
  {
   "cell_type": "markdown",
   "id": "6f79eccf",
   "metadata": {},
   "source": [
    "### Data Processing\n",
    "\n",
    "Please read the API references doc for available data processing functions. This is an example using project to forward project a volume into a sinogram.\n",
    "\n"
   ]
  },
  {
   "cell_type": "code",
   "execution_count": null,
   "id": "28eb100f",
   "metadata": {},
   "outputs": [],
   "source": [
    "import tomobase.processes as processes\n",
    "import tomobase.tiltschemes\n",
    "import numpy as np\n",
    "\n",
    "tiltschemes = tomobase.tiltschemes.GRS(-70,70,0) # create a tilt scheme\n",
    "angles = np.array([tiltschemes.get_angle(i) for i in range(70)]) # generate an array of angles from a scheme\n",
    "sino = processes.project(volume) # create a sinogram from a volume"
   ]
  },
  {
   "cell_type": "markdown",
   "id": "85d31e88",
   "metadata": {},
   "source": [
    "\n"
   ]
  },
  {
   "cell_type": "markdown",
   "id": "9d244ef5",
   "metadata": {},
   "source": [
    "It is worth noting, that decoration of processes adds two variables to any decorated process \n",
    "\n",
    "- inplace (bool): if False the input data is copied prior to processing. Defaults True to save memory\n",
    "- extend_returns (bool): if the function returns more than a single variable e.g. is a tuple only the first is returned when false. Defaults False. \n"
   ]
  },
  {
   "cell_type": "code",
   "execution_count": null,
   "id": "cd5caea0",
   "metadata": {},
   "outputs": [],
   "source": [
    "# Sinogram is not copied\n",
    "sino = processes.alignments.align_sinogram_xcorr(sino)\n",
    "\n",
    "# Sinogram is copied\n",
    "sino_copy = processes.alignments.align_sinogram_xcorr(sino, inplace=False)\n",
    "\n",
    "# Sinogram and offsets after alignment are outputted\n",
    "sino, offsets = processes.alignments.align_sinogram_xcorr(sino, extend_returns=True)\n"
   ]
  },
  {
   "cell_type": "markdown",
   "id": "0157db4d",
   "metadata": {},
   "source": [
    "## Visulaization\n",
    "\n",
    "If you would like to visualize the data. It is recommended to use [stackview](https://github.com/haesleinhuepf/stackview)"
   ]
  },
  {
   "cell_type": "code",
   "execution_count": null,
   "id": "8fdc0011",
   "metadata": {},
   "outputs": [],
   "source": [
    "\n",
    "import stackview\n",
    "\n",
    "stackview.slice(sino.data) # sinogram\n",
    "stackview.orthogonal(volume.data) # volume"
   ]
  },
  {
   "cell_type": "markdown",
   "id": "07873e32",
   "metadata": {},
   "source": [
    "Docs/scripts in the source code provides more information on how to use "
   ]
  }
 ],
 "metadata": {
  "kernelspec": {
   "display_name": "total-env",
   "language": "python",
   "name": "python3"
  },
  "language_info": {
   "codemirror_mode": {
    "name": "ipython",
    "version": 3
   },
   "file_extension": ".py",
   "mimetype": "text/x-python",
   "name": "python",
   "nbconvert_exporter": "python",
   "pygments_lexer": "ipython3",
   "version": "3.11.11"
  }
 },
 "nbformat": 4,
 "nbformat_minor": 5
}
