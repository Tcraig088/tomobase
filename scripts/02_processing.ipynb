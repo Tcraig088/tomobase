{
 "cells": [
  {
   "cell_type": "markdown",
   "metadata": {},
   "source": [
    "# TomoBase Tutorial\n",
    "\n",
    "This notebook is designed to show the basic processes of how to use the tomobase library for running tomographic processes. To do so each cell in this library outlines how to perform a procedure with the library:\n",
    "\n",
    "Table of Contents:\n",
    "[t](#data-imports)\n"
   ]
  },
  {
   "cell_type": "markdown",
   "metadata": {},
   "source": [
    "## Introduction"
   ]
  },
  {
   "cell_type": "markdown",
   "metadata": {},
   "source": [
    "## "
   ]
  },
  {
   "cell_type": "code",
   "execution_count": null,
   "metadata": {},
   "outputs": [],
   "source": [
    "import tomobase\n",
    "from tomobase import data\n",
    "from tomobase.processes import alignments\n",
    "import ncempy.io as nio\n",
    "import numpy as np \n",
    "import astra\n"
   ]
  },
  {
   "cell_type": "code",
   "execution_count": null,
   "metadata": {},
   "outputs": [],
   "source": [
    "from skimage.util import random_noise\n",
    "import matplotlib.pyplot as plt\n",
    "from tomobase import phantoms \n",
    "\n",
    "vol = tomobase.phantoms.nanocage()\n",
    "scheme  =  tomobase.tiltschemes.Binary(-64, 64, 8)\n",
    "angles = np.array([scheme.get_angle() for i in range(65)])\n",
    "sino = tomobase.processes.project(vol, angles)\n",
    "sino.data = np.random.poisson(sino.data)\n",
    "\n",
    "plt.hist(sino.data.ravel(), bins=100, fc='k', ec='k')\n",
    "plt.show()\n",
    "\n",
    "plt.imshow(sino.data[0,:, :])"
   ]
  },
  {
   "cell_type": "code",
   "execution_count": null,
   "metadata": {},
   "outputs": [],
   "source": [
    "sino = alignments.align_sinogram_center_of_mass(sino2)\n",
    "sino = alignments.align_sinogram_xcorr(sino)\n",
    "sino = alignments.background_subtract_median(sino)\n",
    "sino.show()"
   ]
  },
  {
   "cell_type": "code",
   "execution_count": null,
   "metadata": {},
   "outputs": [],
   "source": [
    "sino = tomobase.data.Sinogram.from_file(r'\\\\ematbyname\\emat\\TimC\\tiltscheme_paper\\aunpinc_aligned.mrc')\n",
    "obj = alignments.MaskBackgroundManual(sino)\n"
   ]
  },
  {
   "cell_type": "code",
   "execution_count": null,
   "metadata": {},
   "outputs": [],
   "source": [
    "from skimage.filters import threshold_otsu\n",
    "from scipy.ndimage import  binary_dilation\n",
    "from skimage.metrics import peak_signal_noise_ratio, structural_similarity\n",
    "import tomobase.processes.alignments\n",
    "\n",
    "sino = tomobase.data.Sinogram.from_file(r'\\\\ematbyname\\emat\\TimC\\tiltscheme_paper\\aunpinc_aligned.mrc')\n",
    "threshold = threshold_otsu(sino.data)\n",
    "mask = sino.data < threshold\n",
    "mask = binary_dilation(mask, iterations=4)\n",
    "\n",
    "sino_inc = tomobase.data.Sinogram.from_file(r'\\\\ematbyname\\emat\\TimC\\tiltscheme_paper\\aunpinc_aligned.mrc')\n",
    "sino_bin =  tomobase.data.Sinogram.from_file(r'\\\\ematbyname\\emat\\TimC\\tiltscheme_paper\\aunpbin_aligned.mrc')\n",
    "sino_grs = tomobase.data.Sinogram.from_file(r'\\\\ematbyname\\emat\\TimC\\tiltscheme_paper\\aunpgrs_aligned.mrc')\n",
    "\n",
    "sinos = [sino_inc, sino_bin, sino_grs]\n",
    "for sino in sinos:\n",
    "    threshold = threshold_otsu(sino.data)\n",
    "    mask = sino.data < threshold\n",
    "    mask = binary_dilation(mask, iterations=4)\n",
    "    sino.data[~mask] = 0\n",
    "    sino = tomobase.processes.alignments.normalize(sino)\n",
    "    rec = tomobase.processes.reconstruct_weighted_sirt(sino, iterations=100, weighted=True)\n",
    "    sino = tomobase.processes.alignments.weight_by_angle(sino)\n",
    "    \n",
    "    projections = tomobase.processes.project(rec, sino.angles)\n",
    "    mae = np.mean(np.abs(projections.data - sino.data))\n",
    "    ssim = structural_similarity(projections.data, sino.data, data_range=(sino.data.max() - sino.data.min()))\n",
    "    print(mae, ssim)\n",
    "    \n",
    "\n"
   ]
  },
  {
   "cell_type": "code",
   "execution_count": null,
   "metadata": {},
   "outputs": [],
   "source": [
    "from tomobase import processes\n",
    "import tomobase.processes.alignments\n",
    "\n",
    "sino = tomobase.processes.alignments.align_tilt_axis_shift(sino)"
   ]
  },
  {
   "cell_type": "code",
   "execution_count": null,
   "metadata": {},
   "outputs": [],
   "source": [
    "sino2 = obj.sino  \n",
    "sino.show()"
   ]
  },
  {
   "cell_type": "code",
   "execution_count": null,
   "metadata": {},
   "outputs": [],
   "source": [
    "sino = processes.alignments.bin(sino)\n",
    "rec = processes.reconstruct(sino, 'sirt', iterations=100)\n",
    "rec.to_file('AuNP-Incremental.rec')"
   ]
  }
 ],
 "metadata": {
  "kernelspec": {
   "display_name": "total-env",
   "language": "python",
   "name": "python3"
  },
  "language_info": {
   "codemirror_mode": {
    "name": "ipython",
    "version": 3
   },
   "file_extension": ".py",
   "mimetype": "text/x-python",
   "name": "python",
   "nbconvert_exporter": "python",
   "pygments_lexer": "ipython3",
   "version": "3.11.11"
  }
 },
 "nbformat": 4,
 "nbformat_minor": 2
}
