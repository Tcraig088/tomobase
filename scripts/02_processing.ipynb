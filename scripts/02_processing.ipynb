{
 "cells": [
  {
   "cell_type": "markdown",
   "metadata": {},
   "source": [
    "# TomoBase Tutorial\n",
    "\n",
    "This notebook is designed to show the basic processes of how to use the tomobase library for running tomographic processes. To do so each cell in this library outlines how to perform a procedure with the library:\n",
    "\n",
    "Table of Contents:\n",
    "[t](#data-imports)\n"
   ]
  },
  {
   "cell_type": "markdown",
   "metadata": {},
   "source": [
    "## Introduction"
   ]
  },
  {
   "cell_type": "markdown",
   "metadata": {},
   "source": [
    "## "
   ]
  },
  {
   "cell_type": "code",
   "execution_count": null,
   "metadata": {},
   "outputs": [],
   "source": [
    "import tomobase\n",
    "from tomobase import data\n",
    "from tomobase.processes import alignments\n",
    "import ncempy.io as nio\n",
    "import numpy as np \n",
    "import astra\n",
    "print(astra.use_cuda())\n",
    "img2 = nio.ser.fileSER(r'\\\\ematbyname\\emattitan\\Tim\\20250103\\img65_AuNp_1.ser')\n",
    "sino = data.Sinogram.from_file(r'\\\\ematbyname\\emattitan\\Tim\\20250103\\aunp-inc--01temp-242.h5')\n",
    "print(img2.getDataset(0)[0].shape, sino.data.shape)\n",
    "\n",
    "sino.data = np.concatenate((sino.data, img2.getDataset(0)[0][:,:,None]), axis=2)\n",
    "\n",
    "sino.angles = np.append(sino.angles,64)\n",
    "sino.angles = np.delete(sino.angles, 0)\n",
    "sino.data = np.delete(sino.data, 0, axis=2)\n",
    "print(sino.angles, sino.angles.shape)\n",
    "print(sino.data.shape)\n",
    "sino.show()"
   ]
  },
  {
   "cell_type": "code",
   "execution_count": null,
   "metadata": {},
   "outputs": [],
   "source": [
    "sino = alignments.align_sinogram_center_of_mass(sino2)\n",
    "sino = alignments.align_sinogram_xcorr(sino)\n",
    "sino = alignments.background_subtract_median(sino)\n",
    "sino.show()"
   ]
  },
  {
   "cell_type": "code",
   "execution_count": null,
   "metadata": {},
   "outputs": [],
   "source": []
  },
  {
   "cell_type": "code",
   "execution_count": null,
   "metadata": {},
   "outputs": [],
   "source": [
    "\n",
    "obj = alignments.MaskBackground(sino)\n"
   ]
  },
  {
   "cell_type": "code",
   "execution_count": null,
   "metadata": {},
   "outputs": [],
   "source": [
    "from tomobase import processes\n",
    "import tomobase.processes.alignments\n",
    "\n",
    "sino = tomobase.processes.alignments.align_tilt_axis_shift(sino)"
   ]
  },
  {
   "cell_type": "code",
   "execution_count": null,
   "metadata": {},
   "outputs": [],
   "source": [
    "sino2 = obj.sino  \n",
    "sino.show()"
   ]
  },
  {
   "cell_type": "code",
   "execution_count": null,
   "metadata": {},
   "outputs": [],
   "source": [
    "sino = processes.alignments.bin(sino)\n",
    "rec = processes.reconstruct(sino, 'sirt', iterations=100)\n",
    "rec.to_file('AuNP-Incremental.rec')"
   ]
  }
 ],
 "metadata": {
  "kernelspec": {
   "display_name": "total-env",
   "language": "python",
   "name": "python3"
  },
  "language_info": {
   "codemirror_mode": {
    "name": "ipython",
    "version": 3
   },
   "file_extension": ".py",
   "mimetype": "text/x-python",
   "name": "python",
   "nbconvert_exporter": "python",
   "pygments_lexer": "ipython3",
   "version": "3.11.11"
  }
 },
 "nbformat": 4,
 "nbformat_minor": 2
}
