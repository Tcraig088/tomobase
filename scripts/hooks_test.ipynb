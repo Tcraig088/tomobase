{
 "cells": [
  {
   "cell_type": "code",
   "execution_count": 4,
   "id": "db7759d8",
   "metadata": {},
   "outputs": [
    {
     "name": "stdout",
     "output_type": "stream",
     "text": [
      "\n"
     ]
    }
   ],
   "source": [
    "from magicgui.widgets import Container, ComboBox, Label\n",
    "from magicgui import use_app\n",
    "from typing import Union, get_origin, get_args\n",
    "import napari\n",
    "import magicgui\n",
    "import numpy as np\n",
    "from typing import Union, get_origin, get_args\n",
    "from itertools import combinations\n",
    "from functools import partial\n",
    "import tomobase\n",
    "from tomobase.data import Data, Sinogram, Volume, Image \n",
    "from tomobase.registrations.datatypes import TOMOBASE_DATATYPES\n",
    "from tomobase.registrations.tiltschemes import  TOMOBASE_TILTSCHEMES\n",
    "from tomobase.log import logger\n",
    "use_app(\"ipynb\")\n",
    "\n",
    "from qtpy.QtWidgets import (\n",
    "    QWidget, QPushButton, QVBoxLayout, QHBoxLayout, QLabel,\n",
    "    QCheckBox, QComboBox, QGridLayout, QSpinBox, QDoubleSpinBox, QLineEdit, QWidget\n",
    ")\n",
    "from qtpy.QtCore import Qt\n",
    "import coolname\n",
    "\n",
    "class TestWidget(Container):\n",
    "    \"\"\"A magicgui-compatible value widget for selecting a layer of a given type.\"\"\"\n",
    "\n",
    "    def __init__(self, *args, annotation=None, name=None, **kwargs):\n",
    "        kwargs.pop(\"value\", None)\n",
    "        kwargs.pop(\"nullable\", None)\n",
    "        super().__init__(*args, **kwargs)\n",
    "\n",
    "        self.label = Label(value='Layer')\n",
    "        self.combobox =   ComboBox(choices=['A', 'B', 'C'], value='A')\n",
    "\n",
    "        self.append(self.label)\n",
    "        self.append(self.combobox)\n",
    "        \n",
    "    def _on_value_change(self, value=None):\n",
    "        self.changed.emit(self.value)\n",
    "\n",
    "    @property\n",
    "    def value(self):\n",
    "        data = tomobase.phantoms.nanocage()\n",
    "        data.metadata['name'] = self.combobox.value\n",
    "        print('Do stuff, ', data.metadata['name'])\n",
    "        return data\n",
    "\n",
    "\n",
    "\n",
    "\n",
    "\n",
    "def test_function(image: Volume, bool: bool = True):\n",
    "    print(image, bool)\n",
    "    if bool is False:\n",
    "        return 'value'\n",
    "    return Volume.metadata['name']\n",
    "\n",
    "print()"
   ]
  },
  {
   "cell_type": "code",
   "execution_count": 5,
   "id": "d90867a4",
   "metadata": {},
   "outputs": [
    {
     "name": "stdout",
     "output_type": "stream",
     "text": [
      "[<tomobase.data.volume.Volume object at 0x000002380414E550>, <tomobase.data.volume.Volume object at 0x0000023876144290>, <tomobase.data.volume.Volume object at 0x0000023802634ED0>]\n",
      "A\n",
      "B\n",
      "C\n"
     ]
    },
    {
     "data": {
      "application/vnd.jupyter.widget-view+json": {
       "model_id": "c32f0bc630e1499397d816aad579d808",
       "version_major": 2,
       "version_minor": 0
      },
      "text/plain": [
       "VBox(children=(HBox(children=(Label(value=\"Label(value='Layer', annotation=None, name='')\", layout=Layout(min_…"
      ]
     },
     "execution_count": 5,
     "metadata": {},
     "output_type": "execute_result"
    },
    {
     "ename": "EmitLoopError",
     "evalue": "\n\nWhile emitting signal 'magicgui.widgets.PushButton.changed', a TypeError occurred in a callback:\n\n  Signal emitted at: c:\\Users\\TCraig\\AppData\\Local\\miniconda3\\envs\\total-env\\Lib\\site-packages\\magicgui\\widgets\\bases\\_value_widget.py:69, in _on_value_change\n    >  self.changed.emit(value)\n\n  Callback error at: c:\\Users\\TCraig\\AppData\\Local\\miniconda3\\envs\\total-env\\Lib\\site-packages\\magicgui\\widgets\\_function_gui.py:351, in __call__\n    >  value = self._function(*bound.args, **bound.kwargs)\n\n    Local variables:\n       args = ()\n       kwargs = {}\n       update_widget = False\n       sig = <MagicSignature (*, inplace: bool = True, verbose_outputs: b...\n       bound = <BoundArguments (inplace=True, verbose_outputs=False)>\n\nSee TypeError above for original traceback.",
     "output_type": "error",
     "traceback": [
      "\u001b[1;31m---------------------------------------------------------------------------\u001b[0m",
      "\u001b[1;31mTypeError\u001b[0m                                 Traceback (most recent call last)",
      "File \u001b[1;32mc:\\Users\\TCraig\\AppData\\Local\\miniconda3\\envs\\total-env\\Lib\\site-packages\\psygnal\\_signal.py:1196\u001b[0m, in \u001b[0;36mSignalInstance._run_emit_loop\u001b[1;34m(self, args)\u001b[0m\n\u001b[0;32m   1195\u001b[0m     \u001b[38;5;28;01mwith\u001b[39;00m Signal\u001b[38;5;241m.\u001b[39m_emitting(\u001b[38;5;28mself\u001b[39m):\n\u001b[1;32m-> 1196\u001b[0m         \u001b[38;5;28;43mself\u001b[39;49m\u001b[38;5;241;43m.\u001b[39;49m\u001b[43m_run_emit_loop_inner\u001b[49m\u001b[43m(\u001b[49m\u001b[43m)\u001b[49m\n\u001b[0;32m   1197\u001b[0m \u001b[38;5;28;01mexcept\u001b[39;00m \u001b[38;5;167;01mRecursionError\u001b[39;00m \u001b[38;5;28;01mas\u001b[39;00m e:\n",
      "File \u001b[1;32mc:\\Users\\TCraig\\AppData\\Local\\miniconda3\\envs\\total-env\\Lib\\site-packages\\psygnal\\_signal.py:1225\u001b[0m, in \u001b[0;36mSignalInstance._run_emit_loop_immediate\u001b[1;34m(self)\u001b[0m\n\u001b[0;32m   1224\u001b[0m \u001b[38;5;28;01mfor\u001b[39;00m caller \u001b[38;5;129;01min\u001b[39;00m \u001b[38;5;28mself\u001b[39m\u001b[38;5;241m.\u001b[39m_slots:\n\u001b[1;32m-> 1225\u001b[0m     \u001b[43mcaller\u001b[49m\u001b[38;5;241;43m.\u001b[39;49m\u001b[43mcb\u001b[49m\u001b[43m(\u001b[49m\u001b[43margs\u001b[49m\u001b[43m)\u001b[49m\n",
      "File \u001b[1;32mc:\\Users\\TCraig\\AppData\\Local\\miniconda3\\envs\\total-env\\Lib\\site-packages\\psygnal\\_weak_callback.py:360\u001b[0m, in \u001b[0;36mStrongFunction.cb\u001b[1;34m(self, args)\u001b[0m\n\u001b[0;32m    359\u001b[0m \u001b[38;5;28mprint\u001b[39m(inspect\u001b[38;5;241m.\u001b[39msignature(\u001b[38;5;28mself\u001b[39m\u001b[38;5;241m.\u001b[39m_f\u001b[38;5;241m.\u001b[39m\u001b[38;5;21m__init__\u001b[39m), \u001b[38;5;124m'\u001b[39m\u001b[38;5;124min magic gui\u001b[39m\u001b[38;5;124m'\u001b[39m)\n\u001b[1;32m--> 360\u001b[0m \u001b[38;5;28;43mself\u001b[39;49m\u001b[38;5;241;43m.\u001b[39;49m\u001b[43m_f\u001b[49m\u001b[43m(\u001b[49m\u001b[38;5;241;43m*\u001b[39;49m\u001b[38;5;28;43mself\u001b[39;49m\u001b[38;5;241;43m.\u001b[39;49m\u001b[43m_args\u001b[49m\u001b[43m,\u001b[49m\u001b[43m \u001b[49m\u001b[38;5;241;43m*\u001b[39;49m\u001b[43margs\u001b[49m\u001b[43m,\u001b[49m\u001b[43m \u001b[49m\u001b[38;5;241;43m*\u001b[39;49m\u001b[38;5;241;43m*\u001b[39;49m\u001b[38;5;28;43mself\u001b[39;49m\u001b[38;5;241;43m.\u001b[39;49m\u001b[43m_kwargs\u001b[49m\u001b[43m)\u001b[49m\n",
      "File \u001b[1;32mc:\\Users\\TCraig\\AppData\\Local\\miniconda3\\envs\\total-env\\Lib\\site-packages\\magicgui\\widgets\\_function_gui.py:235\u001b[0m, in \u001b[0;36mFunctionGui.__init__.<locals>._disable_button_and_call\u001b[1;34m()\u001b[0m\n\u001b[0;32m    234\u001b[0m \u001b[38;5;28;01mtry\u001b[39;00m:\n\u001b[1;32m--> 235\u001b[0m     \u001b[38;5;28;43mself\u001b[39;49m\u001b[38;5;241;43m.\u001b[39;49m\u001b[38;5;21;43m__call__\u001b[39;49m\u001b[43m(\u001b[49m\u001b[43m)\u001b[49m  \u001b[38;5;66;03m# type: ignore [call-arg]\u001b[39;00m\n\u001b[0;32m    236\u001b[0m \u001b[38;5;28;01mfinally\u001b[39;00m:\n",
      "File \u001b[1;32mc:\\Users\\TCraig\\AppData\\Local\\miniconda3\\envs\\total-env\\Lib\\site-packages\\magicgui\\widgets\\_function_gui.py:351\u001b[0m, in \u001b[0;36mFunctionGui.__call__\u001b[1;34m(self, *args, **kwargs)\u001b[0m\n\u001b[0;32m    350\u001b[0m \u001b[38;5;28;01mwith\u001b[39;00m _function_name_pointing_to_widget(\u001b[38;5;28mself\u001b[39m):\n\u001b[1;32m--> 351\u001b[0m     value \u001b[38;5;241m=\u001b[39m \u001b[38;5;28;43mself\u001b[39;49m\u001b[38;5;241;43m.\u001b[39;49m\u001b[43m_function\u001b[49m\u001b[43m(\u001b[49m\u001b[38;5;241;43m*\u001b[39;49m\u001b[43mbound\u001b[49m\u001b[38;5;241;43m.\u001b[39;49m\u001b[43margs\u001b[49m\u001b[43m,\u001b[49m\u001b[43m \u001b[49m\u001b[38;5;241;43m*\u001b[39;49m\u001b[38;5;241;43m*\u001b[39;49m\u001b[43mbound\u001b[49m\u001b[38;5;241;43m.\u001b[39;49m\u001b[43mkwargs\u001b[49m\u001b[43m)\u001b[49m\n\u001b[0;32m    353\u001b[0m \u001b[38;5;28mself\u001b[39m\u001b[38;5;241m.\u001b[39m_call_count \u001b[38;5;241m+\u001b[39m\u001b[38;5;241m=\u001b[39m \u001b[38;5;241m1\u001b[39m\n",
      "\u001b[1;31mTypeError\u001b[0m: background_subtract_median() missing 1 required positional argument: 'image'",
      "\nThe above exception was the direct cause of the following exception:\n",
      "\u001b[1;31mEmitLoopError\u001b[0m                             Traceback (most recent call last)",
      "File \u001b[1;32mc:\\Users\\TCraig\\AppData\\Local\\miniconda3\\envs\\total-env\\Lib\\site-packages\\magicgui\\backends\\_ipynb\\widgets.py:411\u001b[0m, in \u001b[0;36mPushButton._mgui_bind_change_callback.<locals>.<lambda>\u001b[1;34m(e)\u001b[0m\n\u001b[0;32m    410\u001b[0m \u001b[38;5;28;01mdef\u001b[39;00m \u001b[38;5;21m_mgui_bind_change_callback\u001b[39m(\u001b[38;5;28mself\u001b[39m, callback):\n\u001b[1;32m--> 411\u001b[0m     \u001b[38;5;28mself\u001b[39m\u001b[38;5;241m.\u001b[39m_ipywidget\u001b[38;5;241m.\u001b[39mon_click(\u001b[38;5;28;01mlambda\u001b[39;00m e: \u001b[43mcallback\u001b[49m\u001b[43m(\u001b[49m\u001b[38;5;28;43;01mFalse\u001b[39;49;00m\u001b[43m)\u001b[49m)\n",
      "File \u001b[1;32mc:\\Users\\TCraig\\AppData\\Local\\miniconda3\\envs\\total-env\\Lib\\site-packages\\magicgui\\widgets\\bases\\_value_widget.py:69\u001b[0m, in \u001b[0;36mBaseValueWidget._on_value_change\u001b[1;34m(self, value)\u001b[0m\n\u001b[0;32m     67\u001b[0m \u001b[38;5;28;01mif\u001b[39;00m value \u001b[38;5;129;01mis\u001b[39;00m \u001b[38;5;28mself\u001b[39m\u001b[38;5;241m.\u001b[39mnull_value \u001b[38;5;129;01mand\u001b[39;00m \u001b[38;5;129;01mnot\u001b[39;00m \u001b[38;5;28mself\u001b[39m\u001b[38;5;241m.\u001b[39m_nullable:\n\u001b[0;32m     68\u001b[0m     \u001b[38;5;28;01mreturn\u001b[39;00m\n\u001b[1;32m---> 69\u001b[0m \u001b[38;5;28;43mself\u001b[39;49m\u001b[38;5;241;43m.\u001b[39;49m\u001b[43mchanged\u001b[49m\u001b[38;5;241;43m.\u001b[39;49m\u001b[43memit\u001b[49m\u001b[43m(\u001b[49m\u001b[43mvalue\u001b[49m\u001b[43m)\u001b[49m\n",
      "File \u001b[1;32mc:\\Users\\TCraig\\AppData\\Local\\miniconda3\\envs\\total-env\\Lib\\site-packages\\psygnal\\_signal.py:1176\u001b[0m, in \u001b[0;36mSignalInstance.emit\u001b[1;34m(self, check_nargs, check_types, *args)\u001b[0m\n\u001b[0;32m   1172\u001b[0m     \u001b[38;5;28;01mfrom\u001b[39;00m \u001b[38;5;21;01m.\u001b[39;00m\u001b[38;5;21;01m_group\u001b[39;00m \u001b[38;5;28;01mimport\u001b[39;00m EmissionInfo\n\u001b[0;32m   1174\u001b[0m     SignalInstance\u001b[38;5;241m.\u001b[39m_debug_hook(EmissionInfo(\u001b[38;5;28mself\u001b[39m, args))\n\u001b[1;32m-> 1176\u001b[0m \u001b[38;5;28;43mself\u001b[39;49m\u001b[38;5;241;43m.\u001b[39;49m\u001b[43m_run_emit_loop\u001b[49m\u001b[43m(\u001b[49m\u001b[43margs\u001b[49m\u001b[43m)\u001b[49m\n",
      "File \u001b[1;32mc:\\Users\\TCraig\\AppData\\Local\\miniconda3\\envs\\total-env\\Lib\\site-packages\\psygnal\\_signal.py:1213\u001b[0m, in \u001b[0;36mSignalInstance._run_emit_loop\u001b[1;34m(self, args)\u001b[0m\n\u001b[0;32m   1205\u001b[0m     loop_err \u001b[38;5;241m=\u001b[39m EmitLoopError(\n\u001b[0;32m   1206\u001b[0m         exc\u001b[38;5;241m=\u001b[39mcb_err,\n\u001b[0;32m   1207\u001b[0m         signal\u001b[38;5;241m=\u001b[39m\u001b[38;5;28mself\u001b[39m,\n\u001b[1;32m   (...)\u001b[0m\n\u001b[0;32m   1210\u001b[0m         emit_queue\u001b[38;5;241m=\u001b[39m\u001b[38;5;28mself\u001b[39m\u001b[38;5;241m.\u001b[39m_emit_queue,\n\u001b[0;32m   1211\u001b[0m     )\u001b[38;5;241m.\u001b[39mwith_traceback(cb_err\u001b[38;5;241m.\u001b[39m__traceback__)\n\u001b[0;32m   1212\u001b[0m     \u001b[38;5;66;03m# this comment will show up in the traceback\u001b[39;00m\n\u001b[1;32m-> 1213\u001b[0m     \u001b[38;5;28;01mraise\u001b[39;00m loop_err \u001b[38;5;28;01mfrom\u001b[39;00m \u001b[38;5;21;01mcb_err\u001b[39;00m  \u001b[38;5;66;03m# emit() call ABOVE || callback error BELOW\u001b[39;00m\n\u001b[0;32m   1214\u001b[0m \u001b[38;5;28;01mfinally\u001b[39;00m:\n\u001b[0;32m   1215\u001b[0m     \u001b[38;5;28mself\u001b[39m\u001b[38;5;241m.\u001b[39m_recursion_depth \u001b[38;5;241m-\u001b[39m\u001b[38;5;241m=\u001b[39m \u001b[38;5;241m1\u001b[39m\n",
      "File \u001b[1;32mc:\\Users\\TCraig\\AppData\\Local\\miniconda3\\envs\\total-env\\Lib\\site-packages\\psygnal\\_signal.py:1196\u001b[0m, in \u001b[0;36mSignalInstance._run_emit_loop\u001b[1;34m(self, args)\u001b[0m\n\u001b[0;32m   1192\u001b[0m     \u001b[38;5;28mself\u001b[39m\u001b[38;5;241m.\u001b[39m_max_recursion_depth \u001b[38;5;241m=\u001b[39m \u001b[38;5;28mmax\u001b[39m(\n\u001b[0;32m   1193\u001b[0m         \u001b[38;5;28mself\u001b[39m\u001b[38;5;241m.\u001b[39m_max_recursion_depth, \u001b[38;5;28mself\u001b[39m\u001b[38;5;241m.\u001b[39m_recursion_depth\n\u001b[0;32m   1194\u001b[0m     )\n\u001b[0;32m   1195\u001b[0m     \u001b[38;5;28;01mwith\u001b[39;00m Signal\u001b[38;5;241m.\u001b[39m_emitting(\u001b[38;5;28mself\u001b[39m):\n\u001b[1;32m-> 1196\u001b[0m         \u001b[38;5;28;43mself\u001b[39;49m\u001b[38;5;241;43m.\u001b[39;49m\u001b[43m_run_emit_loop_inner\u001b[49m\u001b[43m(\u001b[49m\u001b[43m)\u001b[49m\n\u001b[0;32m   1197\u001b[0m \u001b[38;5;28;01mexcept\u001b[39;00m \u001b[38;5;167;01mRecursionError\u001b[39;00m \u001b[38;5;28;01mas\u001b[39;00m e:\n\u001b[0;32m   1198\u001b[0m     \u001b[38;5;28;01mraise\u001b[39;00m \u001b[38;5;167;01mRecursionError\u001b[39;00m(\n\u001b[0;32m   1199\u001b[0m         \u001b[38;5;124mf\u001b[39m\u001b[38;5;124m\"\u001b[39m\u001b[38;5;124mRecursionError when \u001b[39m\u001b[38;5;124m\"\u001b[39m\n\u001b[0;32m   1200\u001b[0m         \u001b[38;5;124mf\u001b[39m\u001b[38;5;124m\"\u001b[39m\u001b[38;5;124memitting signal \u001b[39m\u001b[38;5;132;01m{\u001b[39;00m\u001b[38;5;28mself\u001b[39m\u001b[38;5;241m.\u001b[39mname\u001b[38;5;132;01m!r}\u001b[39;00m\u001b[38;5;124m with args \u001b[39m\u001b[38;5;132;01m{\u001b[39;00margs\u001b[38;5;132;01m}\u001b[39;00m\u001b[38;5;124m\"\u001b[39m\n\u001b[0;32m   1201\u001b[0m     ) \u001b[38;5;28;01mfrom\u001b[39;00m \u001b[38;5;21;01me\u001b[39;00m\n",
      "File \u001b[1;32mc:\\Users\\TCraig\\AppData\\Local\\miniconda3\\envs\\total-env\\Lib\\site-packages\\psygnal\\_signal.py:1225\u001b[0m, in \u001b[0;36mSignalInstance._run_emit_loop_immediate\u001b[1;34m(self)\u001b[0m\n\u001b[0;32m   1223\u001b[0m args \u001b[38;5;241m=\u001b[39m \u001b[38;5;28mself\u001b[39m\u001b[38;5;241m.\u001b[39m_emit_queue\u001b[38;5;241m.\u001b[39mpopleft()\n\u001b[0;32m   1224\u001b[0m \u001b[38;5;28;01mfor\u001b[39;00m caller \u001b[38;5;129;01min\u001b[39;00m \u001b[38;5;28mself\u001b[39m\u001b[38;5;241m.\u001b[39m_slots:\n\u001b[1;32m-> 1225\u001b[0m     \u001b[43mcaller\u001b[49m\u001b[38;5;241;43m.\u001b[39;49m\u001b[43mcb\u001b[49m\u001b[43m(\u001b[49m\u001b[43margs\u001b[49m\u001b[43m)\u001b[49m\n",
      "File \u001b[1;32mc:\\Users\\TCraig\\AppData\\Local\\miniconda3\\envs\\total-env\\Lib\\site-packages\\psygnal\\_weak_callback.py:360\u001b[0m, in \u001b[0;36mStrongFunction.cb\u001b[1;34m(self, args)\u001b[0m\n\u001b[0;32m    358\u001b[0m \u001b[38;5;28;01mimport\u001b[39;00m \u001b[38;5;21;01minspect\u001b[39;00m\n\u001b[0;32m    359\u001b[0m \u001b[38;5;28mprint\u001b[39m(inspect\u001b[38;5;241m.\u001b[39msignature(\u001b[38;5;28mself\u001b[39m\u001b[38;5;241m.\u001b[39m_f\u001b[38;5;241m.\u001b[39m\u001b[38;5;21m__init__\u001b[39m), \u001b[38;5;124m'\u001b[39m\u001b[38;5;124min magic gui\u001b[39m\u001b[38;5;124m'\u001b[39m)\n\u001b[1;32m--> 360\u001b[0m \u001b[38;5;28;43mself\u001b[39;49m\u001b[38;5;241;43m.\u001b[39;49m\u001b[43m_f\u001b[49m\u001b[43m(\u001b[49m\u001b[38;5;241;43m*\u001b[39;49m\u001b[38;5;28;43mself\u001b[39;49m\u001b[38;5;241;43m.\u001b[39;49m\u001b[43m_args\u001b[49m\u001b[43m,\u001b[49m\u001b[43m \u001b[49m\u001b[38;5;241;43m*\u001b[39;49m\u001b[43margs\u001b[49m\u001b[43m,\u001b[49m\u001b[43m \u001b[49m\u001b[38;5;241;43m*\u001b[39;49m\u001b[38;5;241;43m*\u001b[39;49m\u001b[38;5;28;43mself\u001b[39;49m\u001b[38;5;241;43m.\u001b[39;49m\u001b[43m_kwargs\u001b[49m\u001b[43m)\u001b[49m\n",
      "File \u001b[1;32mc:\\Users\\TCraig\\AppData\\Local\\miniconda3\\envs\\total-env\\Lib\\site-packages\\magicgui\\widgets\\_function_gui.py:235\u001b[0m, in \u001b[0;36mFunctionGui.__init__.<locals>._disable_button_and_call\u001b[1;34m()\u001b[0m\n\u001b[0;32m    233\u001b[0m \u001b[38;5;28mself\u001b[39m\u001b[38;5;241m.\u001b[39m_call_button\u001b[38;5;241m.\u001b[39menabled \u001b[38;5;241m=\u001b[39m \u001b[38;5;28;01mFalse\u001b[39;00m\n\u001b[0;32m    234\u001b[0m \u001b[38;5;28;01mtry\u001b[39;00m:\n\u001b[1;32m--> 235\u001b[0m     \u001b[38;5;28;43mself\u001b[39;49m\u001b[38;5;241;43m.\u001b[39;49m\u001b[38;5;21;43m__call__\u001b[39;49m\u001b[43m(\u001b[49m\u001b[43m)\u001b[49m  \u001b[38;5;66;03m# type: ignore [call-arg]\u001b[39;00m\n\u001b[0;32m    236\u001b[0m \u001b[38;5;28;01mfinally\u001b[39;00m:\n\u001b[0;32m    237\u001b[0m     \u001b[38;5;28mself\u001b[39m\u001b[38;5;241m.\u001b[39m_call_button\u001b[38;5;241m.\u001b[39menabled \u001b[38;5;241m=\u001b[39m \u001b[38;5;28;01mTrue\u001b[39;00m\n",
      "File \u001b[1;32mc:\\Users\\TCraig\\AppData\\Local\\miniconda3\\envs\\total-env\\Lib\\site-packages\\magicgui\\widgets\\_function_gui.py:351\u001b[0m, in \u001b[0;36mFunctionGui.__call__\u001b[1;34m(self, *args, **kwargs)\u001b[0m\n\u001b[0;32m    349\u001b[0m \u001b[38;5;28mself\u001b[39m\u001b[38;5;241m.\u001b[39m_tqdm_depth \u001b[38;5;241m=\u001b[39m \u001b[38;5;241m0\u001b[39m  \u001b[38;5;66;03m# reset the tqdm stack count\u001b[39;00m\n\u001b[0;32m    350\u001b[0m \u001b[38;5;28;01mwith\u001b[39;00m _function_name_pointing_to_widget(\u001b[38;5;28mself\u001b[39m):\n\u001b[1;32m--> 351\u001b[0m     value \u001b[38;5;241m=\u001b[39m \u001b[38;5;28;43mself\u001b[39;49m\u001b[38;5;241;43m.\u001b[39;49m\u001b[43m_function\u001b[49m\u001b[43m(\u001b[49m\u001b[38;5;241;43m*\u001b[39;49m\u001b[43mbound\u001b[49m\u001b[38;5;241;43m.\u001b[39;49m\u001b[43margs\u001b[49m\u001b[43m,\u001b[49m\u001b[43m \u001b[49m\u001b[38;5;241;43m*\u001b[39;49m\u001b[38;5;241;43m*\u001b[39;49m\u001b[43mbound\u001b[49m\u001b[38;5;241;43m.\u001b[39;49m\u001b[43mkwargs\u001b[49m\u001b[43m)\u001b[49m\n\u001b[0;32m    353\u001b[0m \u001b[38;5;28mself\u001b[39m\u001b[38;5;241m.\u001b[39m_call_count \u001b[38;5;241m+\u001b[39m\u001b[38;5;241m=\u001b[39m \u001b[38;5;241m1\u001b[39m\n\u001b[0;32m    354\u001b[0m \u001b[38;5;28;01mif\u001b[39;00m \u001b[38;5;28mself\u001b[39m\u001b[38;5;241m.\u001b[39m_result_widget \u001b[38;5;129;01mis\u001b[39;00m \u001b[38;5;129;01mnot\u001b[39;00m \u001b[38;5;28;01mNone\u001b[39;00m:\n",
      "\u001b[1;31mEmitLoopError\u001b[0m: \n\nWhile emitting signal 'magicgui.widgets.PushButton.changed', a TypeError occurred in a callback:\n\n  Signal emitted at: c:\\Users\\TCraig\\AppData\\Local\\miniconda3\\envs\\total-env\\Lib\\site-packages\\magicgui\\widgets\\bases\\_value_widget.py:69, in _on_value_change\n    >  self.changed.emit(value)\n\n  Callback error at: c:\\Users\\TCraig\\AppData\\Local\\miniconda3\\envs\\total-env\\Lib\\site-packages\\magicgui\\widgets\\_function_gui.py:351, in __call__\n    >  value = self._function(*bound.args, **bound.kwargs)\n\n    Local variables:\n       args = ()\n       kwargs = {}\n       update_widget = False\n       sig = <MagicSignature (*, inplace: bool = True, verbose_outputs: b...\n       bound = <BoundArguments (inplace=True, verbose_outputs=False)>\n\nSee TypeError above for original traceback."
     ]
    }
   ],
   "source": [
    "\n",
    "import tomobase.phantoms\n",
    "from magicgui.widgets import Container, ComboBox, Label\n",
    "from magicgui import use_app\n",
    "from typing import Union, get_origin, get_args\n",
    "import napari\n",
    "import magicgui\n",
    "import numpy as np\n",
    "from typing import Union, get_origin, get_args\n",
    "from itertools import combinations\n",
    "from functools import partial\n",
    "import tomobase\n",
    "from tomobase.data import Data, Sinogram, Volume, Image \n",
    "import tomobase.processes.image_processing\n",
    "from tomobase.registrations.datatypes import TOMOBASE_DATATYPES\n",
    "from tomobase.registrations.tiltschemes import  TOMOBASE_TILTSCHEMES\n",
    "from tomobase.log import logger\n",
    "import copy\n",
    "from magicgui import use_app\n",
    "use_app(\"ipynb\")\n",
    "\n",
    "\n",
    "def test_function(image: Volume, bool: bool = True):\n",
    "    print(image, bool)\n",
    "    if bool is False:\n",
    "        return 'value'\n",
    "    return image.metadata['name']\n",
    "\n",
    "choice_names = ['A', 'B', 'C']\n",
    "choices = [copy.deepcopy(tomobase.phantoms.nanocage()) for i in choice_names]\n",
    "print(choices)\n",
    "for i, obj in enumerate(choices):\n",
    "    \n",
    "    obj.metadata['name'] = choice_names[i]\n",
    "\n",
    "[print(obj.metadata['name']) for obj in choices]\n",
    "\n",
    "\n",
    "gui = magicgui.magicgui(\n",
    "    tomobase.processes.image_processing.background_subtract_median,\n",
    "    call_button=\"Run\", \n",
    "    auto_call=False, result_widget=True,\n",
    "    image = {\"widget_type\": TestWidget}  # 'image' is the first argument name \n",
    "    #image={\"choices\": [(obj.metadata['name'], obj) for obj in choices]}\n",
    "    \n",
    ")\n",
    "\n",
    "#choices.append(copy.deepcopy(tomobase.phantoms.nanocage()))\n",
    "#choices[-1].metadata['name'] = 'D'\n",
    "\n",
    "#gui.image.choices = [(v.metadata['name'], v) for v in choices]\n",
    "gui.show()\n",
    "\n",
    "\n"
   ]
  },
  {
   "cell_type": "code",
   "execution_count": null,
   "id": "4a6d1b61",
   "metadata": {},
   "outputs": [],
   "source": [
    "import qtpy"
   ]
  },
  {
   "cell_type": "code",
   "execution_count": null,
   "id": "67508a4d",
   "metadata": {},
   "outputs": [],
   "source": [
    "import math\n",
    "from enum import Enum\n",
    "\n",
    "\n",
    "\n",
    "class Medium(Enum):\n",
    "    \"\"\"Enum for various media and their refractive indices.\"\"\"\n",
    "\n",
    "    Glass = 1.520\n",
    "    Oil = 1.515\n",
    "    Water = 1.333\n",
    "    Air = 1.0003\n",
    "\n",
    "\n",
    "@magicgui.magicgui(call_button=\"calculate\")\n",
    "def snells_law(n1:Medium, aoi=1.0,  n2=Medium.Water, degrees=True):\n",
    "    \"\"\"Calculate the angle of refraction given two media and an AOI.\"\"\"\n",
    "    if degrees:\n",
    "        aoi = math.radians(aoi)\n",
    "    try:\n",
    "        n1 = n1.value\n",
    "        n2 = n2.value\n",
    "        result = math.asin(n1 * math.sin(aoi) / n2)\n",
    "        return round(math.degrees(result) if degrees else result, 2)\n",
    "    except ValueError:  # math domain error\n",
    "        return \"TIR!\"\n",
    "\n",
    "\n",
    "snells_law.show(run=True)\n"
   ]
  },
  {
   "cell_type": "code",
   "execution_count": null,
   "id": "b605d293",
   "metadata": {},
   "outputs": [],
   "source": [
    "print(gui)\n"
   ]
  }
 ],
 "metadata": {
  "kernelspec": {
   "display_name": "total-env",
   "language": "python",
   "name": "python3"
  },
  "language_info": {
   "codemirror_mode": {
    "name": "ipython",
    "version": 3
   },
   "file_extension": ".py",
   "mimetype": "text/x-python",
   "name": "python",
   "nbconvert_exporter": "python",
   "pygments_lexer": "ipython3",
   "version": "3.11.11"
  }
 },
 "nbformat": 4,
 "nbformat_minor": 5
}
