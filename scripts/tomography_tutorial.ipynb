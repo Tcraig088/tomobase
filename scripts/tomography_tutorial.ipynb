{
 "cells": [
  {
   "cell_type": "markdown",
   "id": "d1c3947e",
   "metadata": {},
   "source": [
    "# Tomo Base Tutorial\n",
    "\n",
    "The purpose of this section is to show how to use the tomobase library. \n",
    "\n",
    "## Table of Contents\n",
    "- [Library Setup](#11-library-setup)\n",
    "- [Network Setup](#12-network-setup)\n",
    "- [Outputting and Saving Data](#13-outputting-and-saving-data)"
   ]
  },
  {
   "cell_type": "markdown",
   "id": "c204c738",
   "metadata": {},
   "source": [
    "## 1.1 Library Setup\n",
    "\n",
    "As discussed in the Readme.md this library is a base tomography library that uses a system of global registrations to allow custom tomography processes to be utilized with other packages and contexts. \n",
    "\n",
    "- logger is the logging system utilized by all registered functions\n",
    "-  xp sets the global context of all functions: the current supported options are CPU (NUMPY) and GPU (CUDA and CUPY)\n",
    "- TOMOBASE_PROCESSES is a global register all all registered tomographic processes\n",
    "- TOMOBASE_DATATYPES is a global register of all supported data types \n",
    "- TOMOBASE_PHANTOMS is a global register of Volume phantoms that can be generated\n",
    "- TOMOBASE_TILTSCHEMES is a global register of tilt schemes\n",
    "\n",
    "The help function will provide a list of all items in the register and documentation.\n",
    "\n",
    "\n"
   ]
  },
  {
   "cell_type": "code",
   "execution_count": null,
   "id": "1d20bf49",
   "metadata": {},
   "outputs": [],
   "source": [
    "import tomobase\n",
    "from tomobase.data import Data, Volume, Sinogram, Image\n",
    "from tomobase.log import logger\n",
    "from tomobase.globals import TOMOBASE_PROCESSES, TOMOBASE_DATATYPES, xp, GPUContext, TOMOBASE_TILTSCHEMES, TOMOBASE_PHANTOMS\n",
    "\n",
    "\n",
    "logger.setLevel('INFO')\n",
    "TOMOBASE_PROCESSES.help()\n",
    "TOMOBASE_DATATYPES.help()\n",
    "TOMOBASE_PHANTOMS.help()\n",
    "TOMOBASE_TILTSCHEMES.help()\n",
    "\n",
    "\n",
    "# Note: Setting the context to CUPY is currently an experimental feature\n",
    "#xp.set_context(context=GPUContext.CUPY, device=0)\n",
    "xp.set_context(context=GPUContext.NUMPY, device=0)"
   ]
  },
  {
   "cell_type": "markdown",
   "id": "3b859137",
   "metadata": {},
   "source": [
    "### 1.1.1. Registering New Processes\n",
    "\n",
    "\n"
   ]
  },
  {
   "cell_type": "code",
   "execution_count": null,
   "id": "490150d4",
   "metadata": {},
   "outputs": [],
   "source": [
    "_subcategories= ['Tilt Axis']\n",
    "from tomobase.hooks import tomobase_hook_process\n",
    "from tomobase.registrations.transforms import TOMOBASE_TRANSFORM_CATEGORIES\n",
    "\n",
    "#Possible Transform categories are ALIGN, PROJECT, RECONSTRUCT, IMAGE_PROCESSING\n",
    "\n",
    "@tomobase_hook_process(name='Tilt Shift', category=TOMOBASE_TRANSFORM_CATEGORIES.ALIGN.value, subcategories=_subcategories, use_numpy=True)\n",
    "def align_tilt_axis_shift(sino: Sinogram, method:str='fbp', offsets:float=0.0, **kwargs):\n",
    "    \"\"\"Test Process Registration\n",
    "    \"\"\"\n",
    "    sino = sino*5\n",
    "    offset = True\n",
    "    return sino, offset\n",
    "\n"
   ]
  },
  {
   "cell_type": "markdown",
   "id": "85d31e88",
   "metadata": {},
   "source": [
    "\n"
   ]
  }
 ],
 "metadata": {
  "kernelspec": {
   "display_name": "total-env",
   "language": "python",
   "name": "python3"
  },
  "language_info": {
   "codemirror_mode": {
    "name": "ipython",
    "version": 3
   },
   "file_extension": ".py",
   "mimetype": "text/x-python",
   "name": "python",
   "nbconvert_exporter": "python",
   "pygments_lexer": "ipython3",
   "version": "3.11.11"
  }
 },
 "nbformat": 4,
 "nbformat_minor": 5
}
