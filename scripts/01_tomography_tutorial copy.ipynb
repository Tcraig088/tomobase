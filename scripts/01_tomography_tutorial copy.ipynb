{
 "cells": [
  {
   "cell_type": "markdown",
   "metadata": {},
   "source": [
    "# TomoBase Tutorial\n",
    "\n",
    "This notebook is designed to show the basic processes of how to use the tomobase library for running tomographic processes. To do so each cell in this library outlines how to perform a procedure with the library:\n",
    "\n",
    "Table of Contents:\n",
    "[t](#data-imports)\n"
   ]
  },
  {
   "cell_type": "markdown",
   "metadata": {},
   "source": [
    "## 1.0 Introduction\n",
    "\n",
    "### 1.1. Environment Setup and Documentation\n",
    "\n",
    "The tomobase module consists of phantoms (3D volumes), Datatypes (Image, Sinogram, Volume and others if used with extension modules). Tiltschemes and image processing functions which can all be imported as follows. Some top level features can be adjusted with the TOMOBASE_ENVIRONMENT.\n",
    "\n",
    "The use of tomobase.help() allows users to see available functions and documentation, and environemntal settings"
   ]
  },
  {
   "cell_type": "markdown",
   "metadata": {},
   "source": [
    "## "
   ]
  },
  {
   "cell_type": "code",
   "execution_count": null,
   "metadata": {},
   "outputs": [],
   "source": [
    "import numpy as np\n",
    "\n",
    "import tomobase\n",
    "import tomobase.phantoms\n",
    "import tomobase.data\n",
    "import tomobase.processes\n",
    "import tomobase.tiltschemes\n",
    "from tomobase.log import logger\n",
    "\n",
    "logger.setLevel('INFO') # set to DEBUG for verbose output set to INFO for less verbose output\n",
    "#tomobase.help() #print documentation for the module and environment set up\n"
   ]
  },
  {
   "cell_type": "code",
   "execution_count": 2,
   "metadata": {},
   "outputs": [],
   "source": [
    "vol = tomobase.phantoms.nanocage() #create a phantom volume\n",
    "tilts = tomobase.tiltschemes.GRS(-70, 70, 2) # Create a tiltscheme for generating angles\n",
    "angles = np.array([tilts.get_angle() for i in range(100)]) # create a list of angles\n",
    "sino = tomobase.processes.project(vol, angles) #project the volume\n",
    "img =  tomobase.data.Image(sino.data[:,:,0]) #create an image object"
   ]
  },
  {
   "cell_type": "markdown",
   "metadata": {},
   "source": [
    "### 1.2. Data Visualization\n",
    "\n",
    "For all data types the data can be visualized using the stackview library using the show() command"
   ]
  },
  {
   "cell_type": "code",
   "execution_count": null,
   "metadata": {},
   "outputs": [],
   "source": [
    "\n",
    "import pandas as pd\n",
    "import numpy as np\n",
    "\n",
    "data = np.random.rand(100, 100) \n",
    "names = [f'sample_{i}' for i in range(10)]\n",
    "test_data = pd.DataFrame({\n",
    "    'tilt': [np.random.rand(100,100) for i in range(10)],\n",
    "    'x': names\n",
    "})"
   ]
  },
  {
   "cell_type": "markdown",
   "metadata": {},
   "source": [
    "### 2.0 Data Processing "
   ]
  },
  {
   "cell_type": "code",
   "execution_count": null,
   "metadata": {},
   "outputs": [],
   "source": [
    "widget = tomobase.processes.alignments.CropSinogram(sino)"
   ]
  },
  {
   "cell_type": "code",
   "execution_count": null,
   "metadata": {},
   "outputs": [],
   "source": [
    "widget = tomobase.processes.alignments.TranslateSinogramManual(sino)"
   ]
  }
 ],
 "metadata": {
  "kernelspec": {
   "display_name": "total-env",
   "language": "python",
   "name": "python3"
  },
  "language_info": {
   "codemirror_mode": {
    "name": "ipython",
    "version": 3
   },
   "file_extension": ".py",
   "mimetype": "text/x-python",
   "name": "python",
   "nbconvert_exporter": "python",
   "pygments_lexer": "ipython3",
   "version": "3.11.11"
  }
 },
 "nbformat": 4,
 "nbformat_minor": 2
}
