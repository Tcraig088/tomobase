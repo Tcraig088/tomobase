{
 "cells": [
  {
   "cell_type": "markdown",
   "metadata": {},
   "source": [
    "# TomoBase Tutorial\n",
    "\n",
    "This notebook is designed to show the basic processes of how to use the tomobase library for running tomographic processes. To do so each cell in this library outlines how to perform a procedure with the library:\n",
    "\n",
    "Table of Contents:\n",
    "[t](#data-imports)\n"
   ]
  },
  {
   "cell_type": "markdown",
   "metadata": {},
   "source": [
    "## 1.0 Introduction\n",
    "\n",
    "### 1.1. Environment Setup and Documentation\n",
    "\n",
    "The tomobase module consists of phantoms (3D volumes), Datatypes (Image, Sinogram, Volume and others if used with extension modules). Tiltschemes and image processing functions which can all be imported as follows. Some top level features can be adjusted with the TOMOBASE_ENVIRONMENT.\n",
    "\n",
    "The use of tomobase.help() allows users to see available functions and documentation, and environemntal settings"
   ]
  },
  {
   "cell_type": "markdown",
   "metadata": {},
   "source": [
    "## "
   ]
  },
  {
   "cell_type": "code",
   "execution_count": 1,
   "metadata": {},
   "outputs": [
    {
     "name": "stdout",
     "output_type": "stream",
     "text": [
      "0.17.0\n",
      "False\n"
     ]
    },
    {
     "name": "stderr",
     "output_type": "stream",
     "text": [
      "WARNING:root:CUPY module not found. Please install it via Conda or pip.\n"
     ]
    },
    {
     "name": "stdout",
     "output_type": "stream",
     "text": [
      "0.17.0\n",
      "False\n"
     ]
    },
    {
     "ename": "AttributeError",
     "evalue": "module 'stackview' has no attribute 'converters'",
     "output_type": "error",
     "traceback": [
      "\u001b[1;31m---------------------------------------------------------------------------\u001b[0m",
      "\u001b[1;31mAttributeError\u001b[0m                            Traceback (most recent call last)",
      "Cell \u001b[1;32mIn[1], line 6\u001b[0m\n\u001b[0;32m      3\u001b[0m \u001b[38;5;28mprint\u001b[39m(stackview\u001b[38;5;241m.\u001b[39m__version__)\n\u001b[0;32m      4\u001b[0m \u001b[38;5;28mprint\u001b[39m(\u001b[38;5;28mhasattr\u001b[39m(stackview, \u001b[38;5;124m'\u001b[39m\u001b[38;5;124mconverters\u001b[39m\u001b[38;5;124m'\u001b[39m))\n\u001b[1;32m----> 6\u001b[0m \u001b[38;5;28;01mimport\u001b[39;00m\u001b[38;5;250m \u001b[39m\u001b[38;5;21;01mtomobase\u001b[39;00m\n\u001b[0;32m      7\u001b[0m \u001b[38;5;28;01mimport\u001b[39;00m\u001b[38;5;250m \u001b[39m\u001b[38;5;21;01mtomobase\u001b[39;00m\u001b[38;5;21;01m.\u001b[39;00m\u001b[38;5;21;01mphantoms\u001b[39;00m\n\u001b[0;32m      8\u001b[0m \u001b[38;5;28;01mimport\u001b[39;00m\u001b[38;5;250m \u001b[39m\u001b[38;5;21;01mtomobase\u001b[39;00m\u001b[38;5;21;01m.\u001b[39;00m\u001b[38;5;21;01mdata\u001b[39;00m\n",
      "File \u001b[1;32mc:\\users\\tcrai\\documents\\code\\python\\timedependenttomo\\timedependenttomography\\submodules\\tomobase\\tomobase\\__init__.py:1\u001b[0m\n\u001b[1;32m----> 1\u001b[0m \u001b[38;5;28;01mfrom\u001b[39;00m\u001b[38;5;250m \u001b[39m\u001b[38;5;21;01mtomobase\u001b[39;00m\u001b[38;5;250m \u001b[39m\u001b[38;5;28;01mimport\u001b[39;00m processes\n\u001b[0;32m      2\u001b[0m \u001b[38;5;28;01mfrom\u001b[39;00m\u001b[38;5;250m \u001b[39m\u001b[38;5;21;01mtomobase\u001b[39;00m\u001b[38;5;250m \u001b[39m\u001b[38;5;28;01mimport\u001b[39;00m plots\n\u001b[0;32m      3\u001b[0m \u001b[38;5;28;01mfrom\u001b[39;00m\u001b[38;5;250m \u001b[39m\u001b[38;5;21;01mtomobase\u001b[39;00m\u001b[38;5;21;01m.\u001b[39;00m\u001b[38;5;21;01mplots\u001b[39;00m\u001b[38;5;250m \u001b[39m\u001b[38;5;28;01mimport\u001b[39;00m Imagine\n",
      "File \u001b[1;32mc:\\users\\tcrai\\documents\\code\\python\\timedependenttomo\\timedependenttomography\\submodules\\tomobase\\tomobase\\processes\\__init__.py:1\u001b[0m\n\u001b[1;32m----> 1\u001b[0m \u001b[38;5;28;01mfrom\u001b[39;00m\u001b[38;5;250m \u001b[39m\u001b[38;5;21;01mtomobase\u001b[39;00m\u001b[38;5;21;01m.\u001b[39;00m\u001b[38;5;21;01mprocesses\u001b[39;00m\u001b[38;5;21;01m.\u001b[39;00m\u001b[38;5;21;01mforward_project\u001b[39;00m\u001b[38;5;250m \u001b[39m\u001b[38;5;28;01mimport\u001b[39;00m project\n\u001b[0;32m      2\u001b[0m \u001b[38;5;28;01mfrom\u001b[39;00m\u001b[38;5;250m \u001b[39m\u001b[38;5;21;01mtomobase\u001b[39;00m\u001b[38;5;21;01m.\u001b[39;00m\u001b[38;5;21;01mprocesses\u001b[39;00m\u001b[38;5;21;01m.\u001b[39;00m\u001b[38;5;21;01mreconstruct\u001b[39;00m\u001b[38;5;250m \u001b[39m\u001b[38;5;28;01mimport\u001b[39;00m astra_reconstruct, optomo_reconstruct\n",
      "File \u001b[1;32mc:\\users\\tcrai\\documents\\code\\python\\timedependenttomo\\timedependenttomography\\submodules\\tomobase\\tomobase\\processes\\forward_project.py:5\u001b[0m\n\u001b[0;32m      2\u001b[0m \u001b[38;5;28;01mimport\u001b[39;00m\u001b[38;5;250m \u001b[39m\u001b[38;5;21;01mnumpy\u001b[39;00m\u001b[38;5;250m \u001b[39m\u001b[38;5;28;01mas\u001b[39;00m\u001b[38;5;250m \u001b[39m\u001b[38;5;21;01mnp\u001b[39;00m\n\u001b[0;32m      4\u001b[0m \u001b[38;5;28;01mfrom\u001b[39;00m\u001b[38;5;250m \u001b[39m\u001b[38;5;21;01mtomobase\u001b[39;00m\u001b[38;5;21;01m.\u001b[39;00m\u001b[38;5;21;01mutils\u001b[39;00m\u001b[38;5;250m \u001b[39m\u001b[38;5;28;01mimport\u001b[39;00m _create_projector\n\u001b[1;32m----> 5\u001b[0m \u001b[38;5;28;01mfrom\u001b[39;00m\u001b[38;5;250m \u001b[39m\u001b[38;5;21;01mtomobase\u001b[39;00m\u001b[38;5;21;01m.\u001b[39;00m\u001b[38;5;21;01mdata\u001b[39;00m\u001b[38;5;250m \u001b[39m\u001b[38;5;28;01mimport\u001b[39;00m Volume, Sinogram\n\u001b[0;32m      6\u001b[0m \u001b[38;5;28;01mfrom\u001b[39;00m\u001b[38;5;250m \u001b[39m\u001b[38;5;21;01mtomobase\u001b[39;00m\u001b[38;5;21;01m.\u001b[39;00m\u001b[38;5;21;01mlog\u001b[39;00m\u001b[38;5;250m \u001b[39m\u001b[38;5;28;01mimport\u001b[39;00m logger\n\u001b[0;32m      7\u001b[0m \u001b[38;5;28;01mfrom\u001b[39;00m\u001b[38;5;250m \u001b[39m\u001b[38;5;21;01mtomobase\u001b[39;00m\u001b[38;5;21;01m.\u001b[39;00m\u001b[38;5;21;01mhooks\u001b[39;00m\u001b[38;5;250m \u001b[39m\u001b[38;5;28;01mimport\u001b[39;00m tomobase_hook_process\n",
      "File \u001b[1;32mc:\\users\\tcrai\\documents\\code\\python\\timedependenttomo\\timedependenttomography\\submodules\\tomobase\\tomobase\\data\\__init__.py:3\u001b[0m\n\u001b[0;32m      1\u001b[0m \u001b[38;5;28;01mfrom\u001b[39;00m\u001b[38;5;250m \u001b[39m\u001b[38;5;21;01mtomobase\u001b[39;00m\u001b[38;5;21;01m.\u001b[39;00m\u001b[38;5;21;01mdata\u001b[39;00m\u001b[38;5;21;01m.\u001b[39;00m\u001b[38;5;21;01mimage\u001b[39;00m\u001b[38;5;250m \u001b[39m\u001b[38;5;28;01mimport\u001b[39;00m Image\n\u001b[0;32m      2\u001b[0m \u001b[38;5;28;01mfrom\u001b[39;00m\u001b[38;5;250m \u001b[39m\u001b[38;5;21;01mtomobase\u001b[39;00m\u001b[38;5;21;01m.\u001b[39;00m\u001b[38;5;21;01mdata\u001b[39;00m\u001b[38;5;21;01m.\u001b[39;00m\u001b[38;5;21;01mvolume\u001b[39;00m\u001b[38;5;250m \u001b[39m\u001b[38;5;28;01mimport\u001b[39;00m Volume\n\u001b[1;32m----> 3\u001b[0m \u001b[38;5;28;01mfrom\u001b[39;00m\u001b[38;5;250m \u001b[39m\u001b[38;5;21;01mtomobase\u001b[39;00m\u001b[38;5;21;01m.\u001b[39;00m\u001b[38;5;21;01mdata\u001b[39;00m\u001b[38;5;21;01m.\u001b[39;00m\u001b[38;5;21;01msinogram\u001b[39;00m\u001b[38;5;250m \u001b[39m\u001b[38;5;28;01mimport\u001b[39;00m Sinogram\n\u001b[0;32m      4\u001b[0m \u001b[38;5;28;01mfrom\u001b[39;00m\u001b[38;5;250m \u001b[39m\u001b[38;5;21;01mtomobase\u001b[39;00m\u001b[38;5;21;01m.\u001b[39;00m\u001b[38;5;21;01mdata\u001b[39;00m\u001b[38;5;21;01m.\u001b[39;00m\u001b[38;5;21;01mbase\u001b[39;00m\u001b[38;5;250m \u001b[39m\u001b[38;5;28;01mimport\u001b[39;00m Data\n",
      "File \u001b[1;32mc:\\users\\tcrai\\documents\\code\\python\\timedependenttomo\\timedependenttomography\\submodules\\tomobase\\tomobase\\data\\sinogram.py:291\u001b[0m\n\u001b[0;32m    282\u001b[0m \u001b[38;5;66;03m# Register the readers\u001b[39;00m\n\u001b[0;32m    283\u001b[0m Sinogram\u001b[38;5;241m.\u001b[39m_readers \u001b[38;5;241m=\u001b[39m {\n\u001b[0;32m    284\u001b[0m     \u001b[38;5;124m'\u001b[39m\u001b[38;5;124mmrc\u001b[39m\u001b[38;5;124m'\u001b[39m: Sinogram\u001b[38;5;241m.\u001b[39m_read_mrc,\n\u001b[0;32m    285\u001b[0m     \u001b[38;5;124m'\u001b[39m\u001b[38;5;124mali\u001b[39m\u001b[38;5;124m'\u001b[39m: Sinogram\u001b[38;5;241m.\u001b[39m_read_mrc,\n\u001b[1;32m   (...)\u001b[0m\n\u001b[0;32m    288\u001b[0m     \u001b[38;5;124m'\u001b[39m\u001b[38;5;124mh5\u001b[39m\u001b[38;5;124m'\u001b[39m: Sinogram\u001b[38;5;241m.\u001b[39m_read_h5,\n\u001b[0;32m    289\u001b[0m }\n\u001b[1;32m--> 291\u001b[0m \u001b[38;5;129m@stackview\u001b[39m\u001b[38;5;241;43m.\u001b[39;49m\u001b[43mconverters\u001b[49m\u001b[38;5;241m.\u001b[39mregister(Sinogram)\n\u001b[0;32m    292\u001b[0m \u001b[38;5;28;01mdef\u001b[39;00m\u001b[38;5;250m \u001b[39m\u001b[38;5;21mconvert_sinogram\u001b[39m(sino):\n\u001b[0;32m    293\u001b[0m     \u001b[38;5;28;01mreturn\u001b[39;00m sino\u001b[38;5;241m.\u001b[39mdata, {\u001b[38;5;124m\"\u001b[39m\u001b[38;5;124mtitles\u001b[39m\u001b[38;5;124m\"\u001b[39m: sino\u001b[38;5;241m.\u001b[39mlabels()}\n",
      "\u001b[1;31mAttributeError\u001b[0m: module 'stackview' has no attribute 'converters'"
     ]
    }
   ],
   "source": [
    "import numpy as np\n",
    "import stackview\n",
    "print(stackview.__version__)\n",
    "print(hasattr(stackview, 'converters'))\n",
    "\n",
    "import tomobase\n",
    "import tomobase.phantoms\n",
    "import tomobase.data\n",
    "import tomobase.processes\n",
    "import tomobase.tiltschemes\n",
    "from tomobase.log import logger\n",
    "\n",
    "logger.setLevel('INFO') # set to DEBUG for verbose output set to INFO for less verbose output\n",
    "#tomobase.help() #print documentation for the module and environment set up\n",
    "\n",
    "\n"
   ]
  },
  {
   "cell_type": "code",
   "execution_count": null,
   "metadata": {},
   "outputs": [],
   "source": [
    "vol = tomobase.phantoms.nanocage() #create a phantom volume\n",
    "tilts = tomobase.tiltschemes.GRS(-70, 70, 2) # Create a tiltscheme for generating angles\n",
    "angles = np.array([tilts.get_angle() for i in range(100)]) # create a list of angles\n",
    "sino = tomobase.processes.project(vol, angles) #project the volume\n",
    "img =  tomobase.data.Image(sino.data[:,:,0]) #create an image object"
   ]
  },
  {
   "cell_type": "markdown",
   "metadata": {},
   "source": [
    "### 1.2. Data Visualization\n",
    "\n",
    "For all data types the data can be visualized using the stackview library using the show() command"
   ]
  },
  {
   "cell_type": "code",
   "execution_count": null,
   "metadata": {},
   "outputs": [],
   "source": [
    "\n",
    "\n",
    "vol.show()\n",
    "img.show()\n",
    "sino.show()"
   ]
  },
  {
   "cell_type": "markdown",
   "metadata": {},
   "source": [
    "### 2.0 Data Processing "
   ]
  },
  {
   "cell_type": "code",
   "execution_count": null,
   "metadata": {},
   "outputs": [],
   "source": [
    "widget = tomobase.processes.alignments.CropSinogram(sino)"
   ]
  },
  {
   "cell_type": "code",
   "execution_count": null,
   "metadata": {},
   "outputs": [],
   "source": [
    "widget = tomobase.processes.alignments.TranslateSinogramManual(sino)"
   ]
  }
 ],
 "metadata": {
  "kernelspec": {
   "display_name": "total-env",
   "language": "python",
   "name": "python3"
  },
  "language_info": {
   "codemirror_mode": {
    "name": "ipython",
    "version": 3
   },
   "file_extension": ".py",
   "mimetype": "text/x-python",
   "name": "python",
   "nbconvert_exporter": "python",
   "pygments_lexer": "ipython3",
   "version": "3.11.11"
  }
 },
 "nbformat": 4,
 "nbformat_minor": 2
}
