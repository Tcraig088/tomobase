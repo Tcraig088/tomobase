{
 "cells": [
  {
   "cell_type": "markdown",
   "metadata": {},
   "source": [
    "# TomoBase Tutorial\n",
    "\n",
    "This notebook is designed to show the basic processes of how to use the tomobase library for running tomographic processes. To do so each cell in this library outlines how to perform a procedure with the library:\n",
    "\n",
    "Table of Contents:\n",
    "[t](#data-imports)\n"
   ]
  },
  {
   "cell_type": "markdown",
   "metadata": {},
   "source": [
    "## Introduction"
   ]
  },
  {
   "cell_type": "markdown",
   "metadata": {},
   "source": [
    "## "
   ]
  },
  {
   "cell_type": "code",
   "execution_count": null,
   "metadata": {},
   "outputs": [],
   "source": []
  },
  {
   "cell_type": "code",
   "execution_count": 1,
   "metadata": {},
   "outputs": [
    {
     "name": "stderr",
     "output_type": "stream",
     "text": [
      "2024-10-10 18:30:54,407 - DEBUG - This is a debug message\n",
      "2024-10-10 18:30:55,151 - INFO - ProcessItemDict Initialized\n",
      "INFO:tomobase_logger:ProcessItemDict Initialized\n",
      "2024-10-10 18:30:55,151 - INFO - Spec Origin: d:\\code\\python\\gitprojects\\timedependenttomography\\submodules\\tomobase\\tomobase\\__init__.py\n",
      "INFO:tomobase_logger:Spec Origin: d:\\code\\python\\gitprojects\\timedependenttomography\\submodules\\tomobase\\tomobase\\__init__.py\n",
      "2024-10-10 18:30:55,151 - INFO - Module Path: processes\\forward_project.py\n",
      "INFO:tomobase_logger:Module Path: processes\\forward_project.py\n",
      "2024-10-10 18:30:55,151 - INFO - Module Path: processes\\reconstruct.py\n",
      "INFO:tomobase_logger:Module Path: processes\\reconstruct.py\n",
      "2024-10-10 18:30:55,151 - INFO - Module Path: processes\\__init__.py\n",
      "INFO:tomobase_logger:Module Path: processes\\__init__.py\n",
      "2024-10-10 18:30:55,151 - INFO - Module Path: processes\\alignments\\translation.py\n",
      "INFO:tomobase_logger:Module Path: processes\\alignments\\translation.py\n"
     ]
    },
    {
     "data": {
      "text/plain": [
       "<function tomobase.processes.forward_project.project(volume, angles, use_gpu=True, verbose=True)>"
      ]
     },
     "execution_count": 1,
     "metadata": {},
     "output_type": "execute_result"
    }
   ],
   "source": [
    "import tomobase\n",
    "\n",
    "tomobase.processes.project"
   ]
  }
 ],
 "metadata": {
  "kernelspec": {
   "display_name": "tomo-dipster",
   "language": "python",
   "name": "python3"
  },
  "language_info": {
   "codemirror_mode": {
    "name": "ipython",
    "version": 3
   },
   "file_extension": ".py",
   "mimetype": "text/x-python",
   "name": "python",
   "nbconvert_exporter": "python",
   "pygments_lexer": "ipython3",
   "version": "3.11.5"
  }
 },
 "nbformat": 4,
 "nbformat_minor": 2
}
