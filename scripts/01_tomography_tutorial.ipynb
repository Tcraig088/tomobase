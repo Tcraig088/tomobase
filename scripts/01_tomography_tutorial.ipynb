{
 "cells": [
  {
   "cell_type": "markdown",
   "metadata": {},
   "source": [
    "# TomoBase Tutorial\n",
    "\n",
    "This notebook is designed to show the basic processes of how to use the tomobase library for running tomographic processes. To do so each cell in this library outlines how to perform a procedure with the library:\n",
    "\n",
    "Table of Contents:\n",
    "[t](#data-imports)\n"
   ]
  },
  {
   "cell_type": "markdown",
   "metadata": {},
   "source": [
    "## Introduction"
   ]
  },
  {
   "cell_type": "markdown",
   "metadata": {},
   "source": [
    "## "
   ]
  },
  {
   "cell_type": "code",
   "execution_count": 1,
   "metadata": {},
   "outputs": [
    {
     "name": "stderr",
     "output_type": "stream",
     "text": [
      "2024-11-05 13:14:38,485 - DEBUG - This is a debug message\n"
     ]
    },
    {
     "data": {
      "application/vnd.jupyter.widget-view+json": {
       "model_id": "22dd31282f6e4c4683b15d0c4bca6716",
       "version_major": 2,
       "version_minor": 0
      },
      "text/plain": [
       "VBox(children=(VBox(children=(HBox(children=(VBox(children=(ImageWidget(height=256, width=256),)),)), IntSlide…"
      ]
     },
     "metadata": {},
     "output_type": "display_data"
    }
   ],
   "source": [
    "import tomobase\n",
    "from tomobase import data\n",
    "from tomobase.processes import alignments\n",
    "\n",
    "sino = data.Sinogram.from_file(r'\\\\ematbyname\\emattitan\\Tim\\20102024\\auptramped.h5')\n",
    "\n",
    "sino.show()"
   ]
  },
  {
   "cell_type": "code",
   "execution_count": 2,
   "metadata": {},
   "outputs": [
    {
     "data": {
      "application/vnd.jupyter.widget-view+json": {
       "model_id": "7c08163dd4ef4f1e9781ee716a0d69e1",
       "version_major": 2,
       "version_minor": 0
      },
      "text/plain": [
       "VBox(children=(VBox(children=(HBox(children=(VBox(children=(ImageWidget(height=256, width=256),)),)), IntSlide…"
      ]
     },
     "metadata": {},
     "output_type": "display_data"
    }
   ],
   "source": [
    "sino = alignments.align_sinogram_center_of_mass(sino)\n",
    "sino = alignments.align_sinogram_xcorr(sino)\n",
    "sino.show()"
   ]
  },
  {
   "cell_type": "code",
   "execution_count": 1,
   "metadata": {},
   "outputs": [
    {
     "ename": "NameError",
     "evalue": "name 'alignments' is not defined",
     "output_type": "error",
     "traceback": [
      "\u001b[1;31m---------------------------------------------------------------------------\u001b[0m",
      "\u001b[1;31mNameError\u001b[0m                                 Traceback (most recent call last)",
      "Cell \u001b[1;32mIn[1], line 1\u001b[0m\n\u001b[1;32m----> 1\u001b[0m sino \u001b[38;5;241m=\u001b[39m \u001b[43malignments\u001b[49m\u001b[38;5;241m.\u001b[39mMaskBackground(sino)\u001b[38;5;241m.\u001b[39mview()\n",
      "\u001b[1;31mNameError\u001b[0m: name 'alignments' is not defined"
     ]
    }
   ],
   "source": [
    "sino = alignments.MaskBackground(sino).view()"
   ]
  }
 ],
 "metadata": {
  "kernelspec": {
   "display_name": "tomo-dipster",
   "language": "python",
   "name": "python3"
  },
  "language_info": {
   "codemirror_mode": {
    "name": "ipython",
    "version": 3
   },
   "file_extension": ".py",
   "mimetype": "text/x-python",
   "name": "python",
   "nbconvert_exporter": "python",
   "pygments_lexer": "ipython3",
   "version": "3.11.5"
  }
 },
 "nbformat": 4,
 "nbformat_minor": 2
}
