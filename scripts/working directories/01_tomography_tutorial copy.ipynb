{
 "cells": [
  {
   "cell_type": "markdown",
   "metadata": {},
   "source": [
    "# TomoBase Tutorial\n",
    "\n",
    "This notebook is designed to show the basic processes of how to use the tomobase library for running tomographic processes. To do so each cell in this library outlines how to perform a procedure with the library:\n",
    "\n",
    "Table of Contents:\n",
    "[t](#data-imports)\n"
   ]
  },
  {
   "cell_type": "markdown",
   "metadata": {},
   "source": [
    "## 1.0 Introduction\n",
    "\n",
    "### 1.1. Environment Setup and Documentation\n",
    "\n",
    "The tomobase module consists of phantoms (3D volumes), Datatypes (Image, Sinogram, Volume and others if used with extension modules). Tiltschemes and image processing functions which can all be imported as follows. Some top level features can be adjusted with the TOMOBASE_ENVIRONMENT.\n",
    "\n",
    "The use of tomobase.help() allows users to see available functions and documentation, and environemntal settings"
   ]
  },
  {
   "cell_type": "markdown",
   "metadata": {},
   "source": [
    "## "
   ]
  },
  {
   "cell_type": "code",
   "execution_count": 1,
   "metadata": {},
   "outputs": [
    {
     "name": "stdout",
     "output_type": "stream",
     "text": [
      "0.12.0\n",
      "False\n",
      "0.12.0\n",
      "False\n",
      "Help on package tomobase:\n",
      "\n",
      "NAME\n",
      "    tomobase\n",
      "\n",
      "PACKAGE CONTENTS\n",
      "    data (package)\n",
      "    globals\n",
      "    hooks\n",
      "    log\n",
      "    phantoms (package)\n",
      "    plots (package)\n",
      "    processes (package)\n",
      "    registrations (package)\n",
      "    tiltschemes (package)\n",
      "    typehints\n",
      "    utils\n",
      "\n",
      "DATA\n",
      "    TOMOBASE_DATATYPES = <tomobase.registrations.datatypes.DataItemDict ob...\n",
      "    TOMOBASE_PROCESSES = <tomobase.registrations.processes.ProcessItemDict...\n",
      "    TOMOBASE_TILTSCHEMES = <tomobase.registrations.tiltschemes.TiltSchemeI...\n",
      "    TOMOBASE_TRANSFORM_CATEGORIES = <tomobase.registrations.transforms.Tra...\n",
      "    logger = <Logger tomobase_logger (INFO)>\n",
      "\n",
      "FILE\n",
      "    d:\\code\\github\\timedependenttomography\\submodules\\tomobase\\tomobase\\__init__.py\n",
      "\n",
      "\n"
     ]
    }
   ],
   "source": [
    "import numpy as np\n",
    "import stackview\n",
    "print(stackview.__version__)\n",
    "print(hasattr(stackview, 'converters'))\n",
    "\n",
    "import tomobase\n",
    "import tomobase.phantoms\n",
    "import tomobase.data\n",
    "import tomobase.processes\n",
    "import tomobase.tiltschemes\n",
    "from tomobase.log import logger\n",
    "\n",
    "logger.setLevel('INFO') \n",
    "help(tomobase)\n",
    "\n"
   ]
  },
  {
   "cell_type": "code",
   "execution_count": null,
   "metadata": {},
   "outputs": [],
   "source": [
    "vol = tomobase.phantoms.nanocage() #create a phantom volume\n",
    "tilts = tomobase.tiltschemes.GRS(-70, 70, 2) # Create a tiltscheme for generating angles\n",
    "angles = np.array([tilts.get_angle() for i in range(100)]) # create a list of angles\n",
    "sino = tomobase.processes.project(vol, angles) #project the volume\n",
    "img =  tomobase.data.Image(sino.data[:,:,0]) #create an image object"
   ]
  },
  {
   "cell_type": "markdown",
   "metadata": {},
   "source": [
    "### 1.2. Data Visualization\n",
    "\n",
    "For all data types the data can be visualized using the stackview library using the show() command"
   ]
  },
  {
   "cell_type": "code",
   "execution_count": null,
   "metadata": {},
   "outputs": [],
   "source": [
    "\n",
    "\n",
    "vol.show()\n",
    "img.show()\n",
    "sino.show()"
   ]
  },
  {
   "cell_type": "markdown",
   "metadata": {},
   "source": [
    "### 2.0 Data Processing "
   ]
  },
  {
   "cell_type": "code",
   "execution_count": null,
   "metadata": {},
   "outputs": [],
   "source": [
    "widget = tomobase.processes.alignments.CropSinogram(sino)"
   ]
  },
  {
   "cell_type": "code",
   "execution_count": null,
   "metadata": {},
   "outputs": [],
   "source": [
    "widget = tomobase.processes.alignments.TranslateSinogramManual(sino)"
   ]
  }
 ],
 "metadata": {
  "kernelspec": {
   "display_name": "total-env",
   "language": "python",
   "name": "python3"
  },
  "language_info": {
   "codemirror_mode": {
    "name": "ipython",
    "version": 3
   },
   "file_extension": ".py",
   "mimetype": "text/x-python",
   "name": "python",
   "nbconvert_exporter": "python",
   "pygments_lexer": "ipython3",
   "version": "3.11.11"
  }
 },
 "nbformat": 4,
 "nbformat_minor": 2
}
