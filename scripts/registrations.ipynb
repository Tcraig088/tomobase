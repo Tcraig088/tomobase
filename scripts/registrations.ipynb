{
 "cells": [
  {
   "cell_type": "markdown",
   "id": "416f101a",
   "metadata": {},
   "source": [
    "# 2. Registrations Tutorial\n",
    "The purpose of this tutorial is to demontrate how to register new objects with the tomo base regustration system. \n",
    "\n",
    "Please Note: As of current the registration system only searches for new objects within the tomobase library. An update will be made to allow new files to be uploaded or to register new directories for searching the registration system "
   ]
  },
  {
   "cell_type": "markdown",
   "id": "ccd36781",
   "metadata": {},
   "source": [
    "## 2.1. General Usage\n",
    "\n",
    "All registries can be found in tomobase.globals. \n",
    "help(tomobase.globals) will provide the list of all registeries. \n",
    "By default all registers support a help function which will provide the documentation of the registry and a list of all objects within the register.\n",
    "The tomobase.update() function will search registered paths and add all decorated functions within that path into the register. A more comprehensive explanation of each registration function is provided in this notebook. \n",
    "\n",
    "### Table of Contents\n",
    "\n",
    "\n",
    "Note: \n",
    " - progresshandler has been depreciated \n",
    " - xp is currently experimental\n",
    " - the TOMOBASE_DATA is private\n",
    " - logger is a standard pythonic log handler used by all methods in tomobase. This can be set globally and every object will print logs acordingly. \n",
    "\n",
    "\n"
   ]
  },
  {
   "cell_type": "code",
   "execution_count": 5,
   "id": "49f95e9d",
   "metadata": {},
   "outputs": [
    {
     "name": "stdout",
     "output_type": "stream",
     "text": [
      "Help on module tomobase.globals in tomobase:\n",
      "\n",
      "NAME\n",
      "    tomobase.globals\n",
      "\n",
      "DATA\n",
      "    TOMOBASE_DATATYPES = <tomobase.registrations.datatypes.DataItemDict ob...\n",
      "    TOMOBASE_PHANTOMS = <tomobase.registrations.phantoms.PhantomItemDict o...\n",
      "    TOMOBASE_PROCESSES = <tomobase.registrations.processes.ProcessItemDict...\n",
      "    TOMOBASE_TILTSCHEMES = <tomobase.registrations.tiltschemes.TiltSchemeI...\n",
      "    TOMOBASE_TRANSFORM_CATEGORIES = <tomobase.registrations.transforms.Tra...\n",
      "    logger = <Logger tomobase_logger (DEBUG)>\n",
      "    progresshandler = <tomobase.registrations.progress.ProgressHandler obj...\n",
      "    xp = <tomobase.registrations.environment.EnvironmentContext object>\n",
      "\n",
      "FILE\n",
      "    d:\\code\\github\\timedependenttomography\\submodules\\tomobase\\tomobase\\globals.py\n",
      "\n",
      "\n"
     ]
    }
   ],
   "source": [
    "import tomobase\n",
    "from tomobase import globals\n",
    "\n",
    "help(tomobase.globals)\n",
    "\n",
    "# all registers can be found in globals\n",
    "# globals.register.help()\n",
    "# globals.register.update()"
   ]
  },
  {
   "cell_type": "markdown",
   "id": "f80d3b36",
   "metadata": {},
   "source": [
    "## 2.1. TOMOBASE_PROCESSES\n",
    "\n",
    "TOMOBASE_PROCESSES is a registry of functions which manipulate tomography data. To add a function to this registry decorate the function with tomobase hook processes "
   ]
  },
  {
   "cell_type": "code",
   "execution_count": null,
   "id": "030a1e1d",
   "metadata": {},
   "outputs": [],
   "source": [
    "print('hello')"
   ]
  }
 ],
 "metadata": {
  "kernelspec": {
   "display_name": "total-env",
   "language": "python",
   "name": "python3"
  },
  "language_info": {
   "codemirror_mode": {
    "name": "ipython",
    "version": 3
   },
   "file_extension": ".py",
   "mimetype": "text/x-python",
   "name": "python",
   "nbconvert_exporter": "python",
   "pygments_lexer": "ipython3",
   "version": "3.11.11"
  }
 },
 "nbformat": 4,
 "nbformat_minor": 5
}
