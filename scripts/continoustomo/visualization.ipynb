{
 "cells": [
  {
   "cell_type": "code",
   "execution_count": 9,
   "metadata": {},
   "outputs": [
    {
     "name": "stdout",
     "output_type": "stream",
     "text": [
      "Loading C:\\Users\\tcrai\\Documents\\Code\\Python\\tdtomo\\scripts\\../data\\TiltGRS.mat\n"
     ]
    },
    {
     "data": {
      "application/vnd.plotly.v1+json": {
       "config": {
        "plotlyServerURL": "https://plot.ly"
       },
       "data": [
        {
         "fill": "toself",
         "line": {
          "color": "black"
         },
         "mode": "lines",
         "r": [
          0,
          1,
          1,
          0
         ],
         "showlegend": false,
         "theta": [
          0,
          -90,
          -70,
          0
         ],
         "type": "scatterpolar"
        },
        {
         "fill": "toself",
         "line": {
          "color": "black"
         },
         "mode": "lines",
         "r": [
          0,
          1,
          1,
          0
         ],
         "showlegend": false,
         "theta": [
          0,
          90,
          70,
          0
         ],
         "type": "scatterpolar"
        },
        {
         "fill": "toself",
         "line": {
          "color": "grey"
         },
         "mode": "lines",
         "r": [
          0,
          1,
          1,
          0
         ],
         "showlegend": false,
         "theta": [
          0,
          -70,
          -70,
          0
         ],
         "type": "scatterpolar"
        },
        {
         "fill": "toself",
         "line": {
          "color": "grey"
         },
         "mode": "lines",
         "r": [
          0,
          1,
          1,
          0
         ],
         "showlegend": false,
         "theta": [
          0,
          70,
          68.86,
          0
         ],
         "type": "scatterpolar"
        },
        {
         "line": {
          "color": "rgb(68, 1, 84)"
         },
         "mode": "lines",
         "r": [
          0,
          1
         ],
         "showlegend": false,
         "theta": [
          0,
          -70
         ],
         "type": "scatterpolar"
        },
        {
         "line": {
          "color": "rgb(69, 5, 88)"
         },
         "mode": "lines",
         "r": [
          0,
          1
         ],
         "showlegend": false,
         "theta": [
          0,
          16.52
         ],
         "type": "scatterpolar"
        },
        {
         "line": {
          "color": "rgb(70, 11, 94)"
         },
         "mode": "lines",
         "r": [
          0,
          1
         ],
         "showlegend": false,
         "theta": [
          0,
          -36.95
         ],
         "type": "scatterpolar"
        },
        {
         "line": {
          "color": "rgb(71, 15, 98)"
         },
         "mode": "lines",
         "r": [
          0,
          1
         ],
         "showlegend": false,
         "theta": [
          0,
          49.57
         ],
         "type": "scatterpolar"
        },
        {
         "line": {
          "color": "rgb(71, 21, 103)"
         },
         "mode": "lines",
         "r": [
          0,
          1
         ],
         "showlegend": false,
         "theta": [
          0,
          -3.9
         ],
         "type": "scatterpolar"
        },
        {
         "line": {
          "color": "rgb(72, 26, 108)"
         },
         "mode": "lines",
         "r": [
          0,
          1
         ],
         "showlegend": false,
         "theta": [
          0,
          -57.38
         ],
         "type": "scatterpolar"
        },
        {
         "line": {
          "color": "rgb(72, 30, 112)"
         },
         "mode": "lines",
         "r": [
          0,
          1
         ],
         "showlegend": false,
         "theta": [
          0,
          29.15
         ],
         "type": "scatterpolar"
        },
        {
         "line": {
          "color": "rgb(72, 35, 116)"
         },
         "mode": "lines",
         "r": [
          0,
          1
         ],
         "showlegend": false,
         "theta": [
          0,
          -24.33
         ],
         "type": "scatterpolar"
        },
        {
         "line": {
          "color": "rgb(71, 40, 120)"
         },
         "mode": "lines",
         "r": [
          0,
          1
         ],
         "showlegend": false,
         "theta": [
          0,
          62.2
         ],
         "type": "scatterpolar"
        },
        {
         "line": {
          "color": "rgb(71, 44, 123)"
         },
         "mode": "lines",
         "r": [
          0,
          1
         ],
         "showlegend": false,
         "theta": [
          0,
          8.72
         ],
         "type": "scatterpolar"
        },
        {
         "line": {
          "color": "rgb(70, 49, 126)"
         },
         "mode": "lines",
         "r": [
          0,
          1
         ],
         "showlegend": false,
         "theta": [
          0,
          -44.75
         ],
         "type": "scatterpolar"
        },
        {
         "line": {
          "color": "rgb(69, 54, 129)"
         },
         "mode": "lines",
         "r": [
          0,
          1
         ],
         "showlegend": false,
         "theta": [
          0,
          41.77
         ],
         "type": "scatterpolar"
        },
        {
         "line": {
          "color": "rgb(67, 58, 131)"
         },
         "mode": "lines",
         "r": [
          0,
          1
         ],
         "showlegend": false,
         "theta": [
          0,
          -11.7
         ],
         "type": "scatterpolar"
        },
        {
         "line": {
          "color": "rgb(66, 62, 133)"
         },
         "mode": "lines",
         "r": [
          0,
          1
         ],
         "showlegend": false,
         "theta": [
          0,
          -65.18
         ],
         "type": "scatterpolar"
        },
        {
         "line": {
          "color": "rgb(64, 67, 135)"
         },
         "mode": "lines",
         "r": [
          0,
          1
         ],
         "showlegend": false,
         "theta": [
          0,
          21.35
         ],
         "type": "scatterpolar"
        },
        {
         "line": {
          "color": "rgb(63, 71, 136)"
         },
         "mode": "lines",
         "r": [
          0,
          1
         ],
         "showlegend": false,
         "theta": [
          0,
          -32.13
         ],
         "type": "scatterpolar"
        },
        {
         "line": {
          "color": "rgb(61, 75, 137)"
         },
         "mode": "lines",
         "r": [
          0,
          1
         ],
         "showlegend": false,
         "theta": [
          0,
          54.4
         ],
         "type": "scatterpolar"
        },
        {
         "line": {
          "color": "rgb(59, 80, 138)"
         },
         "mode": "lines",
         "r": [
          0,
          1
         ],
         "showlegend": false,
         "theta": [
          0,
          0.92
         ],
         "type": "scatterpolar"
        },
        {
         "line": {
          "color": "rgb(58, 83, 139)"
         },
         "mode": "lines",
         "r": [
          0,
          1
         ],
         "showlegend": false,
         "theta": [
          0,
          -52.55
         ],
         "type": "scatterpolar"
        },
        {
         "line": {
          "color": "rgb(56, 87, 140)"
         },
         "mode": "lines",
         "r": [
          0,
          1
         ],
         "showlegend": false,
         "theta": [
          0,
          33.97
         ],
         "type": "scatterpolar"
        },
        {
         "line": {
          "color": "rgb(54, 91, 140)"
         },
         "mode": "lines",
         "r": [
          0,
          1
         ],
         "showlegend": false,
         "theta": [
          0,
          -19.5
         ],
         "type": "scatterpolar"
        },
        {
         "line": {
          "color": "rgb(52, 94, 141)"
         },
         "mode": "lines",
         "r": [
          0,
          1
         ],
         "showlegend": false,
         "theta": [
          0,
          67.02
         ],
         "type": "scatterpolar"
        },
        {
         "line": {
          "color": "rgb(50, 98, 141)"
         },
         "mode": "lines",
         "r": [
          0,
          1
         ],
         "showlegend": false,
         "theta": [
          0,
          13.54
         ],
         "type": "scatterpolar"
        },
        {
         "line": {
          "color": "rgb(49, 102, 141)"
         },
         "mode": "lines",
         "r": [
          0,
          1
         ],
         "showlegend": false,
         "theta": [
          0,
          -39.93
         ],
         "type": "scatterpolar"
        },
        {
         "line": {
          "color": "rgb(47, 105, 141)"
         },
         "mode": "lines",
         "r": [
          0,
          1
         ],
         "showlegend": false,
         "theta": [
          0,
          46.59
         ],
         "type": "scatterpolar"
        },
        {
         "line": {
          "color": "rgb(46, 109, 142)"
         },
         "mode": "lines",
         "r": [
          0,
          1
         ],
         "showlegend": false,
         "theta": [
          0,
          -6.88
         ],
         "type": "scatterpolar"
        },
        {
         "line": {
          "color": "rgb(44, 113, 142)"
         },
         "mode": "lines",
         "r": [
          0,
          1
         ],
         "showlegend": false,
         "theta": [
          0,
          -60.36
         ],
         "type": "scatterpolar"
        },
        {
         "line": {
          "color": "rgb(43, 116, 142)"
         },
         "mode": "lines",
         "r": [
          0,
          1
         ],
         "showlegend": false,
         "theta": [
          0,
          26.17
         ],
         "type": "scatterpolar"
        },
        {
         "line": {
          "color": "rgb(41, 120, 142)"
         },
         "mode": "lines",
         "r": [
          0,
          1
         ],
         "showlegend": false,
         "theta": [
          0,
          -27.31
         ],
         "type": "scatterpolar"
        },
        {
         "line": {
          "color": "rgb(40, 123, 142)"
         },
         "mode": "lines",
         "r": [
          0,
          1
         ],
         "showlegend": false,
         "theta": [
          0,
          59.22
         ],
         "type": "scatterpolar"
        },
        {
         "line": {
          "color": "rgb(39, 126, 142)"
         },
         "mode": "lines",
         "r": [
          0,
          1
         ],
         "showlegend": false,
         "theta": [
          0,
          5.74
         ],
         "type": "scatterpolar"
        },
        {
         "line": {
          "color": "rgb(37, 130, 142)"
         },
         "mode": "lines",
         "r": [
          0,
          1
         ],
         "showlegend": false,
         "theta": [
          0,
          -47.73
         ],
         "type": "scatterpolar"
        },
        {
         "line": {
          "color": "rgb(36, 134, 141)"
         },
         "mode": "lines",
         "r": [
          0,
          1
         ],
         "showlegend": false,
         "theta": [
          0,
          38.79
         ],
         "type": "scatterpolar"
        },
        {
         "line": {
          "color": "rgb(35, 137, 141)"
         },
         "mode": "lines",
         "r": [
          0,
          1
         ],
         "showlegend": false,
         "theta": [
          0,
          -14.68
         ],
         "type": "scatterpolar"
        },
        {
         "line": {
          "color": "rgb(33, 140, 141)"
         },
         "mode": "lines",
         "r": [
          0,
          1
         ],
         "showlegend": false,
         "theta": [
          0,
          -68.16
         ],
         "type": "scatterpolar"
        },
        {
         "line": {
          "color": "rgb(32, 144, 140)"
         },
         "mode": "lines",
         "r": [
          0,
          1
         ],
         "showlegend": false,
         "theta": [
          0,
          18.37
         ],
         "type": "scatterpolar"
        },
        {
         "line": {
          "color": "rgb(31, 147, 139)"
         },
         "mode": "lines",
         "r": [
          0,
          1
         ],
         "showlegend": false,
         "theta": [
          0,
          -35.11
         ],
         "type": "scatterpolar"
        },
        {
         "line": {
          "color": "rgb(30, 151, 138)"
         },
         "mode": "lines",
         "r": [
          0,
          1
         ],
         "showlegend": false,
         "theta": [
          0,
          51.42
         ],
         "type": "scatterpolar"
        },
        {
         "line": {
          "color": "rgb(30, 153, 138)"
         },
         "mode": "lines",
         "r": [
          0,
          1
         ],
         "showlegend": false,
         "theta": [
          0,
          -2.06
         ],
         "type": "scatterpolar"
        },
        {
         "line": {
          "color": "rgb(30, 157, 136)"
         },
         "mode": "lines",
         "r": [
          0,
          1
         ],
         "showlegend": false,
         "theta": [
          0,
          -55.53
         ],
         "type": "scatterpolar"
        },
        {
         "line": {
          "color": "rgb(31, 161, 135)"
         },
         "mode": "lines",
         "r": [
          0,
          1
         ],
         "showlegend": false,
         "theta": [
          0,
          30.99
         ],
         "type": "scatterpolar"
        },
        {
         "line": {
          "color": "rgb(32, 164, 133)"
         },
         "mode": "lines",
         "r": [
          0,
          1
         ],
         "showlegend": false,
         "theta": [
          0,
          -22.48
         ],
         "type": "scatterpolar"
        },
        {
         "line": {
          "color": "rgb(34, 167, 132)"
         },
         "mode": "lines",
         "r": [
          0,
          1
         ],
         "showlegend": false,
         "theta": [
          0,
          64.04
         ],
         "type": "scatterpolar"
        },
        {
         "line": {
          "color": "rgb(37, 171, 129)"
         },
         "mode": "lines",
         "r": [
          0,
          1
         ],
         "showlegend": false,
         "theta": [
          0,
          10.56
         ],
         "type": "scatterpolar"
        },
        {
         "line": {
          "color": "rgb(40, 174, 127)"
         },
         "mode": "lines",
         "r": [
          0,
          1
         ],
         "showlegend": false,
         "theta": [
          0,
          -42.91
         ],
         "type": "scatterpolar"
        },
        {
         "line": {
          "color": "rgb(44, 177, 125)"
         },
         "mode": "lines",
         "r": [
          0,
          1
         ],
         "showlegend": false,
         "theta": [
          0,
          43.61
         ],
         "type": "scatterpolar"
        },
        {
         "line": {
          "color": "rgb(50, 181, 122)"
         },
         "mode": "lines",
         "r": [
          0,
          1
         ],
         "showlegend": false,
         "theta": [
          0,
          -9.86
         ],
         "type": "scatterpolar"
        },
        {
         "line": {
          "color": "rgb(54, 184, 119)"
         },
         "mode": "lines",
         "r": [
          0,
          1
         ],
         "showlegend": false,
         "theta": [
          0,
          -63.34
         ],
         "type": "scatterpolar"
        },
        {
         "line": {
          "color": "rgb(61, 187, 116)"
         },
         "mode": "lines",
         "r": [
          0,
          1
         ],
         "showlegend": false,
         "theta": [
          0,
          23.19
         ],
         "type": "scatterpolar"
        },
        {
         "line": {
          "color": "rgb(68, 190, 112)"
         },
         "mode": "lines",
         "r": [
          0,
          1
         ],
         "showlegend": false,
         "theta": [
          0,
          -30.29
         ],
         "type": "scatterpolar"
        },
        {
         "line": {
          "color": "rgb(73, 193, 109)"
         },
         "mode": "lines",
         "r": [
          0,
          1
         ],
         "showlegend": false,
         "theta": [
          0,
          56.24
         ],
         "type": "scatterpolar"
        },
        {
         "line": {
          "color": "rgb(81, 196, 104)"
         },
         "mode": "lines",
         "r": [
          0,
          1
         ],
         "showlegend": false,
         "theta": [
          0,
          2.76
         ],
         "type": "scatterpolar"
        },
        {
         "line": {
          "color": "rgb(89, 199, 100)"
         },
         "mode": "lines",
         "r": [
          0,
          1
         ],
         "showlegend": false,
         "theta": [
          0,
          -50.71
         ],
         "type": "scatterpolar"
        },
        {
         "line": {
          "color": "rgb(96, 201, 96)"
         },
         "mode": "lines",
         "r": [
          0,
          1
         ],
         "showlegend": false,
         "theta": [
          0,
          35.81
         ],
         "type": "scatterpolar"
        },
        {
         "line": {
          "color": "rgb(105, 204, 91)"
         },
         "mode": "lines",
         "r": [
          0,
          1
         ],
         "showlegend": false,
         "theta": [
          0,
          -17.66
         ],
         "type": "scatterpolar"
        },
        {
         "line": {
          "color": "rgb(114, 207, 85)"
         },
         "mode": "lines",
         "r": [
          0,
          1
         ],
         "showlegend": false,
         "theta": [
          0,
          68.86
         ],
         "type": "scatterpolar"
        },
        {
         "line": {
          "color": "rgb(121, 209, 81)"
         },
         "mode": "lines",
         "r": [
          0,
          1
         ],
         "showlegend": false,
         "theta": [
          0,
          15.39
         ],
         "type": "scatterpolar"
        },
        {
         "line": {
          "color": "rgb(131, 211, 75)"
         },
         "mode": "lines",
         "r": [
          0,
          1
         ],
         "showlegend": false,
         "theta": [
          0,
          -38.09
         ],
         "type": "scatterpolar"
        },
        {
         "line": {
          "color": "rgb(141, 214, 68)"
         },
         "mode": "lines",
         "r": [
          0,
          1
         ],
         "showlegend": false,
         "theta": [
          0,
          48.44
         ],
         "type": "scatterpolar"
        },
        {
         "line": {
          "color": "rgb(149, 215, 63)"
         },
         "mode": "lines",
         "r": [
          0,
          1
         ],
         "showlegend": false,
         "theta": [
          0,
          -5.04
         ],
         "type": "scatterpolar"
        },
        {
         "line": {
          "color": "rgb(159, 217, 56)"
         },
         "mode": "lines",
         "r": [
          0,
          1
         ],
         "showlegend": false,
         "theta": [
          0,
          -58.51
         ],
         "type": "scatterpolar"
        },
        {
         "line": {
          "color": "rgb(170, 219, 50)"
         },
         "mode": "lines",
         "r": [
          0,
          1
         ],
         "showlegend": false,
         "theta": [
          0,
          28.01
         ],
         "type": "scatterpolar"
        },
        {
         "line": {
          "color": "rgb(178, 221, 44)"
         },
         "mode": "lines",
         "r": [
          0,
          1
         ],
         "showlegend": false,
         "theta": [
          0,
          -25.46
         ],
         "type": "scatterpolar"
        },
        {
         "line": {
          "color": "rgb(189, 222, 38)"
         },
         "mode": "lines",
         "r": [
          0,
          1
         ],
         "showlegend": false,
         "theta": [
          0,
          61.06
         ],
         "type": "scatterpolar"
        },
        {
         "line": {
          "color": "rgb(199, 224, 31)"
         },
         "mode": "lines",
         "r": [
          0,
          1
         ],
         "showlegend": false,
         "theta": [
          0,
          7.58
         ],
         "type": "scatterpolar"
        },
        {
         "line": {
          "color": "rgb(207, 225, 28)"
         },
         "mode": "lines",
         "r": [
          0,
          1
         ],
         "showlegend": false,
         "theta": [
          0,
          -45.89
         ],
         "type": "scatterpolar"
        },
        {
         "line": {
          "color": "rgb(218, 226, 24)"
         },
         "mode": "lines",
         "r": [
          0,
          1
         ],
         "showlegend": false,
         "theta": [
          0,
          40.63
         ],
         "type": "scatterpolar"
        },
        {
         "line": {
          "color": "rgb(228, 227, 24)"
         },
         "mode": "lines",
         "r": [
          0,
          1
         ],
         "showlegend": false,
         "theta": [
          0,
          -12.84
         ],
         "type": "scatterpolar"
        },
        {
         "line": {
          "color": "rgb(236, 228, 26)"
         },
         "mode": "lines",
         "r": [
          0,
          1
         ],
         "showlegend": false,
         "theta": [
          0,
          -66.32
         ],
         "type": "scatterpolar"
        },
        {
         "line": {
          "color": "rgb(246, 230, 31)"
         },
         "mode": "lines",
         "r": [
          0,
          1
         ],
         "showlegend": false,
         "theta": [
          0,
          20.21
         ],
         "type": "scatterpolar"
        },
        {
         "line": {
          "color": "rgb(253, 231, 36)"
         },
         "mode": "lines",
         "r": [
          0,
          1
         ],
         "showlegend": false,
         "theta": [
          0,
          -33.27
         ],
         "type": "scatterpolar"
        },
        {
         "marker": {
          "cmax": 71,
          "cmin": 1,
          "colorbar": {
           "orientation": "h",
           "title": {
            "side": "bottom",
            "text": "Time (s)"
           },
           "x": 0.5,
           "xanchor": "center",
           "y": -0.3,
           "yanchor": "top"
          },
          "colorscale": [
           [
            0,
            "#440154"
           ],
           [
            0.1111111111111111,
            "#482878"
           ],
           [
            0.2222222222222222,
            "#3e4989"
           ],
           [
            0.3333333333333333,
            "#31688e"
           ],
           [
            0.4444444444444444,
            "#26828e"
           ],
           [
            0.5555555555555556,
            "#1f9e89"
           ],
           [
            0.6666666666666666,
            "#35b779"
           ],
           [
            0.7777777777777778,
            "#6ece58"
           ],
           [
            0.8888888888888888,
            "#b5de2b"
           ],
           [
            1,
            "#fde725"
           ]
          ]
         },
         "mode": "markers",
         "showlegend": false,
         "type": "scatter",
         "x": [
          null
         ],
         "y": [
          null
         ]
        }
       ],
       "layout": {
        "autosize": false,
        "height": 600,
        "paper_bgcolor": "white",
        "plot_bgcolor": "white",
        "polar": {
         "angularaxis": {
          "dtick": 30,
          "linecolor": "black",
          "linewidth": 2,
          "rotation": 90,
          "showline": true,
          "thetaunit": "degrees",
          "tickcolor": "black",
          "ticklen": 5,
          "ticks": "outside",
          "tickwidth": 2
         },
         "radialaxis": {
          "range": [
           0,
           1
          ],
          "showline": false,
          "visible": false
         },
         "sector": [
          0,
          180
         ]
        },
        "template": {
         "data": {
          "bar": [
           {
            "error_x": {
             "color": "#2a3f5f"
            },
            "error_y": {
             "color": "#2a3f5f"
            },
            "marker": {
             "line": {
              "color": "#E5ECF6",
              "width": 0.5
             },
             "pattern": {
              "fillmode": "overlay",
              "size": 10,
              "solidity": 0.2
             }
            },
            "type": "bar"
           }
          ],
          "barpolar": [
           {
            "marker": {
             "line": {
              "color": "#E5ECF6",
              "width": 0.5
             },
             "pattern": {
              "fillmode": "overlay",
              "size": 10,
              "solidity": 0.2
             }
            },
            "type": "barpolar"
           }
          ],
          "carpet": [
           {
            "aaxis": {
             "endlinecolor": "#2a3f5f",
             "gridcolor": "white",
             "linecolor": "white",
             "minorgridcolor": "white",
             "startlinecolor": "#2a3f5f"
            },
            "baxis": {
             "endlinecolor": "#2a3f5f",
             "gridcolor": "white",
             "linecolor": "white",
             "minorgridcolor": "white",
             "startlinecolor": "#2a3f5f"
            },
            "type": "carpet"
           }
          ],
          "choropleth": [
           {
            "colorbar": {
             "outlinewidth": 0,
             "ticks": ""
            },
            "type": "choropleth"
           }
          ],
          "contour": [
           {
            "colorbar": {
             "outlinewidth": 0,
             "ticks": ""
            },
            "colorscale": [
             [
              0,
              "#0d0887"
             ],
             [
              0.1111111111111111,
              "#46039f"
             ],
             [
              0.2222222222222222,
              "#7201a8"
             ],
             [
              0.3333333333333333,
              "#9c179e"
             ],
             [
              0.4444444444444444,
              "#bd3786"
             ],
             [
              0.5555555555555556,
              "#d8576b"
             ],
             [
              0.6666666666666666,
              "#ed7953"
             ],
             [
              0.7777777777777778,
              "#fb9f3a"
             ],
             [
              0.8888888888888888,
              "#fdca26"
             ],
             [
              1,
              "#f0f921"
             ]
            ],
            "type": "contour"
           }
          ],
          "contourcarpet": [
           {
            "colorbar": {
             "outlinewidth": 0,
             "ticks": ""
            },
            "type": "contourcarpet"
           }
          ],
          "heatmap": [
           {
            "colorbar": {
             "outlinewidth": 0,
             "ticks": ""
            },
            "colorscale": [
             [
              0,
              "#0d0887"
             ],
             [
              0.1111111111111111,
              "#46039f"
             ],
             [
              0.2222222222222222,
              "#7201a8"
             ],
             [
              0.3333333333333333,
              "#9c179e"
             ],
             [
              0.4444444444444444,
              "#bd3786"
             ],
             [
              0.5555555555555556,
              "#d8576b"
             ],
             [
              0.6666666666666666,
              "#ed7953"
             ],
             [
              0.7777777777777778,
              "#fb9f3a"
             ],
             [
              0.8888888888888888,
              "#fdca26"
             ],
             [
              1,
              "#f0f921"
             ]
            ],
            "type": "heatmap"
           }
          ],
          "heatmapgl": [
           {
            "colorbar": {
             "outlinewidth": 0,
             "ticks": ""
            },
            "colorscale": [
             [
              0,
              "#0d0887"
             ],
             [
              0.1111111111111111,
              "#46039f"
             ],
             [
              0.2222222222222222,
              "#7201a8"
             ],
             [
              0.3333333333333333,
              "#9c179e"
             ],
             [
              0.4444444444444444,
              "#bd3786"
             ],
             [
              0.5555555555555556,
              "#d8576b"
             ],
             [
              0.6666666666666666,
              "#ed7953"
             ],
             [
              0.7777777777777778,
              "#fb9f3a"
             ],
             [
              0.8888888888888888,
              "#fdca26"
             ],
             [
              1,
              "#f0f921"
             ]
            ],
            "type": "heatmapgl"
           }
          ],
          "histogram": [
           {
            "marker": {
             "pattern": {
              "fillmode": "overlay",
              "size": 10,
              "solidity": 0.2
             }
            },
            "type": "histogram"
           }
          ],
          "histogram2d": [
           {
            "colorbar": {
             "outlinewidth": 0,
             "ticks": ""
            },
            "colorscale": [
             [
              0,
              "#0d0887"
             ],
             [
              0.1111111111111111,
              "#46039f"
             ],
             [
              0.2222222222222222,
              "#7201a8"
             ],
             [
              0.3333333333333333,
              "#9c179e"
             ],
             [
              0.4444444444444444,
              "#bd3786"
             ],
             [
              0.5555555555555556,
              "#d8576b"
             ],
             [
              0.6666666666666666,
              "#ed7953"
             ],
             [
              0.7777777777777778,
              "#fb9f3a"
             ],
             [
              0.8888888888888888,
              "#fdca26"
             ],
             [
              1,
              "#f0f921"
             ]
            ],
            "type": "histogram2d"
           }
          ],
          "histogram2dcontour": [
           {
            "colorbar": {
             "outlinewidth": 0,
             "ticks": ""
            },
            "colorscale": [
             [
              0,
              "#0d0887"
             ],
             [
              0.1111111111111111,
              "#46039f"
             ],
             [
              0.2222222222222222,
              "#7201a8"
             ],
             [
              0.3333333333333333,
              "#9c179e"
             ],
             [
              0.4444444444444444,
              "#bd3786"
             ],
             [
              0.5555555555555556,
              "#d8576b"
             ],
             [
              0.6666666666666666,
              "#ed7953"
             ],
             [
              0.7777777777777778,
              "#fb9f3a"
             ],
             [
              0.8888888888888888,
              "#fdca26"
             ],
             [
              1,
              "#f0f921"
             ]
            ],
            "type": "histogram2dcontour"
           }
          ],
          "mesh3d": [
           {
            "colorbar": {
             "outlinewidth": 0,
             "ticks": ""
            },
            "type": "mesh3d"
           }
          ],
          "parcoords": [
           {
            "line": {
             "colorbar": {
              "outlinewidth": 0,
              "ticks": ""
             }
            },
            "type": "parcoords"
           }
          ],
          "pie": [
           {
            "automargin": true,
            "type": "pie"
           }
          ],
          "scatter": [
           {
            "fillpattern": {
             "fillmode": "overlay",
             "size": 10,
             "solidity": 0.2
            },
            "type": "scatter"
           }
          ],
          "scatter3d": [
           {
            "line": {
             "colorbar": {
              "outlinewidth": 0,
              "ticks": ""
             }
            },
            "marker": {
             "colorbar": {
              "outlinewidth": 0,
              "ticks": ""
             }
            },
            "type": "scatter3d"
           }
          ],
          "scattercarpet": [
           {
            "marker": {
             "colorbar": {
              "outlinewidth": 0,
              "ticks": ""
             }
            },
            "type": "scattercarpet"
           }
          ],
          "scattergeo": [
           {
            "marker": {
             "colorbar": {
              "outlinewidth": 0,
              "ticks": ""
             }
            },
            "type": "scattergeo"
           }
          ],
          "scattergl": [
           {
            "marker": {
             "colorbar": {
              "outlinewidth": 0,
              "ticks": ""
             }
            },
            "type": "scattergl"
           }
          ],
          "scattermapbox": [
           {
            "marker": {
             "colorbar": {
              "outlinewidth": 0,
              "ticks": ""
             }
            },
            "type": "scattermapbox"
           }
          ],
          "scatterpolar": [
           {
            "marker": {
             "colorbar": {
              "outlinewidth": 0,
              "ticks": ""
             }
            },
            "type": "scatterpolar"
           }
          ],
          "scatterpolargl": [
           {
            "marker": {
             "colorbar": {
              "outlinewidth": 0,
              "ticks": ""
             }
            },
            "type": "scatterpolargl"
           }
          ],
          "scatterternary": [
           {
            "marker": {
             "colorbar": {
              "outlinewidth": 0,
              "ticks": ""
             }
            },
            "type": "scatterternary"
           }
          ],
          "surface": [
           {
            "colorbar": {
             "outlinewidth": 0,
             "ticks": ""
            },
            "colorscale": [
             [
              0,
              "#0d0887"
             ],
             [
              0.1111111111111111,
              "#46039f"
             ],
             [
              0.2222222222222222,
              "#7201a8"
             ],
             [
              0.3333333333333333,
              "#9c179e"
             ],
             [
              0.4444444444444444,
              "#bd3786"
             ],
             [
              0.5555555555555556,
              "#d8576b"
             ],
             [
              0.6666666666666666,
              "#ed7953"
             ],
             [
              0.7777777777777778,
              "#fb9f3a"
             ],
             [
              0.8888888888888888,
              "#fdca26"
             ],
             [
              1,
              "#f0f921"
             ]
            ],
            "type": "surface"
           }
          ],
          "table": [
           {
            "cells": {
             "fill": {
              "color": "#EBF0F8"
             },
             "line": {
              "color": "white"
             }
            },
            "header": {
             "fill": {
              "color": "#C8D4E3"
             },
             "line": {
              "color": "white"
             }
            },
            "type": "table"
           }
          ]
         },
         "layout": {
          "annotationdefaults": {
           "arrowcolor": "#2a3f5f",
           "arrowhead": 0,
           "arrowwidth": 1
          },
          "autotypenumbers": "strict",
          "coloraxis": {
           "colorbar": {
            "outlinewidth": 0,
            "ticks": ""
           }
          },
          "colorscale": {
           "diverging": [
            [
             0,
             "#8e0152"
            ],
            [
             0.1,
             "#c51b7d"
            ],
            [
             0.2,
             "#de77ae"
            ],
            [
             0.3,
             "#f1b6da"
            ],
            [
             0.4,
             "#fde0ef"
            ],
            [
             0.5,
             "#f7f7f7"
            ],
            [
             0.6,
             "#e6f5d0"
            ],
            [
             0.7,
             "#b8e186"
            ],
            [
             0.8,
             "#7fbc41"
            ],
            [
             0.9,
             "#4d9221"
            ],
            [
             1,
             "#276419"
            ]
           ],
           "sequential": [
            [
             0,
             "#0d0887"
            ],
            [
             0.1111111111111111,
             "#46039f"
            ],
            [
             0.2222222222222222,
             "#7201a8"
            ],
            [
             0.3333333333333333,
             "#9c179e"
            ],
            [
             0.4444444444444444,
             "#bd3786"
            ],
            [
             0.5555555555555556,
             "#d8576b"
            ],
            [
             0.6666666666666666,
             "#ed7953"
            ],
            [
             0.7777777777777778,
             "#fb9f3a"
            ],
            [
             0.8888888888888888,
             "#fdca26"
            ],
            [
             1,
             "#f0f921"
            ]
           ],
           "sequentialminus": [
            [
             0,
             "#0d0887"
            ],
            [
             0.1111111111111111,
             "#46039f"
            ],
            [
             0.2222222222222222,
             "#7201a8"
            ],
            [
             0.3333333333333333,
             "#9c179e"
            ],
            [
             0.4444444444444444,
             "#bd3786"
            ],
            [
             0.5555555555555556,
             "#d8576b"
            ],
            [
             0.6666666666666666,
             "#ed7953"
            ],
            [
             0.7777777777777778,
             "#fb9f3a"
            ],
            [
             0.8888888888888888,
             "#fdca26"
            ],
            [
             1,
             "#f0f921"
            ]
           ]
          },
          "colorway": [
           "#636efa",
           "#EF553B",
           "#00cc96",
           "#ab63fa",
           "#FFA15A",
           "#19d3f3",
           "#FF6692",
           "#B6E880",
           "#FF97FF",
           "#FECB52"
          ],
          "font": {
           "color": "#2a3f5f"
          },
          "geo": {
           "bgcolor": "white",
           "lakecolor": "white",
           "landcolor": "#E5ECF6",
           "showlakes": true,
           "showland": true,
           "subunitcolor": "white"
          },
          "hoverlabel": {
           "align": "left"
          },
          "hovermode": "closest",
          "mapbox": {
           "style": "light"
          },
          "paper_bgcolor": "white",
          "plot_bgcolor": "#E5ECF6",
          "polar": {
           "angularaxis": {
            "gridcolor": "white",
            "linecolor": "white",
            "ticks": ""
           },
           "bgcolor": "#E5ECF6",
           "radialaxis": {
            "gridcolor": "white",
            "linecolor": "white",
            "ticks": ""
           }
          },
          "scene": {
           "xaxis": {
            "backgroundcolor": "#E5ECF6",
            "gridcolor": "white",
            "gridwidth": 2,
            "linecolor": "white",
            "showbackground": true,
            "ticks": "",
            "zerolinecolor": "white"
           },
           "yaxis": {
            "backgroundcolor": "#E5ECF6",
            "gridcolor": "white",
            "gridwidth": 2,
            "linecolor": "white",
            "showbackground": true,
            "ticks": "",
            "zerolinecolor": "white"
           },
           "zaxis": {
            "backgroundcolor": "#E5ECF6",
            "gridcolor": "white",
            "gridwidth": 2,
            "linecolor": "white",
            "showbackground": true,
            "ticks": "",
            "zerolinecolor": "white"
           }
          },
          "shapedefaults": {
           "line": {
            "color": "#2a3f5f"
           }
          },
          "ternary": {
           "aaxis": {
            "gridcolor": "white",
            "linecolor": "white",
            "ticks": ""
           },
           "baxis": {
            "gridcolor": "white",
            "linecolor": "white",
            "ticks": ""
           },
           "bgcolor": "#E5ECF6",
           "caxis": {
            "gridcolor": "white",
            "linecolor": "white",
            "ticks": ""
           }
          },
          "title": {
           "x": 0.05
          },
          "xaxis": {
           "automargin": true,
           "gridcolor": "white",
           "linecolor": "white",
           "ticks": "",
           "title": {
            "standoff": 15
           },
           "zerolinecolor": "white",
           "zerolinewidth": 2
          },
          "yaxis": {
           "automargin": true,
           "gridcolor": "white",
           "linecolor": "white",
           "ticks": "",
           "title": {
            "standoff": 15
           },
           "zerolinecolor": "white",
           "zerolinewidth": 2
          }
         }
        },
        "width": 600,
        "xaxis": {
         "visible": false
        },
        "yaxis": {
         "visible": false
        }
       }
      }
     },
     "metadata": {},
     "output_type": "display_data"
    }
   ],
   "source": [
    "from tomobase.napari.graphs import acquisition_xy_plot, acquisition_radial_plot\n",
    "from tomobase.data import Sinogram\n",
    "from scripts import helper\n",
    "\n",
    "# Load the data\n",
    "path = helper.get_filename('TiltGRS.mat')\n",
    "print(f'Loading {path}')\n",
    "data = Sinogram.from_file(path)\n",
    "acquisition_radial_plot(data)\n",
    "test"
   ]
  },
  {
   "cell_type": "code",
   "execution_count": null,
   "metadata": {},
   "outputs": [],
   "source": []
  }
 ],
 "metadata": {
  "kernelspec": {
   "display_name": "tomo-dipster",
   "language": "python",
   "name": "python3"
  },
  "language_info": {
   "codemirror_mode": {
    "name": "ipython",
    "version": 3
   },
   "file_extension": ".py",
   "mimetype": "text/x-python",
   "name": "python",
   "nbconvert_exporter": "python",
   "pygments_lexer": "ipython3",
   "version": "3.11.5"
  }
 },
 "nbformat": 4,
 "nbformat_minor": 2
}
