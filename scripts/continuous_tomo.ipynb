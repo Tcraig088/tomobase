{
 "cells": [
  {
   "cell_type": "markdown",
   "metadata": {},
   "source": [
    "# Continuous Tomography\n",
    "\n",
    "This Juypter Notebook is a tutorial for generating simulated data for the publication: ..................\n",
    "\n",
    "Table of Contents\n",
    "[Setup](#21-manage-imports)\n",
    "[Tests](#tests)\n"
   ]
  },
  {
   "cell_type": "markdown",
   "metadata": {},
   "source": [
    "### 2.1. Manage Imports \n",
    "This section is to manage imports for libraries necessary to run the code. Data will be simulated from the Nanocage 3D volume."
   ]
  },
  {
   "cell_type": "code",
   "execution_count": null,
   "metadata": {},
   "outputs": [],
   "source": [
    "import astra\n",
    "print(astra.use_cuda())"
   ]
  },
  {
   "cell_type": "code",
   "execution_count": null,
   "metadata": {},
   "outputs": [],
   "source": [
    "import tomobase\n",
    "import numpy as np\n",
    "import tomobase.phantoms\n",
    "import tomobase.processes\n",
    "import tomobase.processes.alignments\n",
    "import tomobase.tiltschemes\n",
    "import pandas as pd\n",
    "\n",
    "from skimage.metrics import peak_signal_noise_ratio, structural_similarity\n",
    "vol = tomobase.phantoms.nanocage()\n",
    "pd.set_option('display.max_rows', None)\n",
    "import astra\n",
    "print(astra.use_cuda())"
   ]
  },
  {
   "cell_type": "code",
   "execution_count": null,
   "metadata": {},
   "outputs": [],
   "source": [
    "import tomobase\n",
    "import numpy as np\n",
    "import tomobase.phantoms\n",
    "import tomobase.processes.alignments\n",
    "import tomobase.tiltschemes\n",
    "import mrcfile\n",
    "\n",
    "\n",
    "vol =  tomobase.phantoms.nanocage()\n",
    "scheme = tomobase.tiltschemes.Binary(-64,64, 8)\n",
    "angles = np.array([scheme.get_angle() for i in range(65)])\n",
    "sino = tomobase.processes.project(vol, angles)\n",
    "tomobase.processes.alignments.poisson_noise(sino, 10)\n",
    "sino.data = np.transpose(sino.data,(2,1,0))\n",
    "sino.to_file('sino.mrc')\n",
    "\n",
    "#meta={'angles': self.angles, 'times': self.times}"
   ]
  },
  {
   "cell_type": "code",
   "execution_count": null,
   "metadata": {},
   "outputs": [],
   "source": [
    "import tomobase\n",
    "import copy\n",
    "from skimage.metrics import peak_signal_noise_ratio, structural_similarity\n",
    "\n",
    "\n",
    "vol =  tomobase.phantoms.nanocage()\n",
    "schemes = get_required_schemes()\n",
    "\n",
    "for scheme in schemes:\n",
    "    angles = np.array([scheme.get_angle() for i in range(65)])\n",
    "    sino = tomobase.processes.project(vol, angles)\n",
    "    rec = tomobase.processes.reconstruct_weighted_sirt(sino, 100, weighted=True)\n",
    "    rmse = np.sqrt(np.mean((vol.data - rec.data)**2))\n",
    "    ssim = structural_similarity(vol.data, rec.data, data_range=1.0)\n",
    "    print('Incremental', rmse, ssim)\n",
    "\n",
    "\n",
    "rec.to_file('inc.rec')\n",
    "print('Done')\n",
    "sinos = [sino_inc, sino_bin, sino_grs]\n",
    "for sino in sinos:\n",
    "    noises = [0, 0.1, 1.0, 10.0]\n",
    "    for noise in noises:\n",
    "        if noise == 0: \n",
    "            sino_noisy = sino\n",
    "        else:\n",
    "            sino_noisy =  tomobase.processes.alignments.poisson_noise(sino_noisy, noise, inplace=False)\n",
    "        rec = tomobase.processes.reconstruct_weighted_sirt(sino_noisy, 100, True, True)\n",
    "        vol2 = copy.deepcopy(vol)\n",
    "        if noise > 0:\n",
    "            vol2 = vol2.data*noise\n",
    "        rmse = np.sqrt(np.mean((vol.data - rec.data)**2))\n",
    "        ssim = structural_similarity(vol.data, rec.data, data_range=rec.data.max() - rec.data.min())\n",
    "        print(noise, rmse, ssim)\n",
    "\n",
    "\n"
   ]
  },
  {
   "cell_type": "markdown",
   "metadata": {},
   "source": [
    "### 2.2 TiltScheme Setup\n",
    "The following section setups a loop to acquire all base tilt scheme angles required in this study"
   ]
  },
  {
   "cell_type": "code",
   "execution_count": null,
   "metadata": {},
   "outputs": [],
   "source": [
    "\n",
    "# return all tiltschemes for basic tests\n",
    "def generate_schemes(scheme_selection=None):\n",
    "    schemes = []\n",
    "    labels = []\n",
    "    angles = []\n",
    "    \n",
    "    if scheme_selection is None:\n",
    "        scheme_selection = [0,1,2]\n",
    "    \n",
    "    for set in scheme_selection: \n",
    "        match set:\n",
    "            case 0:\n",
    "                incremental_schemes = [tomobase.tiltschemes.Incremental(-64, 64, 2), \n",
    "                                        tomobase.tiltschemes.Incremental(-64, 64, 4), \n",
    "                                        tomobase.tiltschemes.Incremental(-64, 64, 8), \n",
    "                                        tomobase.tiltschemes.Incremental(-64, 64, 16)]\n",
    "                incremental_angles = [65, 33, 17, 9]\n",
    "                incremental_labels = ['Incremental', 'Incremental', 'Incremental', 'Incremental']\n",
    "                schemes.extend(incremental_schemes)\n",
    "                angles.extend(incremental_angles)\n",
    "                labels.extend(incremental_labels)\n",
    "            case 1:\n",
    "                binary_schemes = [tomobase.tiltschemes.Binary(-64, 64,k=2), \n",
    "                                    tomobase.tiltschemes.Binary(-64, 64,k=2), \n",
    "                                    tomobase.tiltschemes.Binary(-64, 64,k=2),\n",
    "                                    tomobase.tiltschemes.Binary(-64, 64,k=2),\n",
    "                                    tomobase.tiltschemes.Binary(-64, 64,k=4),\n",
    "                                    tomobase.tiltschemes.Binary(-64, 64,k=4),\n",
    "                                    tomobase.tiltschemes.Binary(-64, 64,k=4),\n",
    "                                    tomobase.tiltschemes.Binary(-64, 64,k=4),\n",
    "                                    tomobase.tiltschemes.Binary(-64, 64,k=8),\n",
    "                                    tomobase.tiltschemes.Binary(-64, 64,k=8),\n",
    "                                    tomobase.tiltschemes.Binary(-64, 64,k=8),\n",
    "                                    tomobase.tiltschemes.Binary(-64, 64,k=8), \n",
    "                                    tomobase.tiltschemes.Binary(-64, 64,k=2, isbidirectional=False),\n",
    "                                    tomobase.tiltschemes.Binary(-64, 64,k=2, isbidirectional=False),\n",
    "                                    tomobase.tiltschemes.Binary(-64, 64,k=2, isbidirectional=False),\n",
    "                                    tomobase.tiltschemes.Binary(-64, 64,k=2, isbidirectional=False),\n",
    "                                    tomobase.tiltschemes.Binary(-64, 64,k=4, isbidirectional=False),\n",
    "                                    tomobase.tiltschemes.Binary(-64, 64,k=4, isbidirectional=False),\n",
    "                                    tomobase.tiltschemes.Binary(-64, 64,k=4, isbidirectional=False),\n",
    "                                    tomobase.tiltschemes.Binary(-64, 64,k=4, isbidirectional=False),\n",
    "                                    tomobase.tiltschemes.Binary(-64, 64,k=8, isbidirectional=False),\n",
    "                                    tomobase.tiltschemes.Binary(-64, 64,k=8, isbidirectional=False),\n",
    "                                    tomobase.tiltschemes.Binary(-64, 64,k=8, isbidirectional=False),\n",
    "                                    tomobase.tiltschemes.Binary(-64, 64,k=8, isbidirectional=False)]\n",
    "                binary_angles = [65, 33, 17, 9, 65, 33, 17, 9, 65, 33, 17, 9, 65, 33, 17, 9, 65, 33, 17, 9, 65, 33, 17, 9]\n",
    "                binary_labels = ['Binary 2b', 'Binary 2b', 'Binary 2b', 'Binary 2b', 'Binary 4b', 'Binary 4b', 'Binary 4b', 'Binary 4b', 'Binary 8b', 'Binary 8b', 'Binary 8b', 'Binary 8b', 'Binary 2u', 'Binary 2u', 'Binary 2u', 'Binary 2u', 'Binary 4u', 'Binary 4u', 'Binary 4u', 'Binary 4u', 'Binary 8u', 'Binary 8u', 'Binary 8u', 'Binary 8u']\n",
    "                \n",
    "                schemes.extend(binary_schemes)\n",
    "                angles.extend(binary_angles)\n",
    "                labels.extend(binary_labels)\n",
    "            case 2:\n",
    "                grs_schemes =  [tomobase.tiltschemes.GRS(-64, 64,0),\n",
    "                                tomobase.tiltschemes.GRS(-64, 64,0),\n",
    "                                tomobase.tiltschemes.GRS(-64, 64,0),\n",
    "                                tomobase.tiltschemes.GRS(-64, 64,0)]\n",
    "                grs_angles = [65, 33, 17, 9]\n",
    "                grs_labels = ['GRS', 'GRS', 'GRS', 'GRS']\n",
    "                schemes.extend(grs_schemes)\n",
    "                angles.extend(grs_angles)\n",
    "                labels.extend(grs_labels)\n",
    "    return schemes, angles, labels\n"
   ]
  },
  {
   "cell_type": "code",
   "execution_count": null,
   "metadata": {},
   "outputs": [],
   "source": [
    "def get_required_schemes():\n",
    "    schemes = [tomobase.tiltschemes.Incremental(-64, 64, 2), \n",
    "               tomobase.tiltschemes.Binary(-64, 64,k=8), \n",
    "               tomobase.tiltschemes.GRS(-64, 64,0)]\n",
    "    return schemes"
   ]
  },
  {
   "cell_type": "markdown",
   "metadata": {},
   "source": [
    "## Tests\n",
    "The following section outlines the tests performed in this study\n",
    "\n",
    "Table of Contents\n",
    "\n",
    "[3.1. Display Angles](#31-display-angles) - Displays the angles acquired for novel schemes\n",
    "\n",
    "[3.2. Backlash Corrections](#32-backlash) - Displays Backlash amount and correction"
   ]
  },
  {
   "cell_type": "code",
   "execution_count": null,
   "metadata": {},
   "outputs": [],
   "source": [
    "import tomobase\n",
    "import numpy as np\n",
    "import tomobase.phantoms\n",
    "import tomobase.processes\n",
    "import tomobase.processes.alignments\n",
    "import tomobase.tiltschemes\n",
    "import pandas as pd\n",
    "\n",
    "from skimage.metrics import peak_signal_noise_ratio, structural_similarity\n",
    "vol = tomobase.phantoms.nanocage()\n",
    "pd.set_option('display.max_rows', None)\n",
    "import astra\n",
    "print(astra.use_cuda())\n",
    "\n",
    "def get_required_schemes():\n",
    "    schemes = [ tomobase.tiltschemes.Incremental(-64, 64, 2),\n",
    "                tomobase.tiltschemes.Binary(-64, 64,k=8), \n",
    "               tomobase.tiltschemes.GRS(-64, 64,0)]\n",
    "    return schemes\n",
    "\n",
    "schemes = get_required_schemes()\n",
    "df = pd.DataFrame(columns=['Tilt Scheme', 'Angles','Noise', 'MAE', 'SSIM'])\n",
    "for scheme in schemes:\n",
    "    for noise in [0]:\n",
    "        angles = np.array([scheme.get_angle() for i in range(65)])\n",
    "        sinogram = tomobase.processes.project(vol, angles)\n",
    "        print(len(sinogram.angles))\n",
    "        if noise == 0:\n",
    "            sinogram_noisy = sinogram\n",
    "        else:\n",
    "            sinogram_noisy = tomobase.processes.alignments.add_noise(sinogram)\n",
    "        rec = tomobase.processes.reconstruct_weighted_sirt(sinogram_noisy, iterations=100, weighted=False)\n",
    "        #rec = tomobase.processes.reconstruct(sinogram_noisy, 'sirt', iterations=100)\n",
    "        rmse = np.sqrt(np.mean((vol.data-rec.data)**2))\n",
    "        ssim = structural_similarity(vol.data, rec.data, data_range=1.0)\n",
    "        print(rmse, ssim)\n",
    "        new_row = {'Tilt Scheme': scheme, 'Angles': len(angles), 'Noise': noise, 'MAE': rmse, 'SSIM': ssim}\n",
    "        new_row_df = pd.DataFrame([new_row])\n",
    "    \n",
    "        df = pd.concat([df, new_row_df], ignore_index=True)\n",
    "    \n",
    "display(df)"
   ]
  },
  {
   "cell_type": "code",
   "execution_count": null,
   "metadata": {},
   "outputs": [],
   "source": [
    "import tomobase\n",
    "import numpy as np\n",
    "import tomobase.phantoms\n",
    "import tomobase.processes\n",
    "import tomobase.processes.alignments\n",
    "import tomobase.tiltschemes\n",
    "import pandas as pd\n",
    "\n",
    "from skimage.metrics import peak_signal_noise_ratio, structural_similarity\n",
    "vol = tomobase.phantoms.nanocage()\n",
    "pd.set_option('display.max_rows', None)\n",
    "import astra\n",
    "print(astra.use_cuda())\n",
    "\n",
    "def get_required_schemes():\n",
    "    schemes = [ tomobase.tiltschemes.Incremental(-64, 64, 2),\n",
    "                tomobase.tiltschemes.Binary(-64, 64,k=8), \n",
    "               tomobase.tiltschemes.GRS(-64, 64,0)]\n",
    "    return schemes\n",
    "\n",
    "schemes = get_required_schemes()\n",
    "df = pd.DataFrame(columns=['Tilt Scheme', 'Angles','Noise', 'MAE', 'SSIM'])\n",
    "for scheme in schemes:\n",
    "    for noise in [0]:\n",
    "        angles = np.array([scheme.get_angle() for i in range(65)])\n",
    "        sinogram = tomobase.processes.project(vol, angles)\n",
    "        print(len(sinogram.angles))\n",
    "        if noise == 0:\n",
    "            sinogram_noisy = sinogram\n",
    "        else:\n",
    "            sinogram_noisy = tomobase.processes.alignments.add_noise(sinogram)\n",
    "        rec = tomobase.processes.reconstruct_weighted_sirt(sinogram_noisy, iterations=100, weighted=False)\n",
    "        #rec = tomobase.processes.reconstruct(sinogram_noisy, 'sirt', iterations=100)\n",
    "        rmse = np.sqrt(np.mean((vol.data-rec.data)**2))\n",
    "        ssim = structural_similarity(vol.data, rec.data, data_range=1.0)\n",
    "        print(rmse, ssim)\n",
    "        new_row = {'Tilt Scheme': scheme, 'Angles': len(angles), 'Noise': noise, 'MAE': rmse, 'SSIM': ssim}\n",
    "        new_row_df = pd.DataFrame([new_row])\n",
    "    \n",
    "        df = pd.concat([df, new_row_df], ignore_index=True)\n",
    "    \n",
    "display(df)"
   ]
  },
  {
   "cell_type": "markdown",
   "metadata": {},
   "source": [
    "### 3.1. Display Angles\n",
    "The purpose of this test is just to be able to read off the angles for the binary tiltschemes. Two almost identical scheme sets are presented:\n",
    "\n",
    "1. Unidirectional (u) -  once the highest angle in the set is reached the tiltseries is reverted back to the minimum angle with an offset.\n",
    "2. Bidirectional (b) -  Once the highest angle in the set is reached the tiltseries is offset than angles are collected backwards.\n",
    "\n",
    "Both schemes should have collected the exact same angles in a set of k+1 projections - just in a different order. "
   ]
  },
  {
   "cell_type": "code",
   "execution_count": null,
   "metadata": {},
   "outputs": [],
   "source": [
    "\n",
    "schemes, n_angles, labels = generate_schemes([1])\n",
    "coloumns = []\n",
    "\n",
    "for i in range(len(schemes)):\n",
    "    if n_angles[i]==65:\n",
    "        angles = np.array([schemes[i].get_angle() for j in range(n_angles[i])])\n",
    "        coloumns.append(angles)\n",
    "\n",
    "_dict = {\n",
    "    'Binary 2b': coloumns[0],\n",
    "    'Binary 4b': coloumns[1],\n",
    "    'Binary 8b': coloumns[2],\n",
    "    'Binary 2u': coloumns[3],\n",
    "    'Binary 4u': coloumns[4],\n",
    "    'Binary 8u': coloumns[5],\n",
    "}\n",
    "df = pd.DataFrame(_dict)\n",
    "\n",
    "display(df)"
   ]
  },
  {
   "cell_type": "code",
   "execution_count": null,
   "metadata": {},
   "outputs": [],
   "source": [
    "schemes, n_angles, labels = generate_schemes([0, 1, 2])\n",
    "df = pd.DataFrame(columns=['Tilt Scheme', 'Number of Angles', 'SSIM', 'PSNR', 'MAE'])\n",
    "for i, scheme in enumerate(schemes):\n",
    "    angles = np.array([schemes[i].get_angle() for j in range(n_angles[i])], dtype=np.float64)\n",
    "    wedge_end = np.max(angles)\n",
    "    incremental = tomobase.tiltschemes.Incremental(-64, wedge_end, (wedge_end+64)/(n_angles[i]-1))\n",
    "    angles_inc = np.array([incremental.get_angle() for j in range(n_angles[i])], dtype=np.float64)\n",
    "    \n",
    "    sino = tomobase.processes.project(vol, angles)\n",
    "    rec = tomobase.processes.reconstruct(sino, method=\"sirt\", iterations=100)\n",
    "\n",
    "    ssim  = structural_similarity(vol.data, rec.data, data_range=1.0)\n",
    "    psnr = peak_signal_noise_ratio(vol.data, rec.data, data_range =1.0)\n",
    "    mae = np.mean(np.abs(vol.data - rec.data))\n",
    "    \n",
    "    new_row = {\n",
    "        'Tilt Scheme': labels[i],\n",
    "        'Number of Angles': n_angles[i],\n",
    "        'SSIM': ssim,\n",
    "        'PSNR': psnr,\n",
    "        'MAE': mae\n",
    "    }\n",
    "    \n",
    "    new_row_df = pd.DataFrame([new_row])\n",
    "    df = pd.concat([df, new_row_df], ignore_index=True)\n",
    "\n",
    "display(df)"
   ]
  },
  {
   "cell_type": "markdown",
   "metadata": {},
   "source": [
    "### 3.1. Uniformity\n",
    "\n",
    "s"
   ]
  },
  {
   "cell_type": "code",
   "execution_count": null,
   "metadata": {},
   "outputs": [],
   "source": [
    "import copy\n",
    "\n",
    "df = pd.DataFrame(columns=['Tilt Scheme', 'Number of Angles', 'SSIM', 'MAE'])\n",
    "scheme = tomobase.tiltschemes.Incremental(-64, 64, 2)\n",
    "angles = np.array([scheme.get_angle() for i in range(65)])\n",
    "\n",
    "sino = tomobase.processes.project(vol, angles)\n",
    "#sino = tomobase.processes.alignments.weight_by_angle(sino)\n",
    "#rec = tomobase.processes.reconstruct_weighted_sirt(sino, method=\"sirt\", iterations=100)\n",
    "rec = tomobase.processes.reconstruct_weighted_sirt(sino, iterations=100)\n",
    "ssim  = structural_similarity(vol.data, rec.data, data_range=1.0)\n",
    "mae = np.mean(np.abs(vol.data - rec.data))\n",
    "new_row = {\n",
    "    'Tilt Scheme': 'GRS',\n",
    "    'Number of Angles': 65,\n",
    "    'SSIM': ssim,\n",
    "    'MAE': mae\n",
    "}\n",
    "\n",
    "new_row_df = pd.DataFrame([new_row])\n",
    "df = pd.concat([df, new_row_df], ignore_index=True)\n",
    "display(df)"
   ]
  },
  {
   "cell_type": "markdown",
   "metadata": {},
   "source": [
    "### 3.2. Backlash\n",
    "\n",
    "There is an artifact in the microscope gonioometer for bidirectional acquisition schemes. This section outlines its effects on the different tiltschemes\n",
    "\n"
   ]
  },
  {
   "cell_type": "code",
   "execution_count": null,
   "metadata": {},
   "outputs": [],
   "source": [
    "schemes, n_angles, labels = generate_schemes()\n",
    "backlash_value = 0.1\n",
    "\n",
    "banned = [0, 1, 2, 3, 4, 5, 6]\n",
    "\n",
    "df = pd.DataFrame(columns=['Tilt Scheme', 'Number of Angles', 'Backlash Value', 'Cumulated Backlash', 'Correction', 'SSIM without error', 'PSNR without error', 'SSIM with error', 'PSNR with error', 'SSIM corrected', 'PSNR corrected'])\n",
    "for i, scheme in enumerate(schemes):\n",
    "    if i not in banned:\n",
    "        angles = np.array([schemes[i].get_angle() for j in range(n_angles[i])], dtype=np.float64)\n",
    "        sino = tomobase.processes.project(vol, angles)\n",
    "        indices = np.where(np.diff(sino.angles) < 0)[0] + 1\n",
    "        \n",
    "        rec = tomobase.processes.reconstruct(sino, method=\"sirt\", iterations=100)\n",
    "        ssim_without_error = structural_similarity(vol.data, rec.data, data_range=1.0)\n",
    "        psnr_without_error = peak_signal_noise_ratio(vol.data, rec.data, data_range =1.0)\n",
    "        \n",
    "        cumulated_backlash = backlash_value * len(indices)\n",
    "        sino.angles[indices] -= backlash_value\n",
    "        \n",
    "        rec = tomobase.processes.reconstruct(sino, method=\"sirt\", iterations=100)\n",
    "        ssim_with_error = structural_similarity(vol.data, rec.data, data_range=1.0)\n",
    "        psnr_with_error = peak_signal_noise_ratio(vol.data, rec.data, data_range =1.0)\n",
    "         \n",
    "        sino, correction = tomobase.processes.alignments.backlash_correct(sino, extend_return=True)\n",
    "        rec = tomobase.processes.reconstruct(sino, method=\"sirt\", iterations=100)\n",
    "        \n",
    "        ssim_corrected = structural_similarity(vol.data, rec.data, data_range=1.0)\n",
    "        psnr_corrected = peak_signal_noise_ratio(vol.data, rec.data, data_range =1.0)\n",
    "\n",
    "        new_row = {\n",
    "            'Tilt Scheme': labels[i],\n",
    "            'Number of Angles': n_angles[i],\n",
    "            'Backlash Value': backlash_value,\n",
    "            'Cumulated Backlash': cumulated_backlash,\n",
    "            'Correction': correction,\n",
    "            'SSIM without error': ssim_without_error,\n",
    "            'PSNR without error': psnr_without_error,\n",
    "            'SSIM with error': ssim_with_error,\n",
    "            'PSNR with error': psnr_with_error,\n",
    "            'SSIM corrected': ssim_corrected,\n",
    "            'PSNR corrected': psnr_corrected\n",
    "        }\n",
    "\n",
    "        # Convert the new row to a DataFrame\n",
    "        new_row_df = pd.DataFrame([new_row])\n",
    "\n",
    "        # Concatenate the new row with the existing DataFrame\n",
    "        df = pd.concat([df, new_row_df], ignore_index=True)\n",
    "\n",
    "print(df) "
   ]
  },
  {
   "cell_type": "code",
   "execution_count": null,
   "metadata": {},
   "outputs": [],
   "source": [
    "schemes, n_angles, labels = generate_schemes()\n",
    "backlash_value = 0.5\n",
    "\n",
    "banned = [0, 1, 2, 3, 4]\n",
    "\n",
    "df = pd.DataFrame(columns=['Tilt Scheme', 'Number of Angles', 'Backlash Value', 'Cumulated Backlash', 'Correction', 'MAE without error', 'MAE with error', 'MAE corrected'])\n",
    "for i, scheme in enumerate(schemes):\n",
    "    if i not in banned:\n",
    "        angles = np.array([schemes[i].get_angle() for j in range(n_angles[i])], dtype=np.float64)\n",
    "        sino = tomobase.processes.project(vol, angles)\n",
    "        indices = np.where(np.diff(sino.angles) < 0)[0] + 1\n",
    "        \n",
    "        rec = tomobase.processes.reconstruct(sino, method=\"sirt\", iterations=100)\n",
    "        mae_without_error = np.mean(np.abs(vol.data - rec.data))\n",
    "        \n",
    "        cumulated_backlash = backlash_value * len(indices)\n",
    "        sino.angles[indices] -= backlash_value\n",
    "        \n",
    "        if len(indices) > 0:\n",
    "            rec = tomobase.processes.reconstruct(sino, method=\"sirt\", iterations=100)\n",
    "            mae_with_error = np.mean(np.abs(vol.data - rec.data))\n",
    "            \n",
    "            sino, correction = tomobase.processes.alignments.backlash_correct(sino, extend_return=True)\n",
    "            rec = tomobase.processes.reconstruct(sino, method=\"sirt\", iterations=100)\n",
    "            mae_corrected = np.mean(np.abs(vol.data - rec.data))\n",
    "        else:\n",
    "            mae_with_error = mae_without_error\n",
    "            mae_corrected = mae_without_error\n",
    "            correction = 0\n",
    "\n",
    "        new_row = {\n",
    "            'Tilt Scheme': labels[i],\n",
    "            'Number of Angles': n_angles[i],\n",
    "            'Backlash Value': backlash_value,\n",
    "            'Cumulated Backlash': cumulated_backlash,\n",
    "            'Correction': correction,\n",
    "            'MAE without error': mae_without_error,\n",
    "            'MAE with error': mae_with_error,\n",
    "            'MAE corrected': mae_corrected\n",
    "        }\n",
    "\n",
    "        # Convert the new row to a DataFrame\n",
    "        new_row_df = pd.DataFrame([new_row])\n",
    "\n",
    "        # Concatenate the new row with the existing DataFrame\n",
    "        df = pd.concat([df, new_row_df], ignore_index=True)\n",
    "\n",
    "display(df)"
   ]
  },
  {
   "cell_type": "code",
   "execution_count": null,
   "metadata": {},
   "outputs": [],
   "source": [
    "schemes, n_angles, labels = generate_schemes()\n",
    "backlash_value = 0.5\n",
    "\n",
    "banned = []\n",
    "\n",
    "df = pd.DataFrame(columns=['Tilt Scheme', 'Number of Angles', 'Backlash Value', 'Cumulated Backlash'])\n",
    "for i, scheme in enumerate(schemes):\n",
    "    if i not in banned:\n",
    "        angles = np.array([schemes[i].get_angle() for j in range(n_angles[i])], dtype=np.float64)\n",
    "        sino = tomobase.processes.project(vol, angles)\n",
    "        indices = np.where(np.diff(sino.angles) < 0)[0] + 1\n",
    "        \n",
    "        cumulated_backlash = backlash_value * len(indices)\n",
    "        sino.angles[indices] -= backlash_value\n",
    "\n",
    "        new_row = {\n",
    "            'Tilt Scheme': labels[i],\n",
    "            'Number of Angles': n_angles[i],\n",
    "            'Backlash Value': backlash_value,\n",
    "            'Cumulated Backlash': cumulated_backlash,\n",
    "        }\n",
    "\n",
    "        # Convert the new row to a DataFrame\n",
    "        new_row_df = pd.DataFrame([new_row])\n",
    "\n",
    "        # Concatenate the new row with the existing DataFrame\n",
    "        df = pd.concat([df, new_row_df], ignore_index=True)\n",
    "\n",
    "display(df)"
   ]
  },
  {
   "cell_type": "markdown",
   "metadata": {},
   "source": [
    "### Missing Wedge"
   ]
  },
  {
   "cell_type": "code",
   "execution_count": null,
   "metadata": {},
   "outputs": [],
   "source": [
    "schemes, n_angles, labels = generate_schemes()\n",
    "\n",
    "banned = []\n",
    "\n",
    "df = pd.DataFrame(columns=['Tilt Scheme', 'Number of Angles', 'Missing Wedge'])\n",
    "for i, scheme in enumerate(schemes):\n",
    "    if i not in banned:\n",
    "        angles = np.array([schemes[i].get_angle() for j in range(n_angles[i])], dtype=np.float64)\n",
    "        missing_wedge = 180 - (np.max(angles) - np.min(angles))\n",
    "\n",
    "\n",
    "        new_row = {\n",
    "            'Tilt Scheme': labels[i],\n",
    "            'Number of Angles': n_angles[i],\n",
    "            'Missing Wedge': missing_wedge,\n",
    "        }\n",
    "\n",
    "        # Convert the new row to a DataFrame\n",
    "        new_row_df = pd.DataFrame([new_row])\n",
    "\n",
    "        # Concatenate the new row with the existing DataFrame\n",
    "        df = pd.concat([df, new_row_df], ignore_index=True)\n",
    "\n",
    "display(df)"
   ]
  },
  {
   "cell_type": "code",
   "execution_count": null,
   "metadata": {},
   "outputs": [],
   "source": [
    "schemes, n_angles, labels = generate_schemes([1,2])\n",
    "df = pd.DataFrame(columns=['Tilt Scheme', 'Number of Angles', 'SSIM', 'PSNR', 'MAE'])\n",
    "for i, scheme in enumerate(schemes):\n",
    "    angles = np.array([schemes[i].get_angle() for j in range(n_angles[i])], dtype=np.float64)\n",
    "    wedge_end = np.max(angles)\n",
    "    incremental = tomobase.tiltschemes.Incremental(-64, wedge_end, (wedge_end+64)/(n_angles[i]-1))\n",
    "    angles_inc = np.array([incremental.get_angle() for j in range(n_angles[i])], dtype=np.float64)\n",
    "    \n",
    "    sino = tomobase.processes.project(vol, angles_inc)\n",
    "    rec = tomobase.processes.reconstruct(sino, method=\"sirt\", iterations=100)\n",
    "\n",
    "    ssim  = structural_similarity(vol.data, rec.data, data_range=1.0)\n",
    "    psnr = peak_signal_noise_ratio(vol.data, rec.data, data_range =1.0)\n",
    "    mae = np.mean(np.abs(vol.data - rec.data))\n",
    "    \n",
    "    new_row = {\n",
    "        'Tilt Scheme': labels[i],\n",
    "        'Number of Angles': n_angles[i],\n",
    "        'SSIM': ssim,\n",
    "        'PSNR': psnr,\n",
    "        'MAE': mae\n",
    "    }\n",
    "    \n",
    "    new_row_df = pd.DataFrame([new_row])\n",
    "    df = pd.concat([df, new_row_df], ignore_index=True)\n",
    "\n",
    "display(df)\n"
   ]
  },
  {
   "cell_type": "code",
   "execution_count": null,
   "metadata": {},
   "outputs": [],
   "source": [
    "display(df)"
   ]
  },
  {
   "cell_type": "markdown",
   "metadata": {},
   "source": [
    "### 3.3 Translational Alignment"
   ]
  },
  {
   "cell_type": "code",
   "execution_count": null,
   "metadata": {},
   "outputs": [],
   "source": [
    "schemes, n_angles, labels = generate_schemes()\n",
    "banned = []\n",
    "df = pd.DataFrame(columns=['Tilt Scheme', 'Number of Angles', 'Alignment Error', 'Measurement Error'])\n",
    "for i, scheme in enumerate(schemes):\n",
    "    if i not in banned:\n",
    "        angles = np.array([schemes[i].get_angle() for j in range(n_angles[i])], dtype=np.float64)\n",
    "        experiment_offset =[]\n",
    "        for j in range(10):\n",
    "            ts = tomobase.processes.project(vol, angles)\n",
    "            ts = tomobase.processes.alignments.pad_sinogram(ts, 1024, 1024, inplace=False)\n",
    "\n",
    "            sorted_indices = np.argsort(ts.angles)\n",
    "            ts.angles = ts.angles[sorted_indices]\n",
    "            ts.data = ts.data[:, :, sorted_indices]\n",
    "            ts, shifts = tomobase.processes.alignments.translational_misalignment(ts, 0.2, 0.2, extend_return=True)\n",
    "            ts, shifts_corrected = tomobase.processes.alignments.align_sinogram_xcorr(ts, extend_return=True)   \n",
    "        \n",
    "            offsets = (shifts_corrected + shifts)%1024\n",
    "            offsets[offsets>512] = np.abs(offsets[offsets>512] - 1024)\n",
    "            experiment_offset.append(np.mean(offsets))\n",
    "        \n",
    "        offsets = np.mean(experiment_offset)\n",
    "        experiment_offset = np.array(experiment_offset)\n",
    "        new_row = {\n",
    "            'Tilt Scheme': labels[i],\n",
    "            'Number of Angles': n_angles[i],\n",
    "            'Alignment Error': offsets,\n",
    "            'Measurement Error': (np.max(experiment_offset) - np.min(experiment_offset))/2\n",
    "        }\n",
    "\n",
    "        # Convert the new row to a DataFrame\n",
    "        new_row_df = pd.DataFrame([new_row])\n",
    "\n",
    "        # Concatenate the new row with the existing DataFrame\n",
    "        df = pd.concat([df, new_row_df], ignore_index=True)\n",
    "\n",
    "display(df)\n"
   ]
  },
  {
   "cell_type": "code",
   "execution_count": null,
   "metadata": {},
   "outputs": [],
   "source": [
    "schemes, n_angles, labels = generate_schemes()\n",
    "banned = []\n",
    "df = pd.DataFrame(columns=['Tilt Scheme', 'Number of Angles', 'Alignment Error', 'Measurement Error', 'SSIM', 'SSIM Error','PSNR','PSNR Error', 'MAE', 'MAE Error'])\n",
    "max_value = 0\n",
    "min_value = 100000000\n",
    "\n",
    "max_ssim = 0\n",
    "min_ssim = 1000000000\n",
    "\n",
    "max_psnr = 0\n",
    "min_psnr = 1000000000\n",
    "\n",
    "max_mae = 0\n",
    "min_mae = 1000000000\n",
    "\n",
    "for i, scheme in enumerate(schemes):\n",
    "    if i not in banned:\n",
    "        angles = np.array([schemes[i].get_angle() for j in range(n_angles[i])], dtype=np.float64)\n",
    "        experiment_offset =[]\n",
    "        ssims = []\n",
    "        psnrs = []\n",
    "        maes = []\n",
    "        for j in range(10):\n",
    "            ts = tomobase.processes.project(vol, angles)\n",
    "            ts = tomobase.processes.alignments.pad_sinogram(ts, 1024, 1024, inplace=False)\n",
    "\n",
    "            sorted_indices = np.argsort(ts.angles)\n",
    "            ts.angles = ts.angles[sorted_indices]\n",
    "            ts.data = ts.data[:, :, sorted_indices]\n",
    "            ts, shifts = tomobase.processes.alignments.translational_misalignment(ts, 0.2, 0.2, extend_return=True)\n",
    "            ts, shifts_corrected = tomobase.processes.alignments.align_sinogram_xcorr(ts, extend_return=True)   \n",
    "        \n",
    "            offsets = (shifts_corrected + shifts)%1024\n",
    "            offsets[offsets>512] = np.abs(offsets[offsets>512] - 1024)\n",
    "            experiment_offset.append(np.mean(offsets))\n",
    "            if np.max(offsets)>max_value:\n",
    "                max_value = np.max(offsets)\n",
    "            if np.min(offsets)<min_value:\n",
    "                min_value = np.min(offsets)\n",
    "            \n",
    "            # Crop the sinogram to 307x307\n",
    "            crop_height, crop_width = (307,307)\n",
    "            height, width = ts.data.shape[:2]\n",
    "\n",
    "\n",
    "            start_y = (height - crop_height) // 2\n",
    "            end_y = start_y + crop_height\n",
    "            start_x = (width - crop_width) // 2\n",
    "            end_x = start_x + crop_width\n",
    "\n",
    "\n",
    "            ts.data = ts.data[start_y:end_y, start_x:end_x, :]\n",
    "            rec = tomobase.processes.reconstruct(ts, method=\"sirt\", iterations=100)\n",
    "            ssims.append(structural_similarity(vol.data, rec.data, data_range=1.0))\n",
    "            psnrs.append(peak_signal_noise_ratio(vol.data, rec.data, data_range =1.0))\n",
    "            maes.append(np.mean(np.abs(vol.data - rec.data)))\n",
    "                        \n",
    "            if np.max(ssims)>max_ssim:\n",
    "                max_ssim = np.max(ssims)\n",
    "            if np.min(ssims)<min_ssim:\n",
    "                min_ssim = np.min(ssims)\n",
    "            if np.max(psnrs)>max_psnr:\n",
    "                max_psnr = np.max(psnrs)\n",
    "            if np.min(psnrs)<min_psnr:\n",
    "                min_psnr = np.min(psnrs)\n",
    "            if np.max(maes)>max_mae:\n",
    "                max_mae = np.max(maes)\n",
    "            if np.min(maes)<min_mae:\n",
    "                min_mae = np.min(maes)\n",
    "            \n",
    "        offsets = np.mean(experiment_offset)\n",
    "        experiment_offset = np.array(experiment_offset)\n",
    "        new_row = {\n",
    "            'Tilt Scheme': labels[i],\n",
    "            'Number of Angles': n_angles[i],\n",
    "            'Alignment Error': offsets,\n",
    "            'Measurement Error': (max_value - min_value)/2,\n",
    "            'SSIM': np.mean(ssims),\n",
    "            'SSIM Error': (max_ssim - min_ssim)/2,\n",
    "            'PSNR': np.mean(psnrs),\n",
    "            'PSNR Error': (max_psnr - min_psnr)/2,\n",
    "            'MAE': np.mean(maes),\n",
    "            'MAE Error': (max_mae - min_mae)/2\n",
    "        }\n",
    "\n",
    "        # Convert the new row to a DataFrame\n",
    "        new_row_df = pd.DataFrame([new_row])\n",
    "\n",
    "        # Concatenate the new row with the existing DataFrame\n",
    "        df = pd.concat([df, new_row_df], ignore_index=True)\n",
    "\n",
    "display(df)"
   ]
  },
  {
   "cell_type": "code",
   "execution_count": null,
   "metadata": {},
   "outputs": [],
   "source": [
    "import tomobase\n",
    "import numpy as np\n",
    "import tomobase.phantoms\n",
    "import tomobase.processes\n",
    "import tomobase.processes.alignments\n",
    "import tomobase.tiltschemes\n",
    "import pandas as pd\n",
    "\n",
    "from skimage.metrics import peak_signal_noise_ratio, structural_similarity\n",
    "vol = tomobase.phantoms.nanocage()\n",
    "pd.set_option('display.max_rows', None)\n",
    "import astra\n",
    "print(astra.use_cuda())\n",
    "\n",
    "def get_required_schemes():\n",
    "    schemes = [ tomobase.tiltschemes.Incremental(-64, 64, 2),\n",
    "                tomobase.tiltschemes.Binary(-64, 64,k=8), \n",
    "               tomobase.tiltschemes.GRS(-64, 64,0)]\n",
    "    return schemes\n",
    "\n",
    "schemes = get_required_schemes()\n",
    "for scheme in schemes:\n",
    "    angles = np.array([scheme.get_angle() for i in range(65)])\n",
    "    sinogram = tomobase.processes.project(vol, angles)\n",
    "    sinogram_noisy = sinogram\n",
    "    rec = tomobase.processes.reconstruct_weighted_sirt(sinogram_noisy, iterations=100, weighted=False)\n",
    "    #rec = tomobase.processes.reconstruct(sinogram_noisy, 'sirt', iterations=100)\n",
    "    rmse = np.sqrt(np.mean((vol.data-rec.data)**2))\n",
    "    ssim = structural_similarity(vol.data, rec.data, data_range=1.0)\n",
    "    print(rmse, ssim)\n"
   ]
  },
  {
   "cell_type": "code",
   "execution_count": 2,
   "metadata": {},
   "outputs": [
    {
     "name": "stderr",
     "output_type": "stream",
     "text": [
      "2025-03-30 17:40:38,854 - WARNING - Updating modlules <tomobase.registrations.processes.ProcessItemDict object at 0x0000021EA438DF10>\n",
      "2025-03-30 17:40:38,854 - INFO - Module <tomobase.registrations.processes.ProcessItemDict object at 0x0000021EA438DF10>: tomobase processes\n",
      "2025-03-30 17:40:38,854 - INFO - Found is_tomobase_process in project\n",
      "2025-03-30 17:40:38,855 - INFO - Item to be added: Project\n",
      "2025-03-30 17:40:38,855 - INFO - Checking category: DEFORM, DEFORM 0 2\n",
      "2025-03-30 17:40:38,855 - INFO - Checking category: ALIGN, ALIGN 1 2\n",
      "2025-03-30 17:40:38,856 - INFO - Checking category: PROJECT, PROJECT 2 2\n"
     ]
    },
    {
     "name": "stdout",
     "output_type": "stream",
     "text": [
      "Confirmed PROJECT 2 2\n"
     ]
    },
    {
     "name": "stderr",
     "output_type": "stream",
     "text": [
      "2025-03-30 17:40:38,858 - WARNING - Key PROJECT already exists in the dictionary\n",
      "2025-03-30 17:40:38,858 - INFO - Checking category: RECONSTRUCT, RECONSTRUCT 3 2\n",
      "2025-03-30 17:40:38,858 - INFO - Found is_tomobase_process in reconstruct\n",
      "2025-03-30 17:40:38,858 - INFO - Item to be added: Reconstruct\n",
      "2025-03-30 17:40:38,859 - INFO - Checking category: DEFORM, DEFORM 0 <tomobase.registrations.base.Item object at 0x0000021EA4802610>\n",
      "2025-03-30 17:40:38,859 - INFO - Checking category: ALIGN, ALIGN 1 <tomobase.registrations.base.Item object at 0x0000021EA4802610>\n",
      "2025-03-30 17:40:38,859 - INFO - Checking category: PROJECT, PROJECT 2 <tomobase.registrations.base.Item object at 0x0000021EA4802610>\n",
      "2025-03-30 17:40:38,860 - INFO - Checking category: RECONSTRUCT, RECONSTRUCT 3 <tomobase.registrations.base.Item object at 0x0000021EA4802610>\n",
      "2025-03-30 17:40:38,860 - INFO - Found is_tomobase_process in reconstruct_weighted_sirt\n",
      "2025-03-30 17:40:38,860 - INFO - Item to be added: Reconstruct Weighted SIRT\n",
      "2025-03-30 17:40:38,861 - INFO - Checking category: DEFORM, DEFORM 0 <tomobase.registrations.base.Item object at 0x0000021EA4802610>\n",
      "2025-03-30 17:40:38,861 - INFO - Checking category: ALIGN, ALIGN 1 <tomobase.registrations.base.Item object at 0x0000021EA4802610>\n",
      "2025-03-30 17:40:38,862 - INFO - Checking category: PROJECT, PROJECT 2 <tomobase.registrations.base.Item object at 0x0000021EA4802610>\n",
      "2025-03-30 17:40:38,862 - INFO - Checking category: RECONSTRUCT, RECONSTRUCT 3 <tomobase.registrations.base.Item object at 0x0000021EA4802610>\n",
      "2025-03-30 17:40:38,862 - INFO - Found is_tomobase_process in project\n",
      "2025-03-30 17:40:38,862 - INFO - Item to be added: Project\n",
      "2025-03-30 17:40:38,863 - INFO - Checking category: DEFORM, DEFORM 0 2\n",
      "2025-03-30 17:40:38,863 - INFO - Checking category: ALIGN, ALIGN 1 2\n",
      "2025-03-30 17:40:38,863 - INFO - Checking category: PROJECT, PROJECT 2 2\n"
     ]
    },
    {
     "name": "stdout",
     "output_type": "stream",
     "text": [
      "Confirmed PROJECT 2 2\n"
     ]
    },
    {
     "name": "stderr",
     "output_type": "stream",
     "text": [
      "2025-03-30 17:40:38,865 - WARNING - Key PROJECT already exists in the dictionary\n",
      "2025-03-30 17:40:38,866 - INFO - Checking category: RECONSTRUCT, RECONSTRUCT 3 2\n",
      "2025-03-30 17:40:38,866 - INFO - Found is_tomobase_process in reconstruct\n",
      "2025-03-30 17:40:38,866 - INFO - Item to be added: Reconstruct\n",
      "2025-03-30 17:40:38,866 - INFO - Checking category: DEFORM, DEFORM 0 <tomobase.registrations.base.Item object at 0x0000021EA4802610>\n",
      "2025-03-30 17:40:38,867 - INFO - Checking category: ALIGN, ALIGN 1 <tomobase.registrations.base.Item object at 0x0000021EA4802610>\n",
      "2025-03-30 17:40:38,867 - INFO - Checking category: PROJECT, PROJECT 2 <tomobase.registrations.base.Item object at 0x0000021EA4802610>\n",
      "2025-03-30 17:40:38,867 - INFO - Checking category: RECONSTRUCT, RECONSTRUCT 3 <tomobase.registrations.base.Item object at 0x0000021EA4802610>\n",
      "2025-03-30 17:40:38,867 - INFO - Found is_tomobase_process in reconstruct_weighted_sirt\n",
      "2025-03-30 17:40:38,867 - INFO - Item to be added: Reconstruct Weighted SIRT\n",
      "2025-03-30 17:40:38,868 - INFO - Checking category: DEFORM, DEFORM 0 <tomobase.registrations.base.Item object at 0x0000021EA4802610>\n",
      "2025-03-30 17:40:38,868 - INFO - Checking category: ALIGN, ALIGN 1 <tomobase.registrations.base.Item object at 0x0000021EA4802610>\n",
      "2025-03-30 17:40:38,868 - INFO - Checking category: PROJECT, PROJECT 2 <tomobase.registrations.base.Item object at 0x0000021EA4802610>\n",
      "2025-03-30 17:40:38,868 - INFO - Checking category: RECONSTRUCT, RECONSTRUCT 3 <tomobase.registrations.base.Item object at 0x0000021EA4802610>\n",
      "2025-03-30 17:40:38,869 - INFO - Found is_tomobase_process in background_subtract_median\n",
      "2025-03-30 17:40:38,870 - INFO - Item to be added: Subtract Median\n",
      "2025-03-30 17:40:38,870 - INFO - Checking category: DEFORM, DEFORM 0 1\n",
      "2025-03-30 17:40:38,870 - INFO - Checking category: ALIGN, ALIGN 1 1\n"
     ]
    },
    {
     "name": "stdout",
     "output_type": "stream",
     "text": [
      "Confirmed ALIGN 1 1\n"
     ]
    },
    {
     "name": "stderr",
     "output_type": "stream",
     "text": [
      "2025-03-30 17:40:38,872 - WARNING - Key ALIGN already exists in the dictionary\n",
      "2025-03-30 17:40:38,872 - INFO - Checking category: PROJECT, PROJECT 2 1\n",
      "2025-03-30 17:40:38,872 - INFO - Checking category: RECONSTRUCT, RECONSTRUCT 3 1\n",
      "2025-03-30 17:40:38,873 - INFO - Found is_tomobase_process in gaussian_filter\n",
      "2025-03-30 17:40:38,873 - INFO - Item to be added: Gaussian Filter\n",
      "2025-03-30 17:40:38,873 - INFO - Checking category: DEFORM, DEFORM 0 1\n",
      "2025-03-30 17:40:38,873 - INFO - Checking category: ALIGN, ALIGN 1 1\n"
     ]
    },
    {
     "name": "stdout",
     "output_type": "stream",
     "text": [
      "Confirmed ALIGN 1 1\n"
     ]
    },
    {
     "name": "stderr",
     "output_type": "stream",
     "text": [
      "2025-03-30 17:40:38,876 - WARNING - Key ALIGN already exists in the dictionary\n",
      "2025-03-30 17:40:38,876 - INFO - Checking category: PROJECT, PROJECT 2 1\n",
      "2025-03-30 17:40:38,876 - INFO - Checking category: RECONSTRUCT, RECONSTRUCT 3 1\n",
      "2025-03-30 17:40:38,876 - INFO - Found is_tomobase_process in poisson_noise\n",
      "2025-03-30 17:40:38,877 - INFO - Item to be added: Poisson\n",
      "2025-03-30 17:40:38,877 - INFO - Checking category: DEFORM, DEFORM 0 1\n",
      "2025-03-30 17:40:38,877 - INFO - Checking category: ALIGN, ALIGN 1 1\n"
     ]
    },
    {
     "name": "stdout",
     "output_type": "stream",
     "text": [
      "Confirmed ALIGN 1 1\n"
     ]
    },
    {
     "name": "stderr",
     "output_type": "stream",
     "text": [
      "2025-03-30 17:40:38,879 - WARNING - Key ALIGN already exists in the dictionary\n",
      "2025-03-30 17:40:38,880 - INFO - Checking category: PROJECT, PROJECT 2 1\n",
      "2025-03-30 17:40:38,880 - INFO - Checking category: RECONSTRUCT, RECONSTRUCT 3 1\n",
      "2025-03-30 17:40:38,880 - INFO - Found is_tomobase_process in rotational_misalignment\n",
      "2025-03-30 17:40:38,880 - INFO - Item to be added: Rotational Misalignment\n",
      "2025-03-30 17:40:38,880 - INFO - Checking category: DEFORM, DEFORM 0 1\n",
      "2025-03-30 17:40:38,881 - INFO - Checking category: ALIGN, ALIGN 1 1\n"
     ]
    },
    {
     "name": "stdout",
     "output_type": "stream",
     "text": [
      "Confirmed ALIGN 1 1\n"
     ]
    },
    {
     "name": "stderr",
     "output_type": "stream",
     "text": [
      "2025-03-30 17:40:38,882 - WARNING - Key ALIGN already exists in the dictionary\n",
      "2025-03-30 17:40:38,883 - INFO - Checking category: PROJECT, PROJECT 2 1\n",
      "2025-03-30 17:40:38,884 - INFO - Checking category: RECONSTRUCT, RECONSTRUCT 3 1\n",
      "2025-03-30 17:40:38,884 - INFO - Found is_tomobase_process in translational_misalignment\n",
      "2025-03-30 17:40:38,884 - INFO - Item to be added: Translational Misalignment\n",
      "2025-03-30 17:40:38,884 - INFO - Checking category: DEFORM, DEFORM 0 1\n",
      "2025-03-30 17:40:38,885 - INFO - Checking category: ALIGN, ALIGN 1 1\n"
     ]
    },
    {
     "name": "stdout",
     "output_type": "stream",
     "text": [
      "Confirmed ALIGN 1 1\n"
     ]
    },
    {
     "name": "stderr",
     "output_type": "stream",
     "text": [
      "2025-03-30 17:40:38,887 - WARNING - Key ALIGN already exists in the dictionary\n",
      "2025-03-30 17:40:38,887 - INFO - Checking category: PROJECT, PROJECT 2 1\n",
      "2025-03-30 17:40:38,887 - INFO - Checking category: RECONSTRUCT, RECONSTRUCT 3 1\n",
      "2025-03-30 17:40:38,888 - INFO - Found is_tomobase_process in align_tilt_axis_rotation\n",
      "2025-03-30 17:40:38,888 - INFO - Item to be added: Align Tilt Rotation\n",
      "2025-03-30 17:40:38,888 - INFO - Checking category: DEFORM, DEFORM 0 1\n",
      "2025-03-30 17:40:38,888 - INFO - Checking category: ALIGN, ALIGN 1 1\n"
     ]
    },
    {
     "name": "stdout",
     "output_type": "stream",
     "text": [
      "Confirmed ALIGN 1 1\n"
     ]
    },
    {
     "name": "stderr",
     "output_type": "stream",
     "text": [
      "2025-03-30 17:40:38,890 - WARNING - Key ALIGN already exists in the dictionary\n",
      "2025-03-30 17:40:38,891 - INFO - Checking category: PROJECT, PROJECT 2 1\n",
      "2025-03-30 17:40:38,891 - INFO - Checking category: RECONSTRUCT, RECONSTRUCT 3 1\n",
      "2025-03-30 17:40:38,891 - INFO - Found is_tomobase_process in align_tilt_axis_shift\n",
      "2025-03-30 17:40:38,891 - INFO - Item to be added: Align Tilt Shift\n",
      "2025-03-30 17:40:38,892 - INFO - Checking category: DEFORM, DEFORM 0 1\n",
      "2025-03-30 17:40:38,892 - INFO - Checking category: ALIGN, ALIGN 1 1\n"
     ]
    },
    {
     "name": "stdout",
     "output_type": "stream",
     "text": [
      "Confirmed ALIGN 1 1\n"
     ]
    },
    {
     "name": "stderr",
     "output_type": "stream",
     "text": [
      "2025-03-30 17:40:38,894 - WARNING - Key ALIGN already exists in the dictionary\n",
      "2025-03-30 17:40:38,894 - INFO - Checking category: PROJECT, PROJECT 2 1\n",
      "2025-03-30 17:40:38,894 - INFO - Checking category: RECONSTRUCT, RECONSTRUCT 3 1\n",
      "2025-03-30 17:40:38,894 - INFO - Found is_tomobase_process in backlash_correct\n",
      "2025-03-30 17:40:38,894 - INFO - Item to be added: Align Tilt Rotation\n",
      "2025-03-30 17:40:38,895 - INFO - Checking category: DEFORM, DEFORM 0 1\n",
      "2025-03-30 17:40:38,895 - INFO - Checking category: ALIGN, ALIGN 1 1\n"
     ]
    },
    {
     "name": "stdout",
     "output_type": "stream",
     "text": [
      "Confirmed ALIGN 1 1\n"
     ]
    },
    {
     "name": "stderr",
     "output_type": "stream",
     "text": [
      "2025-03-30 17:40:38,897 - WARNING - Key ALIGN already exists in the dictionary\n",
      "2025-03-30 17:40:38,897 - INFO - Checking category: PROJECT, PROJECT 2 1\n",
      "2025-03-30 17:40:38,897 - INFO - Checking category: RECONSTRUCT, RECONSTRUCT 3 1\n",
      "2025-03-30 17:40:38,897 - INFO - Found is_tomobase_process in project\n",
      "2025-03-30 17:40:38,898 - INFO - Item to be added: Project\n",
      "2025-03-30 17:40:38,898 - INFO - Checking category: DEFORM, DEFORM 0 2\n",
      "2025-03-30 17:40:38,898 - INFO - Checking category: ALIGN, ALIGN 1 2\n",
      "2025-03-30 17:40:38,899 - INFO - Checking category: PROJECT, PROJECT 2 2\n"
     ]
    },
    {
     "name": "stdout",
     "output_type": "stream",
     "text": [
      "Confirmed PROJECT 2 2\n"
     ]
    },
    {
     "name": "stderr",
     "output_type": "stream",
     "text": [
      "2025-03-30 17:40:38,901 - WARNING - Key PROJECT already exists in the dictionary\n",
      "2025-03-30 17:40:38,902 - INFO - Checking category: RECONSTRUCT, RECONSTRUCT 3 2\n",
      "2025-03-30 17:40:38,902 - INFO - Found is_tomobase_process in reconstruct\n",
      "2025-03-30 17:40:38,902 - INFO - Item to be added: Reconstruct\n",
      "2025-03-30 17:40:38,902 - INFO - Checking category: DEFORM, DEFORM 0 <tomobase.registrations.base.Item object at 0x0000021EA4802610>\n",
      "2025-03-30 17:40:38,903 - INFO - Checking category: ALIGN, ALIGN 1 <tomobase.registrations.base.Item object at 0x0000021EA4802610>\n",
      "2025-03-30 17:40:38,903 - INFO - Checking category: PROJECT, PROJECT 2 <tomobase.registrations.base.Item object at 0x0000021EA4802610>\n",
      "2025-03-30 17:40:38,903 - INFO - Checking category: RECONSTRUCT, RECONSTRUCT 3 <tomobase.registrations.base.Item object at 0x0000021EA4802610>\n",
      "2025-03-30 17:40:38,904 - INFO - Found is_tomobase_process in bin\n",
      "2025-03-30 17:40:38,904 - INFO - Item to be added: Bin Data\n",
      "2025-03-30 17:40:38,904 - INFO - Checking category: DEFORM, DEFORM 0 1\n",
      "2025-03-30 17:40:38,904 - INFO - Checking category: ALIGN, ALIGN 1 1\n"
     ]
    },
    {
     "name": "stdout",
     "output_type": "stream",
     "text": [
      "Confirmed ALIGN 1 1\n"
     ]
    },
    {
     "name": "stderr",
     "output_type": "stream",
     "text": [
      "2025-03-30 17:40:38,906 - WARNING - Key ALIGN already exists in the dictionary\n",
      "2025-03-30 17:40:38,906 - INFO - Checking category: PROJECT, PROJECT 2 1\n",
      "2025-03-30 17:40:38,906 - INFO - Checking category: RECONSTRUCT, RECONSTRUCT 3 1\n",
      "2025-03-30 17:40:38,907 - INFO - Found is_tomobase_process in crop_sinogram\n",
      "2025-03-30 17:40:38,907 - INFO - Item to be added: Crop Sinogram\n",
      "2025-03-30 17:40:38,907 - INFO - Checking category: DEFORM, DEFORM 0 1\n",
      "2025-03-30 17:40:38,907 - INFO - Checking category: ALIGN, ALIGN 1 1\n"
     ]
    },
    {
     "name": "stdout",
     "output_type": "stream",
     "text": [
      "Confirmed ALIGN 1 1\n"
     ]
    },
    {
     "name": "stderr",
     "output_type": "stream",
     "text": [
      "2025-03-30 17:40:38,910 - WARNING - Key ALIGN already exists in the dictionary\n",
      "2025-03-30 17:40:38,910 - INFO - Checking category: PROJECT, PROJECT 2 1\n",
      "2025-03-30 17:40:38,910 - INFO - Checking category: RECONSTRUCT, RECONSTRUCT 3 1\n",
      "2025-03-30 17:40:38,911 - INFO - Found is_tomobase_process in normalize\n",
      "2025-03-30 17:40:38,911 - INFO - Item to be added: Normalize\n",
      "2025-03-30 17:40:38,911 - INFO - Checking category: DEFORM, DEFORM 0 1\n",
      "2025-03-30 17:40:38,911 - INFO - Checking category: ALIGN, ALIGN 1 1\n"
     ]
    },
    {
     "name": "stdout",
     "output_type": "stream",
     "text": [
      "Confirmed ALIGN 1 1\n"
     ]
    },
    {
     "name": "stderr",
     "output_type": "stream",
     "text": [
      "2025-03-30 17:40:38,915 - WARNING - Key ALIGN already exists in the dictionary\n",
      "2025-03-30 17:40:38,916 - INFO - Checking category: PROJECT, PROJECT 2 1\n",
      "2025-03-30 17:40:38,916 - INFO - Checking category: RECONSTRUCT, RECONSTRUCT 3 1\n",
      "2025-03-30 17:40:38,916 - INFO - Found is_tomobase_process in pad_sinogram\n",
      "2025-03-30 17:40:38,917 - INFO - Item to be added: Pad Sinogram\n",
      "2025-03-30 17:40:38,917 - INFO - Checking category: DEFORM, DEFORM 0 1\n",
      "2025-03-30 17:40:38,917 - INFO - Checking category: ALIGN, ALIGN 1 1\n"
     ]
    },
    {
     "name": "stdout",
     "output_type": "stream",
     "text": [
      "Confirmed ALIGN 1 1\n"
     ]
    },
    {
     "name": "stderr",
     "output_type": "stream",
     "text": [
      "2025-03-30 17:40:38,920 - WARNING - Key ALIGN already exists in the dictionary\n",
      "2025-03-30 17:40:38,920 - INFO - Checking category: PROJECT, PROJECT 2 1\n",
      "2025-03-30 17:40:38,920 - INFO - Checking category: RECONSTRUCT, RECONSTRUCT 3 1\n",
      "2025-03-30 17:40:38,920 - INFO - Found is_tomobase_process in align_sinogram_center_of_mass\n",
      "2025-03-30 17:40:38,921 - INFO - Item to be added: Centre of Mass\n",
      "2025-03-30 17:40:38,921 - INFO - Checking category: DEFORM, DEFORM 0 1\n",
      "2025-03-30 17:40:38,921 - INFO - Checking category: ALIGN, ALIGN 1 1\n"
     ]
    },
    {
     "name": "stdout",
     "output_type": "stream",
     "text": [
      "Confirmed ALIGN 1 1\n"
     ]
    },
    {
     "name": "stderr",
     "output_type": "stream",
     "text": [
      "2025-03-30 17:40:38,923 - WARNING - Key ALIGN already exists in the dictionary\n",
      "2025-03-30 17:40:38,924 - INFO - Checking category: PROJECT, PROJECT 2 1\n",
      "2025-03-30 17:40:38,924 - INFO - Checking category: RECONSTRUCT, RECONSTRUCT 3 1\n",
      "2025-03-30 17:40:38,924 - INFO - Found is_tomobase_process in align_sinogram_xcorr\n",
      "2025-03-30 17:40:38,925 - INFO - Item to be added: Align Sinogram XCorrelation\n",
      "2025-03-30 17:40:38,925 - INFO - Checking category: DEFORM, DEFORM 0 1\n",
      "2025-03-30 17:40:38,925 - INFO - Checking category: ALIGN, ALIGN 1 1\n"
     ]
    },
    {
     "name": "stdout",
     "output_type": "stream",
     "text": [
      "Confirmed ALIGN 1 1\n"
     ]
    },
    {
     "name": "stderr",
     "output_type": "stream",
     "text": [
      "2025-03-30 17:40:38,927 - WARNING - Key ALIGN already exists in the dictionary\n",
      "2025-03-30 17:40:38,928 - INFO - Checking category: PROJECT, PROJECT 2 1\n",
      "2025-03-30 17:40:38,928 - INFO - Checking category: RECONSTRUCT, RECONSTRUCT 3 1\n",
      "2025-03-30 17:40:38,928 - INFO - Found is_tomobase_process in weight_by_angle\n",
      "2025-03-30 17:40:38,929 - INFO - Item to be added: Weight by Angle\n",
      "2025-03-30 17:40:38,929 - INFO - Checking category: DEFORM, DEFORM 0 1\n",
      "2025-03-30 17:40:38,929 - INFO - Checking category: ALIGN, ALIGN 1 1\n"
     ]
    },
    {
     "name": "stdout",
     "output_type": "stream",
     "text": [
      "Confirmed ALIGN 1 1\n"
     ]
    },
    {
     "name": "stderr",
     "output_type": "stream",
     "text": [
      "2025-03-30 17:40:38,932 - WARNING - Key ALIGN already exists in the dictionary\n",
      "2025-03-30 17:40:38,932 - INFO - Checking category: PROJECT, PROJECT 2 1\n",
      "2025-03-30 17:40:38,933 - INFO - Checking category: RECONSTRUCT, RECONSTRUCT 3 1\n",
      "2025-03-30 17:40:38,933 - INFO - Found is_tomobase_process in align_sinogram_center_of_mass\n",
      "2025-03-30 17:40:38,934 - INFO - Item to be added: Centre of Mass\n",
      "2025-03-30 17:40:38,934 - INFO - Checking category: DEFORM, DEFORM 0 1\n",
      "2025-03-30 17:40:38,934 - INFO - Checking category: ALIGN, ALIGN 1 1\n"
     ]
    },
    {
     "name": "stdout",
     "output_type": "stream",
     "text": [
      "Confirmed ALIGN 1 1\n"
     ]
    },
    {
     "name": "stderr",
     "output_type": "stream",
     "text": [
      "2025-03-30 17:40:38,937 - WARNING - Key ALIGN already exists in the dictionary\n",
      "2025-03-30 17:40:38,937 - INFO - Checking category: PROJECT, PROJECT 2 1\n",
      "2025-03-30 17:40:38,937 - INFO - Checking category: RECONSTRUCT, RECONSTRUCT 3 1\n",
      "2025-03-30 17:40:38,938 - INFO - Found is_tomobase_process in align_sinogram_xcorr\n",
      "2025-03-30 17:40:38,938 - INFO - Item to be added: Align Sinogram XCorrelation\n",
      "2025-03-30 17:40:38,938 - INFO - Checking category: DEFORM, DEFORM 0 1\n",
      "2025-03-30 17:40:38,938 - INFO - Checking category: ALIGN, ALIGN 1 1\n"
     ]
    },
    {
     "name": "stdout",
     "output_type": "stream",
     "text": [
      "Confirmed ALIGN 1 1\n"
     ]
    },
    {
     "name": "stderr",
     "output_type": "stream",
     "text": [
      "2025-03-30 17:40:38,940 - WARNING - Key ALIGN already exists in the dictionary\n",
      "2025-03-30 17:40:38,941 - INFO - Checking category: PROJECT, PROJECT 2 1\n",
      "2025-03-30 17:40:38,941 - INFO - Checking category: RECONSTRUCT, RECONSTRUCT 3 1\n",
      "2025-03-30 17:40:38,941 - INFO - Found is_tomobase_process in align_tilt_axis_rotation\n",
      "2025-03-30 17:40:38,942 - INFO - Item to be added: Align Tilt Rotation\n",
      "2025-03-30 17:40:38,942 - INFO - Checking category: DEFORM, DEFORM 0 1\n",
      "2025-03-30 17:40:38,942 - INFO - Checking category: ALIGN, ALIGN 1 1\n"
     ]
    },
    {
     "name": "stdout",
     "output_type": "stream",
     "text": [
      "Confirmed ALIGN 1 1\n"
     ]
    },
    {
     "name": "stderr",
     "output_type": "stream",
     "text": [
      "2025-03-30 17:40:38,944 - WARNING - Key ALIGN already exists in the dictionary\n",
      "2025-03-30 17:40:38,944 - INFO - Checking category: PROJECT, PROJECT 2 1\n",
      "2025-03-30 17:40:38,946 - INFO - Checking category: RECONSTRUCT, RECONSTRUCT 3 1\n",
      "2025-03-30 17:40:38,946 - INFO - Found is_tomobase_process in align_tilt_axis_shift\n",
      "2025-03-30 17:40:38,946 - INFO - Item to be added: Align Tilt Shift\n",
      "2025-03-30 17:40:38,946 - INFO - Checking category: DEFORM, DEFORM 0 1\n",
      "2025-03-30 17:40:38,947 - INFO - Checking category: ALIGN, ALIGN 1 1\n"
     ]
    },
    {
     "name": "stdout",
     "output_type": "stream",
     "text": [
      "Confirmed ALIGN 1 1\n"
     ]
    },
    {
     "name": "stderr",
     "output_type": "stream",
     "text": [
      "2025-03-30 17:40:38,949 - WARNING - Key ALIGN already exists in the dictionary\n",
      "2025-03-30 17:40:38,949 - INFO - Checking category: PROJECT, PROJECT 2 1\n",
      "2025-03-30 17:40:38,949 - INFO - Checking category: RECONSTRUCT, RECONSTRUCT 3 1\n",
      "2025-03-30 17:40:38,950 - INFO - Found is_tomobase_process in background_subtract_median\n",
      "2025-03-30 17:40:38,950 - INFO - Item to be added: Subtract Median\n",
      "2025-03-30 17:40:38,950 - INFO - Checking category: DEFORM, DEFORM 0 1\n",
      "2025-03-30 17:40:38,951 - INFO - Checking category: ALIGN, ALIGN 1 1\n"
     ]
    },
    {
     "name": "stdout",
     "output_type": "stream",
     "text": [
      "Confirmed ALIGN 1 1\n"
     ]
    },
    {
     "name": "stderr",
     "output_type": "stream",
     "text": [
      "2025-03-30 17:40:38,953 - WARNING - Key ALIGN already exists in the dictionary\n",
      "2025-03-30 17:40:38,954 - INFO - Checking category: PROJECT, PROJECT 2 1\n",
      "2025-03-30 17:40:38,954 - INFO - Checking category: RECONSTRUCT, RECONSTRUCT 3 1\n",
      "2025-03-30 17:40:38,954 - INFO - Found is_tomobase_process in backlash_correct\n",
      "2025-03-30 17:40:38,954 - INFO - Item to be added: Align Tilt Rotation\n",
      "2025-03-30 17:40:38,954 - INFO - Checking category: DEFORM, DEFORM 0 1\n",
      "2025-03-30 17:40:38,956 - INFO - Checking category: ALIGN, ALIGN 1 1\n"
     ]
    },
    {
     "name": "stdout",
     "output_type": "stream",
     "text": [
      "Confirmed ALIGN 1 1\n"
     ]
    },
    {
     "name": "stderr",
     "output_type": "stream",
     "text": [
      "2025-03-30 17:40:38,958 - WARNING - Key ALIGN already exists in the dictionary\n",
      "2025-03-30 17:40:38,958 - INFO - Checking category: PROJECT, PROJECT 2 1\n",
      "2025-03-30 17:40:38,958 - INFO - Checking category: RECONSTRUCT, RECONSTRUCT 3 1\n",
      "2025-03-30 17:40:38,959 - INFO - Found is_tomobase_process in bin\n",
      "2025-03-30 17:40:38,959 - INFO - Item to be added: Bin Data\n",
      "2025-03-30 17:40:38,959 - INFO - Checking category: DEFORM, DEFORM 0 1\n",
      "2025-03-30 17:40:38,959 - INFO - Checking category: ALIGN, ALIGN 1 1\n"
     ]
    },
    {
     "name": "stdout",
     "output_type": "stream",
     "text": [
      "Confirmed ALIGN 1 1\n"
     ]
    },
    {
     "name": "stderr",
     "output_type": "stream",
     "text": [
      "2025-03-30 17:40:38,961 - WARNING - Key ALIGN already exists in the dictionary\n",
      "2025-03-30 17:40:38,961 - INFO - Checking category: PROJECT, PROJECT 2 1\n",
      "2025-03-30 17:40:38,961 - INFO - Checking category: RECONSTRUCT, RECONSTRUCT 3 1\n",
      "2025-03-30 17:40:38,962 - INFO - Found is_tomobase_process in crop_sinogram\n",
      "2025-03-30 17:40:38,962 - INFO - Item to be added: Crop Sinogram\n",
      "2025-03-30 17:40:38,962 - INFO - Checking category: DEFORM, DEFORM 0 1\n",
      "2025-03-30 17:40:38,962 - INFO - Checking category: ALIGN, ALIGN 1 1\n"
     ]
    },
    {
     "name": "stdout",
     "output_type": "stream",
     "text": [
      "Confirmed ALIGN 1 1\n"
     ]
    },
    {
     "name": "stderr",
     "output_type": "stream",
     "text": [
      "2025-03-30 17:40:38,964 - WARNING - Key ALIGN already exists in the dictionary\n",
      "2025-03-30 17:40:38,964 - INFO - Checking category: PROJECT, PROJECT 2 1\n",
      "2025-03-30 17:40:38,965 - INFO - Checking category: RECONSTRUCT, RECONSTRUCT 3 1\n",
      "2025-03-30 17:40:38,965 - INFO - Found is_tomobase_process in gaussian_filter\n",
      "2025-03-30 17:40:38,965 - INFO - Item to be added: Gaussian Filter\n",
      "2025-03-30 17:40:38,965 - INFO - Checking category: DEFORM, DEFORM 0 1\n",
      "2025-03-30 17:40:38,965 - INFO - Checking category: ALIGN, ALIGN 1 1\n"
     ]
    },
    {
     "name": "stdout",
     "output_type": "stream",
     "text": [
      "Confirmed ALIGN 1 1\n"
     ]
    },
    {
     "name": "stderr",
     "output_type": "stream",
     "text": [
      "2025-03-30 17:40:38,967 - WARNING - Key ALIGN already exists in the dictionary\n",
      "2025-03-30 17:40:38,968 - INFO - Checking category: PROJECT, PROJECT 2 1\n",
      "2025-03-30 17:40:38,968 - INFO - Checking category: RECONSTRUCT, RECONSTRUCT 3 1\n",
      "2025-03-30 17:40:38,968 - INFO - Found is_tomobase_process in normalize\n",
      "2025-03-30 17:40:38,968 - INFO - Item to be added: Normalize\n",
      "2025-03-30 17:40:38,969 - INFO - Checking category: DEFORM, DEFORM 0 1\n",
      "2025-03-30 17:40:38,969 - INFO - Checking category: ALIGN, ALIGN 1 1\n"
     ]
    },
    {
     "name": "stdout",
     "output_type": "stream",
     "text": [
      "Confirmed ALIGN 1 1\n"
     ]
    },
    {
     "name": "stderr",
     "output_type": "stream",
     "text": [
      "2025-03-30 17:40:38,972 - WARNING - Key ALIGN already exists in the dictionary\n",
      "2025-03-30 17:40:38,972 - INFO - Checking category: PROJECT, PROJECT 2 1\n",
      "2025-03-30 17:40:38,972 - INFO - Checking category: RECONSTRUCT, RECONSTRUCT 3 1\n",
      "2025-03-30 17:40:38,973 - INFO - Found is_tomobase_process in pad_sinogram\n",
      "2025-03-30 17:40:38,973 - INFO - Item to be added: Pad Sinogram\n",
      "2025-03-30 17:40:38,973 - INFO - Checking category: DEFORM, DEFORM 0 1\n",
      "2025-03-30 17:40:38,973 - INFO - Checking category: ALIGN, ALIGN 1 1\n"
     ]
    },
    {
     "name": "stdout",
     "output_type": "stream",
     "text": [
      "Confirmed ALIGN 1 1\n"
     ]
    },
    {
     "name": "stderr",
     "output_type": "stream",
     "text": [
      "2025-03-30 17:40:38,975 - WARNING - Key ALIGN already exists in the dictionary\n",
      "2025-03-30 17:40:38,975 - INFO - Checking category: PROJECT, PROJECT 2 1\n",
      "2025-03-30 17:40:38,976 - INFO - Checking category: RECONSTRUCT, RECONSTRUCT 3 1\n",
      "2025-03-30 17:40:38,976 - INFO - Found is_tomobase_process in poisson_noise\n",
      "2025-03-30 17:40:38,976 - INFO - Item to be added: Poisson\n",
      "2025-03-30 17:40:38,976 - INFO - Checking category: DEFORM, DEFORM 0 1\n",
      "2025-03-30 17:40:38,976 - INFO - Checking category: ALIGN, ALIGN 1 1\n"
     ]
    },
    {
     "name": "stdout",
     "output_type": "stream",
     "text": [
      "Confirmed ALIGN 1 1\n"
     ]
    },
    {
     "name": "stderr",
     "output_type": "stream",
     "text": [
      "2025-03-30 17:40:38,978 - WARNING - Key ALIGN already exists in the dictionary\n",
      "2025-03-30 17:40:38,978 - INFO - Checking category: PROJECT, PROJECT 2 1\n",
      "2025-03-30 17:40:38,978 - INFO - Checking category: RECONSTRUCT, RECONSTRUCT 3 1\n",
      "2025-03-30 17:40:38,979 - INFO - Found is_tomobase_process in project\n",
      "2025-03-30 17:40:38,979 - INFO - Item to be added: Project\n",
      "2025-03-30 17:40:38,979 - INFO - Checking category: DEFORM, DEFORM 0 2\n",
      "2025-03-30 17:40:38,979 - INFO - Checking category: ALIGN, ALIGN 1 2\n",
      "2025-03-30 17:40:38,980 - INFO - Checking category: PROJECT, PROJECT 2 2\n"
     ]
    },
    {
     "name": "stdout",
     "output_type": "stream",
     "text": [
      "Confirmed PROJECT 2 2\n"
     ]
    },
    {
     "name": "stderr",
     "output_type": "stream",
     "text": [
      "2025-03-30 17:40:38,981 - WARNING - Key PROJECT already exists in the dictionary\n",
      "2025-03-30 17:40:38,981 - INFO - Checking category: RECONSTRUCT, RECONSTRUCT 3 2\n",
      "2025-03-30 17:40:38,981 - INFO - Found is_tomobase_process in reconstruct\n",
      "2025-03-30 17:40:38,982 - INFO - Item to be added: Reconstruct\n",
      "2025-03-30 17:40:38,982 - INFO - Checking category: DEFORM, DEFORM 0 <tomobase.registrations.base.Item object at 0x0000021EA4802610>\n",
      "2025-03-30 17:40:38,982 - INFO - Checking category: ALIGN, ALIGN 1 <tomobase.registrations.base.Item object at 0x0000021EA4802610>\n",
      "2025-03-30 17:40:38,982 - INFO - Checking category: PROJECT, PROJECT 2 <tomobase.registrations.base.Item object at 0x0000021EA4802610>\n",
      "2025-03-30 17:40:38,983 - INFO - Checking category: RECONSTRUCT, RECONSTRUCT 3 <tomobase.registrations.base.Item object at 0x0000021EA4802610>\n",
      "2025-03-30 17:40:38,983 - INFO - Found is_tomobase_process in rotational_misalignment\n",
      "2025-03-30 17:40:38,983 - INFO - Item to be added: Rotational Misalignment\n",
      "2025-03-30 17:40:38,983 - INFO - Checking category: DEFORM, DEFORM 0 1\n",
      "2025-03-30 17:40:38,983 - INFO - Checking category: ALIGN, ALIGN 1 1\n"
     ]
    },
    {
     "name": "stdout",
     "output_type": "stream",
     "text": [
      "Confirmed ALIGN 1 1\n"
     ]
    },
    {
     "name": "stderr",
     "output_type": "stream",
     "text": [
      "2025-03-30 17:40:38,986 - WARNING - Key ALIGN already exists in the dictionary\n",
      "2025-03-30 17:40:38,986 - INFO - Checking category: PROJECT, PROJECT 2 1\n",
      "2025-03-30 17:40:38,986 - INFO - Checking category: RECONSTRUCT, RECONSTRUCT 3 1\n",
      "2025-03-30 17:40:38,986 - INFO - Found is_tomobase_process in translational_misalignment\n",
      "2025-03-30 17:40:38,987 - INFO - Item to be added: Translational Misalignment\n",
      "2025-03-30 17:40:38,987 - INFO - Checking category: DEFORM, DEFORM 0 1\n",
      "2025-03-30 17:40:38,987 - INFO - Checking category: ALIGN, ALIGN 1 1\n"
     ]
    },
    {
     "name": "stdout",
     "output_type": "stream",
     "text": [
      "Confirmed ALIGN 1 1\n"
     ]
    },
    {
     "name": "stderr",
     "output_type": "stream",
     "text": [
      "2025-03-30 17:40:38,990 - WARNING - Key ALIGN already exists in the dictionary\n",
      "2025-03-30 17:40:38,990 - INFO - Checking category: PROJECT, PROJECT 2 1\n",
      "2025-03-30 17:40:38,990 - INFO - Checking category: RECONSTRUCT, RECONSTRUCT 3 1\n",
      "2025-03-30 17:40:38,991 - INFO - Found is_tomobase_process in weight_by_angle\n",
      "2025-03-30 17:40:38,991 - INFO - Item to be added: Weight by Angle\n",
      "2025-03-30 17:40:38,991 - INFO - Checking category: DEFORM, DEFORM 0 1\n",
      "2025-03-30 17:40:38,992 - INFO - Checking category: ALIGN, ALIGN 1 1\n"
     ]
    },
    {
     "name": "stdout",
     "output_type": "stream",
     "text": [
      "Confirmed ALIGN 1 1\n"
     ]
    },
    {
     "name": "stderr",
     "output_type": "stream",
     "text": [
      "2025-03-30 17:40:38,995 - WARNING - Key ALIGN already exists in the dictionary\n",
      "2025-03-30 17:40:38,995 - INFO - Checking category: PROJECT, PROJECT 2 1\n",
      "2025-03-30 17:40:38,995 - INFO - Checking category: RECONSTRUCT, RECONSTRUCT 3 1\n"
     ]
    },
    {
     "name": "stdout",
     "output_type": "stream",
     "text": [
      "\n",
      "\n"
     ]
    },
    {
     "name": "stderr",
     "output_type": "stream",
     "text": [
      "2025-03-30 17:40:38,998 - INFO - Category: PROJECT\n",
      "2025-03-30 17:40:38,998 - WARNING - Item PROJECT is not a dictionary!\n",
      "2025-03-30 17:40:38,998 - INFO - Category: ALIGN\n",
      "2025-03-30 17:40:38,999 - WARNING - Item ALIGN is not a dictionary!\n"
     ]
    },
    {
     "name": "stdout",
     "output_type": "stream",
     "text": [
      "\n",
      "\n"
     ]
    },
    {
     "name": "stderr",
     "output_type": "stream",
     "text": [
      "2025-03-30 17:40:38,999 - INFO - IMAGE: IMAGE, 0\n",
      "2025-03-30 17:40:39,000 - INFO - SINOGRAM: SINOGRAM, 1\n",
      "2025-03-30 17:40:39,000 - INFO - VOLUME: VOLUME, 2\n"
     ]
    },
    {
     "name": "stdout",
     "output_type": "stream",
     "text": [
      "\n",
      "\n"
     ]
    },
    {
     "name": "stderr",
     "output_type": "stream",
     "text": [
      "2025-03-30 17:40:39,001 - INFO - BINARY: BINARY, <class 'tomobase.tiltschemes.binary.Binary'>\n",
      "2025-03-30 17:40:39,001 - INFO - GRS: GRS, <class 'tomobase.tiltschemes.grs.GRS'>\n",
      "2025-03-30 17:40:39,001 - INFO - INCREMENTAL: INCREMENTAL, <class 'tomobase.tiltschemes.incremental.Incremental'>\n"
     ]
    },
    {
     "name": "stdout",
     "output_type": "stream",
     "text": [
      "\n",
      "\n"
     ]
    },
    {
     "name": "stderr",
     "output_type": "stream",
     "text": [
      "2025-03-30 17:40:39,002 - INFO - DEFORM: DEFORM, 0\n",
      "2025-03-30 17:40:39,002 - INFO - ALIGN: ALIGN, 1\n",
      "2025-03-30 17:40:39,002 - INFO - PROJECT: PROJECT, 2\n",
      "2025-03-30 17:40:39,003 - INFO - RECONSTRUCT: RECONSTRUCT, 3\n"
     ]
    },
    {
     "name": "stdout",
     "output_type": "stream",
     "text": [
      "\n",
      "\n",
      "\n",
      "\n",
      "\n",
      "\n"
     ]
    }
   ],
   "source": [
    "import tomobase\n",
    "\n",
    "tomobase.TOMOBASE_PROCESSES.update()\n",
    "print(\"\\n\")\n",
    "tomobase.TOMOBASE_PROCESSES.help()\n",
    "print(\"\\n\")\n",
    "tomobase.TOMOBASE_DATATYPES.help()\n",
    "print(\"\\n\")\n",
    "tomobase.TOMOBASE_TILTSCHEMES.help()\n",
    "print(\"\\n\")\n",
    "tomobase.TOMOBASE_TRANSFORM_CATEGORIES.help()\n",
    "print(\"\\n\")\n",
    "\n",
    "print(\"\\n\\n\\n\")\n",
    "#tomobase.TOMOBASE_PROCESSES.help()\n"
   ]
  }
 ],
 "metadata": {
  "kernelspec": {
   "display_name": "tomo-nap-env",
   "language": "python",
   "name": "python3"
  },
  "language_info": {
   "codemirror_mode": {
    "name": "ipython",
    "version": 3
   },
   "file_extension": ".py",
   "mimetype": "text/x-python",
   "name": "python",
   "nbconvert_exporter": "python",
   "pygments_lexer": "ipython3",
   "version": "3.11.9"
  }
 },
 "nbformat": 4,
 "nbformat_minor": 2
}
