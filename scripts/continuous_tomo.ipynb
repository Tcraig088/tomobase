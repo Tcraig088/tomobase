{
 "cells": [
  {
   "cell_type": "markdown",
   "metadata": {},
   "source": [
    "# Continuous Tomography"
   ]
  },
  {
   "cell_type": "code",
   "execution_count": 1,
   "metadata": {},
   "outputs": [
    {
     "name": "stderr",
     "output_type": "stream",
     "text": [
      "2024-11-25 12:10:58,524 - DEBUG - This is a debug message\n"
     ]
    }
   ],
   "source": [
    "import tomobase\n",
    "import numpy as np\n",
    "import tomobase.phantoms\n",
    "from skimage.metrics import peak_signal_noise_ratio, structural_similarity\n",
    "vol = tomobase.phantoms.nanocage()\n"
   ]
  },
  {
   "cell_type": "code",
   "execution_count": 63,
   "metadata": {},
   "outputs": [
    {
     "data": {
      "application/vnd.jupyter.widget-view+json": {
       "model_id": "393fd781004b42f9960f009ddbb884c2",
       "version_major": 2,
       "version_minor": 0
      },
      "text/plain": [
       "VBox(children=(VBox(children=(HBox(children=(VBox(children=(ImageWidget(height=307, width=307),)),)), IntSlide…"
      ]
     },
     "metadata": {},
     "output_type": "display_data"
    },
    {
     "data": {
      "application/vnd.jupyter.widget-view+json": {
       "model_id": "9a4da949714d45868ce4e3b21a9bf975",
       "version_major": 2,
       "version_minor": 0
      },
      "text/plain": [
       "VBox(children=(VBox(children=(HBox(children=(VBox(children=(ImageWidget(height=307, width=307),)),)), IntSlide…"
      ]
     },
     "metadata": {},
     "output_type": "display_data"
    },
    {
     "name": "stdout",
     "output_type": "stream",
     "text": [
      "False\n"
     ]
    }
   ],
   "source": [
    "\n",
    "import tomobase.processes\n",
    "import tomobase.processes.alignments\n",
    "import tomobase.tiltschemes\n",
    "import stackview\n",
    "\n",
    "\n",
    "scheme = tomobase.tiltschemes.Incremental(-64, 64, 2)\n",
    "angles = np.array([scheme.get_angle() for i in range(64)])\n",
    "ts = tomobase.processes.project(vol, angles)\n",
    "ts_noise = tomobase.processes.alignments.add_noise(ts, 0, 0, inplace=False)\n",
    "\n",
    "ts.show(binning=1)\n",
    "ts_noise.show(binning=1)\n",
    "print(np.any(ts_noise.data < 0))"
   ]
  },
  {
   "cell_type": "code",
   "execution_count": 64,
   "metadata": {},
   "outputs": [
    {
     "name": "stderr",
     "output_type": "stream",
     "text": [
      "2024-11-25 10:55:31,947 - INFO - type of volume: <class 'tomobase.data.volume.Volume'>\n",
      "INFO:tomobase_logger:type of volume: <class 'tomobase.data.volume.Volume'>\n"
     ]
    },
    {
     "name": "stdout",
     "output_type": "stream",
     "text": [
      "0.8503745976376718 22.19590534557192\n"
     ]
    },
    {
     "data": {
      "application/vnd.jupyter.widget-view+json": {
       "model_id": "c99cb4ec4a1a4a33adaa36f3c1d911d5",
       "version_major": 2,
       "version_minor": 0
      },
      "text/plain": [
       "HBox(children=(VBox(children=(HBox(children=(VBox(children=(ImageWidget(height=307, width=307),)),)), IntSlide…"
      ]
     },
     "metadata": {},
     "output_type": "display_data"
    },
    {
     "data": {
      "application/vnd.jupyter.widget-view+json": {
       "model_id": "79bd21c1540645b9a8d9aac03fc2ef7a",
       "version_major": 2,
       "version_minor": 0
      },
      "text/plain": [
       "HBox(children=(VBox(children=(HBox(children=(VBox(children=(ImageWidget(height=307, width=307),)),)), IntSlide…"
      ]
     },
     "metadata": {},
     "output_type": "display_data"
    }
   ],
   "source": [
    "from skimage.filters import threshold_otsu\n",
    "#rec1 = tomobase.processes.reconstruct(ts, method=\"sirt\", iterations=100)\n",
    "rec2 = tomobase.processes.reconstruct(ts_noise, method=\"sirt\", iterations=100)\n",
    "ssim = structural_similarity(vol.data, rec2.data, data_range=1.0)\n",
    "psnr = peak_signal_noise_ratio(vol.data, rec2.data, data_range =1.0)\n",
    "print(ssim, psnr)\n",
    "\n",
    "\n",
    "rec2.show(binning=1)\n",
    "vol.show(binning=1)"
   ]
  },
  {
   "cell_type": "code",
   "execution_count": null,
   "metadata": {},
   "outputs": [],
   "source": [
    "num = 65\n",
    "ssim = [0]*num\n",
    "psnr = [0]*num\n",
    "for i in range(num):\n",
    "    scheme = tomobase.tiltschemes.Incremental(-64, 64, 2)\n",
    "    angles = np.array([scheme.get_angle() for j in range(i+1)])\n",
    "    ts = tomobase.processes.project(vol, angles)\n",
    "    ts_noise = tomobase.processes.alignments.add_noise(ts, 0, 20, inplace=False)\n",
    "    \n",
    "    rec = tomobase.processes.reconstruct(ts_noise, method=\"sirt\", iterations=100)\n",
    "    ssim[i] = structural_similarity(vol.data, rec.data, data_range=1.0)\n",
    "    psnr[i] = peak_signal_noise_ratio(vol.data, rec.data, data_range =1.0)\n",
    "    print(ssim[i], psnr[i])\n",
    "\n",
    "print(i,ssim, psnr)\n",
    "\n",
    "\n",
    "\n"
   ]
  },
  {
   "cell_type": "code",
   "execution_count": null,
   "metadata": {},
   "outputs": [],
   "source": [
    "for i in range(65):\n",
    "    print(psnr[i])\n",
    "\n",
    "#import stackview\n",
    "\n",
    "#stackview.curtain(vol.data, rec.data)"
   ]
  },
  {
   "cell_type": "code",
   "execution_count": 27,
   "metadata": {},
   "outputs": [
    {
     "name": "stdout",
     "output_type": "stream",
     "text": [
      "-64\n",
      "-35.55555555555556\n",
      "-7.111111111111114\n",
      "21.33333333333333\n",
      "49.77777777777777\n",
      "35.55555555555556\n",
      "7.111111111111114\n",
      "-21.33333333333333\n",
      "-49.77777777777777\n",
      "-56.888888888888886\n",
      "-28.444444444444443\n",
      "0.0\n",
      "28.444444444444443\n",
      "56.888888888888886\n",
      "42.66666666666667\n",
      "14.222222222222229\n",
      "-14.222222222222214\n",
      "-42.66666666666666\n",
      "-60.44444444444444\n",
      "-32.0\n",
      "-3.555555555555557\n",
      "24.888888888888886\n",
      "53.33333333333333\n",
      "39.111111111111114\n",
      "10.666666666666671\n",
      "-17.77777777777777\n",
      "-46.222222222222214\n",
      "-53.333333333333336\n",
      "-24.888888888888893\n",
      "3.55555555555555\n",
      "31.999999999999993\n",
      "60.444444444444436\n",
      "46.222222222222214\n",
      "17.77777777777777\n",
      "-10.666666666666671\n",
      "-39.111111111111114\n",
      "-62.22222222222222\n",
      "-33.77777777777778\n",
      "-5.333333333333336\n",
      "23.111111111111107\n",
      "51.55555555555555\n",
      "37.33333333333333\n",
      "8.888888888888886\n",
      "-19.555555555555557\n",
      "-48.0\n",
      "-58.666666666666664\n",
      "-30.22222222222222\n",
      "-1.7777777777777786\n",
      "26.666666666666664\n",
      "55.11111111111111\n",
      "40.888888888888886\n",
      "12.444444444444443\n",
      "-16.0\n",
      "-44.44444444444444\n",
      "-55.111111111111114\n",
      "-26.66666666666667\n",
      "1.7777777777777715\n",
      "30.222222222222214\n",
      "58.66666666666666\n",
      "44.44444444444444\n",
      "16.0\n",
      "-12.444444444444443\n",
      "-40.888888888888886\n",
      "-51.55555555555556\n",
      "-23.111111111111114\n"
     ]
    }
   ],
   "source": [
    "\n",
    "\n",
    "max_angle = 64\n",
    "min_angle = -64\n",
    "n_images=0\n",
    "k= 2\n",
    "step =  (max_angle - min_angle)/(k+0.5)\n",
    "\n",
    "\n",
    "offset=0\n",
    "offset_set = 2\n",
    "angles= [None]*65\n",
    "isforward = True\n",
    "for i in range(65):\n",
    "    if i == 0:\n",
    "        angles[i] = min_angle\n",
    "    else:\n",
    "        if (angles[i-1] + step)>= max_angle:\n",
    "            if (offset+0.5)>=1:\n",
    "                if offset == (offset_set-1)/offset_set:\n",
    "                    offset_set = offset_set*2\n",
    "                    offset_run = 1/offset_set\n",
    "                    offset=offset_run\n",
    "                else:\n",
    "                    offset_run += 2/offset_set\n",
    "                    offset = offset_run  \n",
    "            else:\n",
    "                offset += 0.5\n",
    "            angles[i] = min_angle+(offset*step)\n",
    "        else:\n",
    "            angles[i] = angles[i-1]+step\n",
    "    #print( angles[i])\n",
    "\n",
    "max_angle = 64\n",
    "min_angle = -64\n",
    "n_images=0\n",
    "k= 4\n",
    "step =  (max_angle - min_angle)/(k+0.5)\n",
    "\n",
    "\n",
    "offset=0\n",
    "offset_set = 2\n",
    "angles= [None]*65\n",
    "isforward = True\n",
    "max_cutoff = (max_angle)-(step/2)\n",
    "for i in range(65):\n",
    "    if i == 0:\n",
    "        angles[i] = min_angle\n",
    "    else:\n",
    "        if isforward:\n",
    "            if (angles[i-1] + step)>= max_angle:\n",
    "                if (offset+0.5)>=1:\n",
    "                    if offset == (offset_set-1)/offset_set:\n",
    "                        offset_set = offset_set*2\n",
    "                        offset_run = 1/offset_set\n",
    "                        offset=offset_run\n",
    "                    else:\n",
    "                        offset_run += 2/offset_set\n",
    "                        offset = offset_run  \n",
    "                else:\n",
    "                    offset += 0.5\n",
    "                isforward = False\n",
    "                if (max_cutoff + (step*offset))>=max_angle:\n",
    "                    angles[i] = max_cutoff + (step*offset) - step\n",
    "                else:\n",
    "                    angles[i] = max_cutoff + (step*offset)\n",
    "                step *= -1\n",
    "            else:\n",
    "                angles[i] = angles[i-1]+step\n",
    "        else:\n",
    "            if (angles[i-1] + step)<= min_angle:\n",
    "                if (offset+0.5)>=1:\n",
    "                    if offset == (offset_set-1)/offset_set:\n",
    "                        offset_set = offset_set*2\n",
    "                        offset_run = 1/offset_set\n",
    "                        offset=offset_run\n",
    "                    else:\n",
    "                        offset_run += 2/offset_set\n",
    "                        offset = offset_run  \n",
    "                else:\n",
    "                    offset += 0.5\n",
    "                isforward = True\n",
    "                angles[i] = min_angle+(offset*np.abs(step))\n",
    "                step *= -1\n",
    "            else:\n",
    "                angles[i] = angles[i-1]+step\n",
    "    print( angles[i])\n"
   ]
  }
 ],
 "metadata": {
  "kernelspec": {
   "display_name": "tomo-dipster",
   "language": "python",
   "name": "python3"
  },
  "language_info": {
   "codemirror_mode": {
    "name": "ipython",
    "version": 3
   },
   "file_extension": ".py",
   "mimetype": "text/x-python",
   "name": "python",
   "nbconvert_exporter": "python",
   "pygments_lexer": "ipython3",
   "version": "3.11.5"
  }
 },
 "nbformat": 4,
 "nbformat_minor": 2
}
