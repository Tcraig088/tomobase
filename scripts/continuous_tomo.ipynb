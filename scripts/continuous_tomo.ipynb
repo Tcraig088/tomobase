{
 "cells": [
  {
   "cell_type": "markdown",
   "metadata": {},
   "source": [
    "# Continuous Tomography\n",
    "\n",
    "This Juypter Notebook is a tutorial for generating simulated data for the publication: ..................\n",
    "\n",
    "Table of Contents\n"
   ]
  },
  {
   "cell_type": "markdown",
   "metadata": {},
   "source": [
    "## 1. Manage Imports \n",
    "This section is to manage imports for libraries necessary to run the code. Data will be simulated from the Nanocage 3D volume."
   ]
  },
  {
   "cell_type": "code",
   "execution_count": 1,
   "metadata": {},
   "outputs": [
    {
     "name": "stderr",
     "output_type": "stream",
     "text": [
      "2024-12-01 22:00:34,893 - DEBUG - This is a debug message\n",
      "ERROR:root:hyperspy module not found.\n"
     ]
    }
   ],
   "source": [
    "import tomobase\n",
    "import numpy as np\n",
    "import tomobase.phantoms\n",
    "import tomobase.processes\n",
    "import tomobase.processes.alignments\n",
    "import tomobase.tiltschemes\n",
    "\n",
    "\n",
    "from skimage.metrics import peak_signal_noise_ratio, structural_similarity\n",
    "vol = tomobase.phantoms.nanocage()\n"
   ]
  },
  {
   "cell_type": "code",
   "execution_count": null,
   "metadata": {},
   "outputs": [],
   "source": [
    "def quantify_backlash(scheme, n_angles, cumulation):\n",
    "    backlash = 2\n",
    "    angles = np.array([scheme.get_angle() for i in range(n_angles)])\n",
    "    added_backlash = 0 \n",
    "    for i, angle in enumerate(angles):\n",
    "        if i ==0:\n",
    "            pass\n",
    "        elif angle<angles[i-1]:\n",
    "            angles[i] -= backlash\n",
    "            added_backlash += backlash\n",
    "    cumulative_backlash = cumulation + added_backlash\n",
    "    index = n_angles\n",
    "    \n",
    "    return index, added_backlash, cumulative_backlash\n",
    "\n",
    "def process_with_backlash(scheme, n_angles):\n",
    "    backlash = 2\n",
    "    angles = np.array([scheme.get_angle() for i in range(n_angles)])\n",
    "    for i, angle in enumerate(angles):\n",
    "        if i ==0:\n",
    "            pass\n",
    "        elif angle<angles[i-1]:\n",
    "            angles[i] -= backlash\n",
    "    ts = tomobase.processes.project(vol, angles)\n",
    "    ts_noise = tomobase.processes.alignments.add_noise(ts, 0, 0, inplace=False)\n",
    "    rec = tomobase.processes.reconstruct(ts_noise, method=\"sirt\", iterations=100)\n",
    "    ssim = structural_similarity(vol.data, rec.data, data_range=1.0)\n",
    "    psnr = peak_signal_noise_ratio(vol.data, rec.data, data_range =1.0)\n",
    "    index = n_angles\n",
    "    \n",
    "    return index, ssim, psnr"
   ]
  },
  {
   "cell_type": "code",
   "execution_count": null,
   "metadata": {},
   "outputs": [],
   "source": [
    "def process_calculate_psnr_ssim(scheme, n_angles):\n",
    "        angles = np.array([scheme.get_angle() for j in range(n_angles)])\n",
    "        ts = tomobase.processes.project(vol, angles)\n",
    "        ts_noise = tomobase.processes.alignments.add_noise(ts, 0, 0, inplace=False)\n",
    "        rec = tomobase.processes.reconstruct(ts_noise, method=\"sirt\", iterations=100)\n",
    "        ssim = structural_similarity(vol.data, rec.data, data_range=1.0)\n",
    "        psnr = peak_signal_noise_ratio(vol.data, rec.data, data_range =1.0)\n",
    "        index = n_angles\n",
    "\n",
    "        return index, psnr, ssim"
   ]
  },
  {
   "cell_type": "markdown",
   "metadata": {},
   "source": [
    "## Processes\n",
    "### Incremental Scanning\n",
    "\n",
    "The following is a script for running a process for incremental scanning"
   ]
  },
  {
   "cell_type": "code",
   "execution_count": null,
   "metadata": {},
   "outputs": [],
   "source": [
    "schemes = [tomobase.tiltschemes.Incremental(-64, 64, 32), \n",
    "           tomobase.tiltschemes.Incremental(-64, 64, 16),\n",
    "           tomobase.tiltschemes.Incremental(-64, 64, 8),\n",
    "           tomobase.tiltschemes.Incremental(-64, 64, 4),\n",
    "           tomobase.tiltschemes.Incremental(-64, 64, 2)]\n",
    "\n",
    "n_angles = [5, 9, 17, 33, 65]\n",
    "array = np.zeros((len(schemes), 3))\n",
    "for i, item in enumerate(schemes):\n",
    "    array[i,0], array[i,1], array[i,2] = process_calculate_psnr_ssim(item, n_angles[i])\n",
    "    \n",
    "for i, item in enumerate(schemes):\n",
    "    print(array[i,0], array[i,1], array[i,2])"
   ]
  },
  {
   "cell_type": "markdown",
   "metadata": {},
   "source": [
    "### GRS\n",
    "\n",
    "Loop for performing GRS acquisition and analysis"
   ]
  },
  {
   "cell_type": "code",
   "execution_count": null,
   "metadata": {},
   "outputs": [],
   "source": [
    "num = 65\n",
    "ssim = [None]*num\n",
    "psnr = [None]*num\n",
    "index = [None]*num\n",
    "\n",
    "cumulation = 0\n",
    "array = np.zeros((num, 3))\n",
    "for i in range(num):\n",
    "    scheme = tomobase.tiltschemes.GRS(-64, 64)\n",
    "    angles = np.array([scheme.get_angle() for j in range(i+1)])\n",
    "    array[i,0], array[i,1], array[i,2] = quantify_backlash(scheme, i+1, cumulation)\n",
    "    cumulation = array[i,2]\n",
    "        \n",
    "for i in range(len(index)):    \n",
    "    print(array[i,0], array[i,1], array[i,2])"
   ]
  },
  {
   "cell_type": "markdown",
   "metadata": {},
   "source": [
    "### Binary"
   ]
  },
  {
   "cell_type": "code",
   "execution_count": null,
   "metadata": {},
   "outputs": [],
   "source": [
    "num = 65\n",
    "array = np.full((num, 3), np.nan)\n",
    "for i in range(num):\n",
    "    scheme = tomobase.tiltschemes.Binary(-64, 64, 8)\n",
    "    angles = np.array([scheme.get_angle() for j in range(i+1)])\n",
    "\n",
    "    full_set =False\n",
    "    if i >= 2:\n",
    "        if (angles[-1]>angles[-2]) and (angles[-2]<angles[-3]):\n",
    "            full_set = True\n",
    "        if (angles[-1]<angles[-2]) and (angles[-2]>angles[-3]):\n",
    "            full_set = True\n",
    "    \n",
    "    if full_set:\n",
    "        angles = np.array([scheme.get_angle() for j in range(i)])\n",
    "        array[i,0], array[i,1], array[i,2] = process_with_backlash(scheme, i) \n",
    "        \n",
    "    \n",
    "array = array[~np.isnan(array).any(axis=1)]\n",
    "for i in range(array.shape[0]):    \n",
    "    print(array[i,0], array[i,1], array[i,2])"
   ]
  },
  {
   "cell_type": "code",
   "execution_count": null,
   "metadata": {},
   "outputs": [
    {
     "name": "stderr",
     "output_type": "stream",
     "text": [
      "2024-12-01 22:29:22,265 - INFO - type of volume: <class 'tomobase.data.volume.Volume'>\n",
      "INFO:tomobase_logger:type of volume: <class 'tomobase.data.volume.Volume'>\n"
     ]
    },
    {
     "name": "stdout",
     "output_type": "stream",
     "text": [
      "4.874414982374111 0.8434934754075916 22.07997460708114 0.8505814880138284 22.241812592471568\n"
     ]
    }
   ],
   "source": [
    "scheme = tomobase.tiltschemes.Binary(-64, 64, 8)\n",
    "angles = np.array([scheme.get_angle() for j in range(65)])\n",
    "sino = tomobase.processes.project(vol, angles)\n",
    "\n",
    "indices = np.where(np.diff(sino.angles) < 0)[0] + 1\n",
    "sino.angles[indices] -= 0.5\n",
    "rec = tomobase.processes.reconstruct(sino, method=\"sirt\", iterations=100)\n",
    "ssim_uncorrected = structural_similarity(vol.data, rec.data, data_range=1.0)\n",
    "psnr_uncorrected = peak_signal_noise_ratio(vol.data, rec.data, data_range =1.0)\n",
    "\n",
    "\n",
    "indices = np.where(np.diff(sino.angles) < 0)[0] + 1\n",
    "sino.angles[indices] -= 5\n",
    "#sino, correction = tomobase.processes.alignments.backlash_correct(sino, extend_return=True)\n",
    "#rec = tomobase.processes.reconstruct(sino, method=\"sirt\", iterations=100)\n",
    "#ssim_corrected = structural_similarity(vol.data, rec.data, data_range=1.0)\n",
    "#psnr_corrected = peak_signal_noise_ratio(vol.data, rec.data, data_range =1.0)\n",
    "\n",
    "print(correction, ssim_uncorrected, psnr_uncorrected, ssim_corrected, psnr_corrected)"
   ]
  }
 ],
 "metadata": {
  "kernelspec": {
   "display_name": "tomo-nap-env",
   "language": "python",
   "name": "python3"
  },
  "language_info": {
   "codemirror_mode": {
    "name": "ipython",
    "version": 3
   },
   "file_extension": ".py",
   "mimetype": "text/x-python",
   "name": "python",
   "nbconvert_exporter": "python",
   "pygments_lexer": "ipython3",
   "version": "3.11.10"
  }
 },
 "nbformat": 4,
 "nbformat_minor": 2
}
