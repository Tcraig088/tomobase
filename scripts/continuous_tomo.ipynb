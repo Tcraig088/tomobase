{
 "cells": [
  {
   "cell_type": "markdown",
   "metadata": {},
   "source": [
    "# Continuous Tomography\n",
    "\n",
    "This Juypter Notebook is a tutorial for generating simulated data for the publication: ..................\n",
    "\n",
    "Table of Contents\n"
   ]
  },
  {
   "cell_type": "markdown",
   "metadata": {},
   "source": [
    "## 1. Manage Imports \n",
    "This section is to manage imports for libraries necessary to run the code. Data will be simulated from the Nanocage 3D volume."
   ]
  },
  {
   "cell_type": "code",
   "execution_count": null,
   "metadata": {},
   "outputs": [],
   "source": [
    "import tomobase\n",
    "import numpy as np\n",
    "import tomobase.phantoms\n",
    "import tomobase.processes\n",
    "import tomobase.processes.alignments\n",
    "import tomobase.tiltschemes\n",
    "\n",
    "\n",
    "from skimage.metrics import peak_signal_noise_ratio, structural_similarity\n",
    "vol = tomobase.phantoms.nanocage()\n"
   ]
  },
  {
   "cell_type": "code",
   "execution_count": 36,
   "metadata": {},
   "outputs": [],
   "source": [
    "def quantify_backlash(scheme, n_angles, cumulation):\n",
    "    backlash = 2\n",
    "    angles = np.array([scheme.get_angle() for i in range(n_angles)])\n",
    "    added_backlash = 0 \n",
    "    for i, angle in enumerate(angles):\n",
    "        if i ==0:\n",
    "            pass\n",
    "        elif angle<angles[i-1]:\n",
    "            angles[i] -= backlash\n",
    "            added_backlash += backlash\n",
    "    cumulative_backlash = cumulation + added_backlash\n",
    "    index = n_angles\n",
    "    \n",
    "    return index, added_backlash, cumulative_backlash\n",
    "\n",
    "def process_with_backlash(scheme, n_angles):\n",
    "    backlash = 2\n",
    "    angles = np.array([scheme.get_angle() for i in range(n_angles)])\n",
    "    for i, angle in enumerate(angles):\n",
    "        if i ==0:\n",
    "            pass\n",
    "        elif angle<angles[i-1]:\n",
    "            angles[i] -= backlash\n",
    "    ts = tomobase.processes.project(vol, angles)\n",
    "    ts_noise = tomobase.processes.alignments.add_noise(ts, 0, 0, inplace=False)\n",
    "    rec = tomobase.processes.reconstruct(ts_noise, method=\"sirt\", iterations=100)\n",
    "    ssim = structural_similarity(vol.data, rec.data, data_range=1.0)\n",
    "    psnr = peak_signal_noise_ratio(vol.data, rec.data, data_range =1.0)\n",
    "    index = n_angles\n",
    "    \n",
    "    return index, ssim, psnr"
   ]
  },
  {
   "cell_type": "code",
   "execution_count": null,
   "metadata": {},
   "outputs": [],
   "source": [
    "def process_calculate_psnr_ssim(scheme, n_angles):\n",
    "        angles = np.array([scheme.get_angle() for j in range(n_angles)])\n",
    "        ts = tomobase.processes.project(vol, angles)\n",
    "        ts_noise = tomobase.processes.alignments.add_noise(ts, 0, 0, inplace=False)\n",
    "        rec = tomobase.processes.reconstruct(ts_noise, method=\"sirt\", iterations=100)\n",
    "        ssim = structural_similarity(vol.data, rec.data, data_range=1.0)\n",
    "        psnr = peak_signal_noise_ratio(vol.data, rec.data, data_range =1.0)\n",
    "        index = n_angles\n",
    "\n",
    "        return index, psnr, ssim"
   ]
  },
  {
   "cell_type": "markdown",
   "metadata": {},
   "source": [
    "## Processes\n",
    "### Incremental Scanning\n",
    "\n",
    "The following is a script for running a process for incremental scanning"
   ]
  },
  {
   "cell_type": "code",
   "execution_count": null,
   "metadata": {},
   "outputs": [],
   "source": [
    "schemes = [tomobase.tiltschemes.Incremental(-64, 64, 32), \n",
    "           tomobase.tiltschemes.Incremental(-64, 64, 16),\n",
    "           tomobase.tiltschemes.Incremental(-64, 64, 8),\n",
    "           tomobase.tiltschemes.Incremental(-64, 64, 4),\n",
    "           tomobase.tiltschemes.Incremental(-64, 64, 2)]\n",
    "\n",
    "n_angles = [5, 9, 17, 33, 65]\n",
    "array = np.zeros((len(schemes), 3))\n",
    "for i, item in enumerate(schemes):\n",
    "    array[i,0], array[i,1], array[i,2] = process_calculate_psnr_ssim(item, n_angles[i])\n",
    "    \n",
    "for i, item in enumerate(schemes):\n",
    "    print(array[i,0], array[i,1], array[i,2])"
   ]
  },
  {
   "cell_type": "markdown",
   "metadata": {},
   "source": [
    "### GRS\n",
    "\n",
    "Loop for performing GRS acquisition and analysis"
   ]
  },
  {
   "cell_type": "code",
   "execution_count": 37,
   "metadata": {},
   "outputs": [
    {
     "name": "stdout",
     "output_type": "stream",
     "text": [
      "1.0 0.0 0.0\n",
      "2.0 2.0 2.0\n",
      "3.0 2.0 4.0\n",
      "4.0 2.0 6.0\n",
      "5.0 6.0 12.0\n",
      "6.0 6.0 18.0\n",
      "7.0 8.0 26.0\n",
      "8.0 8.0 34.0\n",
      "9.0 10.0 44.0\n",
      "10.0 12.0 56.0\n",
      "11.0 12.0 68.0\n",
      "12.0 12.0 80.0\n",
      "13.0 16.0 96.0\n",
      "14.0 16.0 112.0\n",
      "15.0 18.0 130.0\n",
      "16.0 18.0 148.0\n",
      "17.0 20.0 168.0\n",
      "18.0 22.0 190.0\n",
      "19.0 22.0 212.0\n",
      "20.0 24.0 236.0\n",
      "21.0 24.0 260.0\n",
      "22.0 26.0 286.0\n",
      "23.0 28.0 314.0\n",
      "24.0 28.0 342.0\n",
      "25.0 28.0 370.0\n",
      "26.0 32.0 402.0\n",
      "27.0 32.0 434.0\n",
      "28.0 34.0 468.0\n",
      "29.0 34.0 502.0\n",
      "30.0 36.0 538.0\n",
      "31.0 38.0 576.0\n",
      "32.0 38.0 614.0\n",
      "33.0 38.0 652.0\n",
      "34.0 42.0 694.0\n",
      "35.0 42.0 736.0\n",
      "36.0 44.0 780.0\n",
      "37.0 44.0 824.0\n",
      "38.0 44.0 868.0\n",
      "39.0 48.0 916.0\n",
      "40.0 48.0 964.0\n",
      "41.0 50.0 1014.0\n",
      "42.0 50.0 1064.0\n",
      "43.0 52.0 1116.0\n",
      "44.0 54.0 1170.0\n",
      "45.0 54.0 1224.0\n",
      "46.0 54.0 1278.0\n",
      "47.0 58.0 1336.0\n",
      "48.0 58.0 1394.0\n",
      "49.0 60.0 1454.0\n",
      "50.0 60.0 1514.0\n",
      "51.0 62.0 1576.0\n",
      "52.0 64.0 1640.0\n",
      "53.0 64.0 1704.0\n",
      "54.0 66.0 1770.0\n",
      "55.0 66.0 1836.0\n",
      "56.0 68.0 1904.0\n",
      "57.0 70.0 1974.0\n",
      "58.0 70.0 2044.0\n",
      "59.0 70.0 2114.0\n",
      "60.0 74.0 2188.0\n",
      "61.0 74.0 2262.0\n",
      "62.0 76.0 2338.0\n",
      "63.0 76.0 2414.0\n",
      "64.0 78.0 2492.0\n",
      "65.0 80.0 2572.0\n"
     ]
    }
   ],
   "source": [
    "num = 65\n",
    "ssim = [None]*num\n",
    "psnr = [None]*num\n",
    "index = [None]*num\n",
    "\n",
    "cumulation = 0\n",
    "array = np.zeros((num, 3))\n",
    "for i in range(num):\n",
    "    scheme = tomobase.tiltschemes.GRS(-64, 64)\n",
    "    angles = np.array([scheme.get_angle() for j in range(i+1)])\n",
    "    array[i,0], array[i,1], array[i,2] = quantify_backlash(scheme, i+1, cumulation)\n",
    "    cumulation = array[i,2]\n",
    "        \n",
    "for i in range(len(index)):    \n",
    "    print(array[i,0], array[i,1], array[i,2])"
   ]
  },
  {
   "cell_type": "markdown",
   "metadata": {},
   "source": [
    "### Binary"
   ]
  },
  {
   "cell_type": "code",
   "execution_count": 38,
   "metadata": {},
   "outputs": [
    {
     "name": "stderr",
     "output_type": "stream",
     "text": [
      "2024-11-26 17:03:58,268 - INFO - type of volume: <class 'tomobase.data.volume.Volume'>\n",
      "INFO:tomobase_logger:type of volume: <class 'tomobase.data.volume.Volume'>\n",
      "2024-11-26 17:04:26,257 - INFO - type of volume: <class 'tomobase.data.volume.Volume'>\n",
      "INFO:tomobase_logger:type of volume: <class 'tomobase.data.volume.Volume'>\n",
      "2024-11-26 17:04:54,481 - INFO - type of volume: <class 'tomobase.data.volume.Volume'>\n",
      "INFO:tomobase_logger:type of volume: <class 'tomobase.data.volume.Volume'>\n",
      "2024-11-26 17:05:21,693 - INFO - type of volume: <class 'tomobase.data.volume.Volume'>\n",
      "INFO:tomobase_logger:type of volume: <class 'tomobase.data.volume.Volume'>\n",
      "2024-11-26 17:05:50,278 - INFO - type of volume: <class 'tomobase.data.volume.Volume'>\n",
      "INFO:tomobase_logger:type of volume: <class 'tomobase.data.volume.Volume'>\n",
      "2024-11-26 17:06:20,203 - INFO - type of volume: <class 'tomobase.data.volume.Volume'>\n",
      "INFO:tomobase_logger:type of volume: <class 'tomobase.data.volume.Volume'>\n",
      "2024-11-26 17:06:51,888 - INFO - type of volume: <class 'tomobase.data.volume.Volume'>\n",
      "INFO:tomobase_logger:type of volume: <class 'tomobase.data.volume.Volume'>\n"
     ]
    },
    {
     "name": "stdout",
     "output_type": "stream",
     "text": [
      "9.0 0.7435413057751641 17.06704126644558\n",
      "18.0 0.8004658461234208 20.848143352784803\n",
      "26.0 0.8240465041244672 22.086736993710577\n",
      "35.0 0.8186943875196561 21.57461082285444\n",
      "43.0 0.8243417110138602 21.80955610517958\n",
      "52.0 0.8418667458636405 22.528834086732545\n",
      "60.0 0.8378206317040944 22.391449928791282\n"
     ]
    }
   ],
   "source": [
    "num = 65\n",
    "array = np.full((num, 3), np.nan)\n",
    "for i in range(num):\n",
    "    scheme = tomobase.tiltschemes.Binary(-64, 64, 8)\n",
    "    angles = np.array([scheme.get_angle() for j in range(i+1)])\n",
    "\n",
    "    full_set =False\n",
    "    if i >= 2:\n",
    "        if (angles[-1]>angles[-2]) and (angles[-2]<angles[-3]):\n",
    "            full_set = True\n",
    "        if (angles[-1]<angles[-2]) and (angles[-2]>angles[-3]):\n",
    "            full_set = True\n",
    "    \n",
    "    if full_set:\n",
    "        angles = np.array([scheme.get_angle() for j in range(i)])\n",
    "        array[i,0], array[i,1], array[i,2] = process_with_backlash(scheme, i) \n",
    "        \n",
    "    \n",
    "array = array[~np.isnan(array).any(axis=1)]\n",
    "for i in range(array.shape[0]):    \n",
    "    print(array[i,0], array[i,1], array[i,2])"
   ]
  }
 ],
 "metadata": {
  "kernelspec": {
   "display_name": "tomo-nap-env",
   "language": "python",
   "name": "python3"
  },
  "language_info": {
   "codemirror_mode": {
    "name": "ipython",
    "version": 3
   },
   "file_extension": ".py",
   "mimetype": "text/x-python",
   "name": "python",
   "nbconvert_exporter": "python",
   "pygments_lexer": "ipython3",
   "version": "3.11.10"
  }
 },
 "nbformat": 4,
 "nbformat_minor": 2
}
